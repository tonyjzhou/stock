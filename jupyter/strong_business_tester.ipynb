{
 "cells": [
  {
   "cell_type": "markdown",
   "id": "817e3535-7124-4fcb-8d03-4a9177b08e6e",
   "metadata": {},
   "source": [
    "# Strong business tester\n",
    "\n",
    "This notebook tries to test if a business is strong based on some financial parameters:\n",
    "\n",
    "* Strong free cash flow\n",
    "* Strong balance sheet"
   ]
  },
  {
   "cell_type": "code",
   "execution_count": 1,
   "id": "9715f194-f801-4685-8ba7-7f948d5fe6e9",
   "metadata": {
    "tags": []
   },
   "outputs": [],
   "source": [
    "from yahooquery import Ticker"
   ]
  },
  {
   "cell_type": "code",
   "execution_count": 2,
   "id": "fe5fb293-1de9-4df4-a916-0d0ce9a27436",
   "metadata": {
    "tags": []
   },
   "outputs": [],
   "source": [
    "ticker = Ticker('coin')"
   ]
  },
  {
   "cell_type": "markdown",
   "id": "6eb72e9d-0865-4045-8e84-eebc38a697e4",
   "metadata": {},
   "source": [
    "## Cash flow analysis"
   ]
  },
  {
   "cell_type": "code",
   "execution_count": 3,
   "id": "1249eb01-14ff-4f54-87f9-70f56b2176aa",
   "metadata": {
    "tags": []
   },
   "outputs": [],
   "source": [
    "cash_flow = ticker.cash_flow()"
   ]
  },
  {
   "cell_type": "code",
   "execution_count": 4,
   "id": "1c44d5c6-0e9e-4a07-b666-9472e58657b7",
   "metadata": {
    "tags": []
   },
   "outputs": [
    {
     "data": {
      "text/plain": [
       "pandas.core.frame.DataFrame"
      ]
     },
     "execution_count": 4,
     "metadata": {},
     "output_type": "execute_result"
    }
   ],
   "source": [
    "type(cash_flow)"
   ]
  },
  {
   "cell_type": "code",
   "execution_count": 5,
   "id": "7a12144f-17b6-4987-ad58-522c64524262",
   "metadata": {
    "tags": []
   },
   "outputs": [
    {
     "data": {
      "text/plain": [
       "Index(['asOfDate', 'periodType', 'currencyCode', 'AssetImpairmentCharge',\n",
       "       'BeginningCashPosition', 'CapitalExpenditure',\n",
       "       'CapitalExpenditureReported',\n",
       "       'CashFlowFromContinuingFinancingActivities',\n",
       "       'CashFlowFromContinuingInvestingActivities',\n",
       "       'CashFlowFromContinuingOperatingActivities', 'ChangeInAccountPayable',\n",
       "       'ChangeInCashSupplementalAsReported', 'ChangeInOtherCurrentAssets',\n",
       "       'ChangeInOtherCurrentLiabilities', 'ChangeInOtherWorkingCapital',\n",
       "       'ChangeInPayable', 'ChangeInPayablesAndAccruedExpense',\n",
       "       'ChangeInPrepaidAssets', 'ChangeInReceivables',\n",
       "       'ChangeInWorkingCapital', 'ChangesInAccountReceivables',\n",
       "       'ChangesInCash', 'DeferredIncomeTax', 'DeferredTax',\n",
       "       'DepreciationAmortizationDepletion', 'DepreciationAndAmortization',\n",
       "       'EffectOfExchangeRateChanges', 'EndCashPosition', 'FinancingCashFlow',\n",
       "       'FreeCashFlow', 'GainLossOnInvestmentSecurities', 'GainLossOnSaleOfPPE',\n",
       "       'IncomeTaxPaidSupplementalData', 'InterestPaidSupplementalData',\n",
       "       'InvestingCashFlow', 'IssuanceOfDebt', 'LongTermDebtIssuance',\n",
       "       'NetBusinessPurchaseAndSale', 'NetForeignCurrencyExchangeGainLoss',\n",
       "       'NetIncome', 'NetIncomeFromContinuingOperations',\n",
       "       'NetIntangiblesPurchaseAndSale', 'NetInvestmentPurchaseAndSale',\n",
       "       'NetIssuancePaymentsOfDebt', 'NetLongTermDebtIssuance',\n",
       "       'NetOtherFinancingCharges', 'NetOtherInvestingChanges',\n",
       "       'NetPPEPurchaseAndSale', 'NetShortTermDebtIssuance',\n",
       "       'OperatingCashFlow', 'OperatingGainsLosses', 'OtherNonCashItems',\n",
       "       'ProceedsFromStockOptionExercised', 'ProvisionandWriteOffofAssets',\n",
       "       'PurchaseOfBusiness', 'PurchaseOfIntangibles', 'PurchaseOfInvestment',\n",
       "       'PurchaseOfPPE', 'RepaymentOfDebt', 'SaleOfBusiness',\n",
       "       'SaleOfIntangibles', 'SaleOfInvestment', 'SaleOfPPE',\n",
       "       'ShortTermDebtIssuance', 'ShortTermDebtPayments',\n",
       "       'StockBasedCompensation', 'UnrealizedGainLossOnInvestmentSecurities'],\n",
       "      dtype='object')"
      ]
     },
     "execution_count": 5,
     "metadata": {},
     "output_type": "execute_result"
    }
   ],
   "source": [
    "cash_flow.columns"
   ]
  },
  {
   "cell_type": "code",
   "execution_count": 6,
   "id": "79d5b420-025f-47b5-ad4d-370122b89cc1",
   "metadata": {
    "tags": []
   },
   "outputs": [
    {
     "data": {
      "text/html": [
       "<style type=\"text/css\">\n",
       "</style>\n",
       "<table id=\"T_7312b\">\n",
       "  <thead>\n",
       "    <tr>\n",
       "      <th class=\"blank level0\" >&nbsp;</th>\n",
       "      <th id=\"T_7312b_level0_col0\" class=\"col_heading level0 col0\" >asOfDate</th>\n",
       "      <th id=\"T_7312b_level0_col1\" class=\"col_heading level0 col1\" >FreeCashFlow</th>\n",
       "    </tr>\n",
       "    <tr>\n",
       "      <th class=\"index_name level0\" >symbol</th>\n",
       "      <th class=\"blank col0\" >&nbsp;</th>\n",
       "      <th class=\"blank col1\" >&nbsp;</th>\n",
       "    </tr>\n",
       "  </thead>\n",
       "  <tbody>\n",
       "    <tr>\n",
       "      <th id=\"T_7312b_level0_row0\" class=\"row_heading level0 row0\" >coin</th>\n",
       "      <td id=\"T_7312b_row0_col0\" class=\"data row0 col0\" >2019-12-31 00:00:00</td>\n",
       "      <td id=\"T_7312b_row0_col1\" class=\"data row0 col1\" >-121,065,000.00</td>\n",
       "    </tr>\n",
       "    <tr>\n",
       "      <th id=\"T_7312b_level0_row1\" class=\"row_heading level0 row1\" >coin</th>\n",
       "      <td id=\"T_7312b_row1_col0\" class=\"data row1 col0\" >2020-12-31 00:00:00</td>\n",
       "      <td id=\"T_7312b_row1_col1\" class=\"data row1 col1\" >2,985,268,000.00</td>\n",
       "    </tr>\n",
       "    <tr>\n",
       "      <th id=\"T_7312b_level0_row2\" class=\"row_heading level0 row2\" >coin</th>\n",
       "      <td id=\"T_7312b_row2_col0\" class=\"data row2 col0\" >2021-12-31 00:00:00</td>\n",
       "      <td id=\"T_7312b_row2_col1\" class=\"data row2 col1\" >10,644,248,000.00</td>\n",
       "    </tr>\n",
       "    <tr>\n",
       "      <th id=\"T_7312b_level0_row3\" class=\"row_heading level0 row3\" >coin</th>\n",
       "      <td id=\"T_7312b_row3_col0\" class=\"data row3 col0\" >2022-12-31 00:00:00</td>\n",
       "      <td id=\"T_7312b_row3_col1\" class=\"data row3 col1\" >-1,649,390,000.00</td>\n",
       "    </tr>\n",
       "    <tr>\n",
       "      <th id=\"T_7312b_level0_row4\" class=\"row_heading level0 row4\" >coin</th>\n",
       "      <td id=\"T_7312b_row4_col0\" class=\"data row4 col0\" >2022-12-31 00:00:00</td>\n",
       "      <td id=\"T_7312b_row4_col1\" class=\"data row4 col1\" >-1,649,390,000.00</td>\n",
       "    </tr>\n",
       "  </tbody>\n",
       "</table>\n"
      ],
      "text/plain": [
       "<pandas.io.formats.style.Styler at 0x107648ad0>"
      ]
     },
     "execution_count": 6,
     "metadata": {},
     "output_type": "execute_result"
    }
   ],
   "source": [
    "cash_flow[['asOfDate', 'FreeCashFlow']].style.format({\n",
    "    'FreeCashFlow': '{:,.2f}'.format,\n",
    "})"
   ]
  },
  {
   "cell_type": "markdown",
   "id": "a76252ba-c168-42ba-ad35-244253d79e6b",
   "metadata": {},
   "source": [
    "## Balance sheet analysis"
   ]
  },
  {
   "cell_type": "code",
   "execution_count": 7,
   "id": "8d08f36d-5d76-40f4-ac45-e679b41a4a54",
   "metadata": {
    "tags": []
   },
   "outputs": [],
   "source": [
    "balance_sheet = ticker.balance_sheet(frequency='Quarterly')"
   ]
  },
  {
   "cell_type": "code",
   "execution_count": 8,
   "id": "af54b06f-cfcd-4a61-ad43-0dec416b22ee",
   "metadata": {
    "tags": []
   },
   "outputs": [
    {
     "data": {
      "text/html": [
       "<div>\n",
       "<style scoped>\n",
       "    .dataframe tbody tr th:only-of-type {\n",
       "        vertical-align: middle;\n",
       "    }\n",
       "\n",
       "    .dataframe tbody tr th {\n",
       "        vertical-align: top;\n",
       "    }\n",
       "\n",
       "    .dataframe thead th {\n",
       "        text-align: right;\n",
       "    }\n",
       "</style>\n",
       "<table border=\"1\" class=\"dataframe\">\n",
       "  <thead>\n",
       "    <tr style=\"text-align: right;\">\n",
       "      <th></th>\n",
       "      <th>asOfDate</th>\n",
       "      <th>periodType</th>\n",
       "      <th>currencyCode</th>\n",
       "      <th>AccountsPayable</th>\n",
       "      <th>AccountsReceivable</th>\n",
       "      <th>AccruedInterestReceivable</th>\n",
       "      <th>AccumulatedDepreciation</th>\n",
       "      <th>AdditionalPaidInCapital</th>\n",
       "      <th>CapitalLeaseObligations</th>\n",
       "      <th>CapitalStock</th>\n",
       "      <th>...</th>\n",
       "      <th>TaxesReceivable</th>\n",
       "      <th>TotalAssets</th>\n",
       "      <th>TotalCapitalization</th>\n",
       "      <th>TotalDebt</th>\n",
       "      <th>TotalEquityGrossMinorityInterest</th>\n",
       "      <th>TotalLiabilitiesNetMinorityInterest</th>\n",
       "      <th>TotalNonCurrentAssets</th>\n",
       "      <th>TotalNonCurrentLiabilitiesNetMinorityInterest</th>\n",
       "      <th>TotalTaxPayable</th>\n",
       "      <th>WorkingCapital</th>\n",
       "    </tr>\n",
       "    <tr>\n",
       "      <th>symbol</th>\n",
       "      <th></th>\n",
       "      <th></th>\n",
       "      <th></th>\n",
       "      <th></th>\n",
       "      <th></th>\n",
       "      <th></th>\n",
       "      <th></th>\n",
       "      <th></th>\n",
       "      <th></th>\n",
       "      <th></th>\n",
       "      <th></th>\n",
       "      <th></th>\n",
       "      <th></th>\n",
       "      <th></th>\n",
       "      <th></th>\n",
       "      <th></th>\n",
       "      <th></th>\n",
       "      <th></th>\n",
       "      <th></th>\n",
       "      <th></th>\n",
       "      <th></th>\n",
       "    </tr>\n",
       "  </thead>\n",
       "  <tbody>\n",
       "    <tr>\n",
       "      <th>coin</th>\n",
       "      <td>2021-12-31</td>\n",
       "      <td>3M</td>\n",
       "      <td>USD</td>\n",
       "      <td>39833000.0</td>\n",
       "      <td>128312000.0</td>\n",
       "      <td>73803000.0</td>\n",
       "      <td>-42246000.0</td>\n",
       "      <td>2.034658e+09</td>\n",
       "      <td>106444000.0</td>\n",
       "      <td>2000.0</td>\n",
       "      <td>...</td>\n",
       "      <td>61231000.0</td>\n",
       "      <td>2.127442e+10</td>\n",
       "      <td>9.766484e+09</td>\n",
       "      <td>3.491239e+09</td>\n",
       "      <td>6.381689e+09</td>\n",
       "      <td>1.489274e+10</td>\n",
       "      <td>2.900562e+09</td>\n",
       "      <td>3.473701e+09</td>\n",
       "      <td>4553000.0</td>\n",
       "      <td>6.954828e+09</td>\n",
       "    </tr>\n",
       "    <tr>\n",
       "      <th>coin</th>\n",
       "      <td>2022-03-31</td>\n",
       "      <td>3M</td>\n",
       "      <td>USD</td>\n",
       "      <td>12650000.0</td>\n",
       "      <td>87544000.0</td>\n",
       "      <td>60599000.0</td>\n",
       "      <td>NaN</td>\n",
       "      <td>2.579216e+09</td>\n",
       "      <td>99113000.0</td>\n",
       "      <td>2000.0</td>\n",
       "      <td>...</td>\n",
       "      <td>56767000.0</td>\n",
       "      <td>2.089519e+10</td>\n",
       "      <td>9.882958e+09</td>\n",
       "      <td>3.635404e+09</td>\n",
       "      <td>6.496093e+09</td>\n",
       "      <td>1.439910e+10</td>\n",
       "      <td>3.954542e+09</td>\n",
       "      <td>3.477278e+09</td>\n",
       "      <td>3816000.0</td>\n",
       "      <td>6.018829e+09</td>\n",
       "    </tr>\n",
       "    <tr>\n",
       "      <th>coin</th>\n",
       "      <td>2022-06-30</td>\n",
       "      <td>3M</td>\n",
       "      <td>USD</td>\n",
       "      <td>40745000.0</td>\n",
       "      <td>73623000.0</td>\n",
       "      <td>61524000.0</td>\n",
       "      <td>NaN</td>\n",
       "      <td>3.004459e+09</td>\n",
       "      <td>93491000.0</td>\n",
       "      <td>2000.0</td>\n",
       "      <td>...</td>\n",
       "      <td>62406000.0</td>\n",
       "      <td>1.054682e+11</td>\n",
       "      <td>9.202422e+09</td>\n",
       "      <td>3.483028e+09</td>\n",
       "      <td>5.813389e+09</td>\n",
       "      <td>9.965485e+10</td>\n",
       "      <td>3.305993e+09</td>\n",
       "      <td>3.460558e+09</td>\n",
       "      <td>9652000.0</td>\n",
       "      <td>5.967954e+09</td>\n",
       "    </tr>\n",
       "    <tr>\n",
       "      <th>coin</th>\n",
       "      <td>2022-09-30</td>\n",
       "      <td>3M</td>\n",
       "      <td>USD</td>\n",
       "      <td>61514000.0</td>\n",
       "      <td>61541000.0</td>\n",
       "      <td>79164000.0</td>\n",
       "      <td>NaN</td>\n",
       "      <td>3.380330e+09</td>\n",
       "      <td>83192000.0</td>\n",
       "      <td>2000.0</td>\n",
       "      <td>...</td>\n",
       "      <td>60522000.0</td>\n",
       "      <td>1.111684e+11</td>\n",
       "      <td>9.017552e+09</td>\n",
       "      <td>3.474941e+09</td>\n",
       "      <td>5.626315e+09</td>\n",
       "      <td>1.055420e+11</td>\n",
       "      <td>3.488396e+09</td>\n",
       "      <td>3.468949e+09</td>\n",
       "      <td>8495000.0</td>\n",
       "      <td>5.606868e+09</td>\n",
       "    </tr>\n",
       "    <tr>\n",
       "      <th>coin</th>\n",
       "      <td>2022-12-31</td>\n",
       "      <td>3M</td>\n",
       "      <td>USD</td>\n",
       "      <td>56043000.0</td>\n",
       "      <td>8434000.0</td>\n",
       "      <td>223413000.0</td>\n",
       "      <td>-85015000.0</td>\n",
       "      <td>3.767686e+09</td>\n",
       "      <td>75778000.0</td>\n",
       "      <td>2000.0</td>\n",
       "      <td>...</td>\n",
       "      <td>60441000.0</td>\n",
       "      <td>8.972487e+10</td>\n",
       "      <td>8.848005e+09</td>\n",
       "      <td>3.489745e+09</td>\n",
       "      <td>5.454557e+09</td>\n",
       "      <td>8.427032e+10</td>\n",
       "      <td>3.276658e+09</td>\n",
       "      <td>3.455023e+09</td>\n",
       "      <td>5534000.0</td>\n",
       "      <td>5.632922e+09</td>\n",
       "    </tr>\n",
       "  </tbody>\n",
       "</table>\n",
       "<p>5 rows × 76 columns</p>\n",
       "</div>"
      ],
      "text/plain": [
       "         asOfDate periodType currencyCode  AccountsPayable  \\\n",
       "symbol                                                       \n",
       "coin   2021-12-31         3M          USD       39833000.0   \n",
       "coin   2022-03-31         3M          USD       12650000.0   \n",
       "coin   2022-06-30         3M          USD       40745000.0   \n",
       "coin   2022-09-30         3M          USD       61514000.0   \n",
       "coin   2022-12-31         3M          USD       56043000.0   \n",
       "\n",
       "        AccountsReceivable  AccruedInterestReceivable  \\\n",
       "symbol                                                  \n",
       "coin           128312000.0                 73803000.0   \n",
       "coin            87544000.0                 60599000.0   \n",
       "coin            73623000.0                 61524000.0   \n",
       "coin            61541000.0                 79164000.0   \n",
       "coin             8434000.0                223413000.0   \n",
       "\n",
       "        AccumulatedDepreciation  AdditionalPaidInCapital  \\\n",
       "symbol                                                     \n",
       "coin                -42246000.0             2.034658e+09   \n",
       "coin                        NaN             2.579216e+09   \n",
       "coin                        NaN             3.004459e+09   \n",
       "coin                        NaN             3.380330e+09   \n",
       "coin                -85015000.0             3.767686e+09   \n",
       "\n",
       "        CapitalLeaseObligations  CapitalStock  ...  TaxesReceivable  \\\n",
       "symbol                                         ...                    \n",
       "coin                106444000.0        2000.0  ...       61231000.0   \n",
       "coin                 99113000.0        2000.0  ...       56767000.0   \n",
       "coin                 93491000.0        2000.0  ...       62406000.0   \n",
       "coin                 83192000.0        2000.0  ...       60522000.0   \n",
       "coin                 75778000.0        2000.0  ...       60441000.0   \n",
       "\n",
       "         TotalAssets  TotalCapitalization     TotalDebt  \\\n",
       "symbol                                                    \n",
       "coin    2.127442e+10         9.766484e+09  3.491239e+09   \n",
       "coin    2.089519e+10         9.882958e+09  3.635404e+09   \n",
       "coin    1.054682e+11         9.202422e+09  3.483028e+09   \n",
       "coin    1.111684e+11         9.017552e+09  3.474941e+09   \n",
       "coin    8.972487e+10         8.848005e+09  3.489745e+09   \n",
       "\n",
       "        TotalEquityGrossMinorityInterest  TotalLiabilitiesNetMinorityInterest  \\\n",
       "symbol                                                                          \n",
       "coin                        6.381689e+09                         1.489274e+10   \n",
       "coin                        6.496093e+09                         1.439910e+10   \n",
       "coin                        5.813389e+09                         9.965485e+10   \n",
       "coin                        5.626315e+09                         1.055420e+11   \n",
       "coin                        5.454557e+09                         8.427032e+10   \n",
       "\n",
       "        TotalNonCurrentAssets  TotalNonCurrentLiabilitiesNetMinorityInterest  \\\n",
       "symbol                                                                         \n",
       "coin             2.900562e+09                                   3.473701e+09   \n",
       "coin             3.954542e+09                                   3.477278e+09   \n",
       "coin             3.305993e+09                                   3.460558e+09   \n",
       "coin             3.488396e+09                                   3.468949e+09   \n",
       "coin             3.276658e+09                                   3.455023e+09   \n",
       "\n",
       "        TotalTaxPayable  WorkingCapital  \n",
       "symbol                                   \n",
       "coin          4553000.0    6.954828e+09  \n",
       "coin          3816000.0    6.018829e+09  \n",
       "coin          9652000.0    5.967954e+09  \n",
       "coin          8495000.0    5.606868e+09  \n",
       "coin          5534000.0    5.632922e+09  \n",
       "\n",
       "[5 rows x 76 columns]"
      ]
     },
     "execution_count": 8,
     "metadata": {},
     "output_type": "execute_result"
    }
   ],
   "source": [
    "balance_sheet"
   ]
  },
  {
   "cell_type": "code",
   "execution_count": 9,
   "id": "6f74d02a-34fd-46cd-944c-88d828f337a4",
   "metadata": {
    "tags": []
   },
   "outputs": [
    {
     "data": {
      "text/plain": [
       "pandas.core.frame.DataFrame"
      ]
     },
     "execution_count": 9,
     "metadata": {},
     "output_type": "execute_result"
    }
   ],
   "source": [
    "type(balance_sheet)"
   ]
  },
  {
   "cell_type": "code",
   "execution_count": 10,
   "id": "1d041188-b753-4333-8de7-5c162a82adeb",
   "metadata": {
    "tags": []
   },
   "outputs": [
    {
     "data": {
      "text/plain": [
       "Index(['asOfDate', 'periodType', 'currencyCode', 'AccountsPayable',\n",
       "       'AccountsReceivable', 'AccruedInterestReceivable',\n",
       "       'AccumulatedDepreciation', 'AdditionalPaidInCapital',\n",
       "       'CapitalLeaseObligations', 'CapitalStock', 'CashAndCashEquivalents',\n",
       "       'CashCashEquivalentsAndShortTermInvestments', 'CommonStock',\n",
       "       'CommonStockEquity', 'ConstructionInProgress', 'CurrentAccruedExpenses',\n",
       "       'CurrentAssets', 'CurrentCapitalLeaseObligation', 'CurrentDebt',\n",
       "       'CurrentDebtAndCapitalLeaseObligation', 'CurrentDeferredLiabilities',\n",
       "       'CurrentDeferredRevenue', 'CurrentLiabilities',\n",
       "       'GainsLossesNotAffectingRetainedEarnings', 'Goodwill',\n",
       "       'GoodwillAndOtherIntangibleAssets', 'GrossPPE', 'HedgingAssetsCurrent',\n",
       "       'IncomeTaxPayable', 'InvestedCapital', 'InvestmentsAndAdvances',\n",
       "       'Leases', 'LoansReceivable', 'LongTermCapitalLeaseObligation',\n",
       "       'LongTermDebt', 'LongTermDebtAndCapitalLeaseObligation',\n",
       "       'LongTermEquityInvestment', 'MachineryFurnitureEquipment', 'NetPPE',\n",
       "       'NetTangibleAssets', 'NonCurrentDeferredAssets',\n",
       "       'NonCurrentDeferredTaxesAssets', 'NonCurrentPrepaidAssets',\n",
       "       'OrdinarySharesNumber', 'OtherCurrentAssets', 'OtherCurrentBorrowings',\n",
       "       'OtherCurrentLiabilities', 'OtherIntangibleAssets', 'OtherInvestments',\n",
       "       'OtherNonCurrentAssets', 'OtherNonCurrentLiabilities', 'OtherPayable',\n",
       "       'OtherProperties', 'OtherShortTermInvestments', 'Payables',\n",
       "       'PayablesAndAccruedExpenses', 'PreferredSecuritiesOutsideStockEquity',\n",
       "       'PrepaidAssets', 'Properties', 'Receivables',\n",
       "       'ReceivablesAdjustmentsAllowances', 'RestrictedCash',\n",
       "       'RetainedEarnings', 'ShareIssued', 'StockholdersEquity',\n",
       "       'TangibleBookValue', 'TaxesReceivable', 'TotalAssets',\n",
       "       'TotalCapitalization', 'TotalDebt', 'TotalEquityGrossMinorityInterest',\n",
       "       'TotalLiabilitiesNetMinorityInterest', 'TotalNonCurrentAssets',\n",
       "       'TotalNonCurrentLiabilitiesNetMinorityInterest', 'TotalTaxPayable',\n",
       "       'WorkingCapital'],\n",
       "      dtype='object')"
      ]
     },
     "execution_count": 10,
     "metadata": {},
     "output_type": "execute_result"
    }
   ],
   "source": [
    "balance_sheet.columns"
   ]
  },
  {
   "cell_type": "code",
   "execution_count": 11,
   "id": "9699fe29-3b88-478b-8c53-bd97d15d38da",
   "metadata": {
    "tags": []
   },
   "outputs": [
    {
     "data": {
      "text/html": [
       "<div>\n",
       "<style scoped>\n",
       "    .dataframe tbody tr th:only-of-type {\n",
       "        vertical-align: middle;\n",
       "    }\n",
       "\n",
       "    .dataframe tbody tr th {\n",
       "        vertical-align: top;\n",
       "    }\n",
       "\n",
       "    .dataframe thead th {\n",
       "        text-align: right;\n",
       "    }\n",
       "</style>\n",
       "<table border=\"1\" class=\"dataframe\">\n",
       "  <thead>\n",
       "    <tr style=\"text-align: right;\">\n",
       "      <th></th>\n",
       "      <th>WorkingCapital</th>\n",
       "      <th>CommonStockEquity</th>\n",
       "      <th>TotalDebt</th>\n",
       "    </tr>\n",
       "    <tr>\n",
       "      <th>symbol</th>\n",
       "      <th></th>\n",
       "      <th></th>\n",
       "      <th></th>\n",
       "    </tr>\n",
       "  </thead>\n",
       "  <tbody>\n",
       "    <tr>\n",
       "      <th>coin</th>\n",
       "      <td>6.954828e+09</td>\n",
       "      <td>6.381689e+09</td>\n",
       "      <td>3.491239e+09</td>\n",
       "    </tr>\n",
       "    <tr>\n",
       "      <th>coin</th>\n",
       "      <td>6.018829e+09</td>\n",
       "      <td>6.496093e+09</td>\n",
       "      <td>3.635404e+09</td>\n",
       "    </tr>\n",
       "    <tr>\n",
       "      <th>coin</th>\n",
       "      <td>5.967954e+09</td>\n",
       "      <td>5.813389e+09</td>\n",
       "      <td>3.483028e+09</td>\n",
       "    </tr>\n",
       "    <tr>\n",
       "      <th>coin</th>\n",
       "      <td>5.606868e+09</td>\n",
       "      <td>5.626315e+09</td>\n",
       "      <td>3.474941e+09</td>\n",
       "    </tr>\n",
       "    <tr>\n",
       "      <th>coin</th>\n",
       "      <td>5.632922e+09</td>\n",
       "      <td>5.454557e+09</td>\n",
       "      <td>3.489745e+09</td>\n",
       "    </tr>\n",
       "  </tbody>\n",
       "</table>\n",
       "</div>"
      ],
      "text/plain": [
       "        WorkingCapital  CommonStockEquity     TotalDebt\n",
       "symbol                                                 \n",
       "coin      6.954828e+09       6.381689e+09  3.491239e+09\n",
       "coin      6.018829e+09       6.496093e+09  3.635404e+09\n",
       "coin      5.967954e+09       5.813389e+09  3.483028e+09\n",
       "coin      5.606868e+09       5.626315e+09  3.474941e+09\n",
       "coin      5.632922e+09       5.454557e+09  3.489745e+09"
      ]
     },
     "execution_count": 11,
     "metadata": {},
     "output_type": "execute_result"
    }
   ],
   "source": [
    "balance_sheet[['WorkingCapital', 'CommonStockEquity', 'TotalDebt']]"
   ]
  },
  {
   "cell_type": "code",
   "execution_count": 12,
   "id": "cb46a906-e5ab-4d44-b440-5f2dd0d9d846",
   "metadata": {
    "tags": []
   },
   "outputs": [],
   "source": [
    "balance_sheet['TotalDebt/CommonStockEquity']=balance_sheet['TotalDebt']/balance_sheet['CommonStockEquity']"
   ]
  },
  {
   "cell_type": "code",
   "execution_count": 13,
   "id": "715204b8-bc68-46f8-8020-6feb56ee8507",
   "metadata": {
    "tags": []
   },
   "outputs": [],
   "source": [
    "debt_to_equity = balance_sheet[['asOfDate', 'CommonStockEquity', 'TotalDebt', 'TotalDebt/CommonStockEquity']]"
   ]
  },
  {
   "cell_type": "code",
   "execution_count": 14,
   "id": "d045a9fe-a7ea-48a6-aedb-946bb334a934",
   "metadata": {
    "tags": []
   },
   "outputs": [
    {
     "data": {
      "text/html": [
       "<style type=\"text/css\">\n",
       "</style>\n",
       "<table id=\"T_763ca\">\n",
       "  <thead>\n",
       "    <tr>\n",
       "      <th class=\"blank level0\" >&nbsp;</th>\n",
       "      <th id=\"T_763ca_level0_col0\" class=\"col_heading level0 col0\" >asOfDate</th>\n",
       "      <th id=\"T_763ca_level0_col1\" class=\"col_heading level0 col1\" >CommonStockEquity</th>\n",
       "      <th id=\"T_763ca_level0_col2\" class=\"col_heading level0 col2\" >TotalDebt</th>\n",
       "      <th id=\"T_763ca_level0_col3\" class=\"col_heading level0 col3\" >TotalDebt/CommonStockEquity</th>\n",
       "    </tr>\n",
       "    <tr>\n",
       "      <th class=\"index_name level0\" >symbol</th>\n",
       "      <th class=\"blank col0\" >&nbsp;</th>\n",
       "      <th class=\"blank col1\" >&nbsp;</th>\n",
       "      <th class=\"blank col2\" >&nbsp;</th>\n",
       "      <th class=\"blank col3\" >&nbsp;</th>\n",
       "    </tr>\n",
       "  </thead>\n",
       "  <tbody>\n",
       "    <tr>\n",
       "      <th id=\"T_763ca_level0_row0\" class=\"row_heading level0 row0\" >coin</th>\n",
       "      <td id=\"T_763ca_row0_col0\" class=\"data row0 col0\" >2021-12-31 00:00:00</td>\n",
       "      <td id=\"T_763ca_row0_col1\" class=\"data row0 col1\" >6,381,689,000.00</td>\n",
       "      <td id=\"T_763ca_row0_col2\" class=\"data row0 col2\" >3,491,239,000.00</td>\n",
       "      <td id=\"T_763ca_row0_col3\" class=\"data row0 col3\" >54.71%</td>\n",
       "    </tr>\n",
       "    <tr>\n",
       "      <th id=\"T_763ca_level0_row1\" class=\"row_heading level0 row1\" >coin</th>\n",
       "      <td id=\"T_763ca_row1_col0\" class=\"data row1 col0\" >2022-03-31 00:00:00</td>\n",
       "      <td id=\"T_763ca_row1_col1\" class=\"data row1 col1\" >6,496,093,000.00</td>\n",
       "      <td id=\"T_763ca_row1_col2\" class=\"data row1 col2\" >3,635,404,000.00</td>\n",
       "      <td id=\"T_763ca_row1_col3\" class=\"data row1 col3\" >55.96%</td>\n",
       "    </tr>\n",
       "    <tr>\n",
       "      <th id=\"T_763ca_level0_row2\" class=\"row_heading level0 row2\" >coin</th>\n",
       "      <td id=\"T_763ca_row2_col0\" class=\"data row2 col0\" >2022-06-30 00:00:00</td>\n",
       "      <td id=\"T_763ca_row2_col1\" class=\"data row2 col1\" >5,813,389,000.00</td>\n",
       "      <td id=\"T_763ca_row2_col2\" class=\"data row2 col2\" >3,483,028,000.00</td>\n",
       "      <td id=\"T_763ca_row2_col3\" class=\"data row2 col3\" >59.91%</td>\n",
       "    </tr>\n",
       "    <tr>\n",
       "      <th id=\"T_763ca_level0_row3\" class=\"row_heading level0 row3\" >coin</th>\n",
       "      <td id=\"T_763ca_row3_col0\" class=\"data row3 col0\" >2022-09-30 00:00:00</td>\n",
       "      <td id=\"T_763ca_row3_col1\" class=\"data row3 col1\" >5,626,315,000.00</td>\n",
       "      <td id=\"T_763ca_row3_col2\" class=\"data row3 col2\" >3,474,941,000.00</td>\n",
       "      <td id=\"T_763ca_row3_col3\" class=\"data row3 col3\" >61.76%</td>\n",
       "    </tr>\n",
       "    <tr>\n",
       "      <th id=\"T_763ca_level0_row4\" class=\"row_heading level0 row4\" >coin</th>\n",
       "      <td id=\"T_763ca_row4_col0\" class=\"data row4 col0\" >2022-12-31 00:00:00</td>\n",
       "      <td id=\"T_763ca_row4_col1\" class=\"data row4 col1\" >5,454,557,000.00</td>\n",
       "      <td id=\"T_763ca_row4_col2\" class=\"data row4 col2\" >3,489,745,000.00</td>\n",
       "      <td id=\"T_763ca_row4_col3\" class=\"data row4 col3\" >63.98%</td>\n",
       "    </tr>\n",
       "  </tbody>\n",
       "</table>\n"
      ],
      "text/plain": [
       "<pandas.io.formats.style.Styler at 0x11e04f050>"
      ]
     },
     "execution_count": 14,
     "metadata": {},
     "output_type": "execute_result"
    }
   ],
   "source": [
    "debt_to_equity.style.format({\n",
    "    'CommonStockEquity': '{:,.2f}'.format,\n",
    "    'TotalDebt': '{:,.2f}'.format,\n",
    "    'TotalDebt/CommonStockEquity': '{:,.2%}'.format\n",
    "})"
   ]
  },
  {
   "cell_type": "code",
   "execution_count": null,
   "id": "9c2985bf-13f9-4720-8fc9-a0b6193bfb4a",
   "metadata": {},
   "outputs": [],
   "source": []
  }
 ],
 "metadata": {
  "kernelspec": {
   "display_name": "Python 3 (ipykernel)",
   "language": "python",
   "name": "python3"
  },
  "language_info": {
   "codemirror_mode": {
    "name": "ipython",
    "version": 3
   },
   "file_extension": ".py",
   "mimetype": "text/x-python",
   "name": "python",
   "nbconvert_exporter": "python",
   "pygments_lexer": "ipython3",
   "version": "3.11.2"
  }
 },
 "nbformat": 4,
 "nbformat_minor": 5
}
