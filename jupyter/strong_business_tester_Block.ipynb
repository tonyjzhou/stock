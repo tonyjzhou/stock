{
 "cells": [
  {
   "cell_type": "markdown",
   "id": "817e3535-7124-4fcb-8d03-4a9177b08e6e",
   "metadata": {},
   "source": [
    "# Strong business tester\n",
    "\n",
    "This notebook tries to test if a business is strong based on some financial parameters:\n",
    "\n",
    "* Strong free cash flow\n",
    "* Strong balance sheet"
   ]
  },
  {
   "cell_type": "code",
   "execution_count": 1,
   "id": "5d4ca22e-5e19-451d-ad80-98f156fcdf61",
   "metadata": {},
   "outputs": [],
   "source": [
    "import matplotlib.pyplot as plt"
   ]
  },
  {
   "cell_type": "code",
   "execution_count": 2,
   "id": "9715f194-f801-4685-8ba7-7f948d5fe6e9",
   "metadata": {
    "tags": []
   },
   "outputs": [],
   "source": [
    "from yahooquery import Ticker"
   ]
  },
  {
   "cell_type": "code",
   "execution_count": 3,
   "id": "fe5fb293-1de9-4df4-a916-0d0ce9a27436",
   "metadata": {
    "tags": []
   },
   "outputs": [],
   "source": [
    "ticker = Ticker('SQ')"
   ]
  },
  {
   "cell_type": "markdown",
   "id": "6eb72e9d-0865-4045-8e84-eebc38a697e4",
   "metadata": {},
   "source": [
    "## Cash flow analysis"
   ]
  },
  {
   "cell_type": "code",
   "execution_count": 4,
   "id": "1249eb01-14ff-4f54-87f9-70f56b2176aa",
   "metadata": {
    "tags": []
   },
   "outputs": [],
   "source": [
    "cash_flow = ticker.cash_flow()"
   ]
  },
  {
   "cell_type": "code",
   "execution_count": 5,
   "id": "1c44d5c6-0e9e-4a07-b666-9472e58657b7",
   "metadata": {
    "tags": []
   },
   "outputs": [
    {
     "data": {
      "text/plain": [
       "pandas.core.frame.DataFrame"
      ]
     },
     "execution_count": 5,
     "metadata": {},
     "output_type": "execute_result"
    }
   ],
   "source": [
    "type(cash_flow)"
   ]
  },
  {
   "cell_type": "code",
   "execution_count": 6,
   "id": "7a12144f-17b6-4987-ad58-522c64524262",
   "metadata": {
    "tags": []
   },
   "outputs": [
    {
     "data": {
      "text/plain": [
       "Index(['asOfDate', 'periodType', 'currencyCode', 'AssetImpairmentCharge',\n",
       "       'BeginningCashPosition', 'CapitalExpenditure',\n",
       "       'CashFlowFromContinuingFinancingActivities',\n",
       "       'CashFlowFromContinuingInvestingActivities',\n",
       "       'CashFlowFromContinuingOperatingActivities', 'ChangeInAccountPayable',\n",
       "       'ChangeInCashSupplementalAsReported', 'ChangeInOtherCurrentAssets',\n",
       "       'ChangeInOtherWorkingCapital', 'ChangeInPayable',\n",
       "       'ChangeInPayablesAndAccruedExpense', 'ChangeInReceivables',\n",
       "       'ChangeInWorkingCapital', 'ChangesInAccountReceivables',\n",
       "       'ChangesInCash', 'CommonStockIssuance', 'DeferredIncomeTax',\n",
       "       'DeferredTax', 'DepreciationAmortizationDepletion',\n",
       "       'DepreciationAndAmortization', 'EarningsLossesFromEquityInvestments',\n",
       "       'EffectOfExchangeRateChanges', 'EndCashPosition', 'FinancingCashFlow',\n",
       "       'FreeCashFlow', 'GainLossOnSaleOfBusiness', 'InvestingCashFlow',\n",
       "       'IssuanceOfCapitalStock', 'IssuanceOfDebt', 'LongTermDebtIssuance',\n",
       "       'LongTermDebtPayments', 'NetBusinessPurchaseAndSale',\n",
       "       'NetCommonStockIssuance', 'NetIncome',\n",
       "       'NetIncomeFromContinuingOperations', 'NetIntangiblesPurchaseAndSale',\n",
       "       'NetInvestmentPurchaseAndSale', 'NetIssuancePaymentsOfDebt',\n",
       "       'NetLongTermDebtIssuance', 'NetOtherFinancingCharges',\n",
       "       'NetOtherInvestingChanges', 'NetPPEPurchaseAndSale',\n",
       "       'NetShortTermDebtIssuance', 'OperatingCashFlow', 'OperatingGainsLosses',\n",
       "       'OtherNonCashItems', 'ProceedsFromStockOptionExercised',\n",
       "       'ProvisionandWriteOffofAssets', 'PurchaseOfBusiness',\n",
       "       'PurchaseOfIntangibles', 'PurchaseOfInvestment', 'PurchaseOfPPE',\n",
       "       'RepaymentOfDebt', 'SaleOfBusiness', 'SaleOfIntangibles',\n",
       "       'SaleOfInvestment', 'ShortTermDebtIssuance', 'ShortTermDebtPayments',\n",
       "       'StockBasedCompensation', 'UnrealizedGainLossOnInvestmentSecurities'],\n",
       "      dtype='object')"
      ]
     },
     "execution_count": 6,
     "metadata": {},
     "output_type": "execute_result"
    }
   ],
   "source": [
    "cash_flow.columns"
   ]
  },
  {
   "cell_type": "code",
   "execution_count": 7,
   "id": "79d5b420-025f-47b5-ad4d-370122b89cc1",
   "metadata": {
    "tags": []
   },
   "outputs": [
    {
     "data": {
      "text/html": [
       "<style type=\"text/css\">\n",
       "</style>\n",
       "<table id=\"T_22e71\">\n",
       "  <thead>\n",
       "    <tr>\n",
       "      <th class=\"blank level0\" >&nbsp;</th>\n",
       "      <th id=\"T_22e71_level0_col0\" class=\"col_heading level0 col0\" >asOfDate</th>\n",
       "      <th id=\"T_22e71_level0_col1\" class=\"col_heading level0 col1\" >FreeCashFlow</th>\n",
       "    </tr>\n",
       "    <tr>\n",
       "      <th class=\"index_name level0\" >symbol</th>\n",
       "      <th class=\"blank col0\" >&nbsp;</th>\n",
       "      <th class=\"blank col1\" >&nbsp;</th>\n",
       "    </tr>\n",
       "  </thead>\n",
       "  <tbody>\n",
       "    <tr>\n",
       "      <th id=\"T_22e71_level0_row0\" class=\"row_heading level0 row0\" >SQ</th>\n",
       "      <td id=\"T_22e71_row0_col0\" class=\"data row0 col0\" >2019-12-31 00:00:00</td>\n",
       "      <td id=\"T_22e71_row0_col1\" class=\"data row0 col1\" >403,201,000.00</td>\n",
       "    </tr>\n",
       "    <tr>\n",
       "      <th id=\"T_22e71_level0_row1\" class=\"row_heading level0 row1\" >SQ</th>\n",
       "      <td id=\"T_22e71_row1_col0\" class=\"data row1 col0\" >2020-12-31 00:00:00</td>\n",
       "      <td id=\"T_22e71_row1_col1\" class=\"data row1 col1\" >243,201,000.00</td>\n",
       "    </tr>\n",
       "    <tr>\n",
       "      <th id=\"T_22e71_level0_row2\" class=\"row_heading level0 row2\" >SQ</th>\n",
       "      <td id=\"T_22e71_row2_col0\" class=\"data row2 col0\" >2021-12-31 00:00:00</td>\n",
       "      <td id=\"T_22e71_row2_col1\" class=\"data row2 col1\" >543,510,000.00</td>\n",
       "    </tr>\n",
       "    <tr>\n",
       "      <th id=\"T_22e71_level0_row3\" class=\"row_heading level0 row3\" >SQ</th>\n",
       "      <td id=\"T_22e71_row3_col0\" class=\"data row3 col0\" >2022-12-31 00:00:00</td>\n",
       "      <td id=\"T_22e71_row3_col1\" class=\"data row3 col1\" >5,088,000.00</td>\n",
       "    </tr>\n",
       "    <tr>\n",
       "      <th id=\"T_22e71_level0_row4\" class=\"row_heading level0 row4\" >SQ</th>\n",
       "      <td id=\"T_22e71_row4_col0\" class=\"data row4 col0\" >2022-12-31 00:00:00</td>\n",
       "      <td id=\"T_22e71_row4_col1\" class=\"data row4 col1\" >5,088,000.00</td>\n",
       "    </tr>\n",
       "  </tbody>\n",
       "</table>\n"
      ],
      "text/plain": [
       "<pandas.io.formats.style.Styler at 0x1051a0d90>"
      ]
     },
     "execution_count": 7,
     "metadata": {},
     "output_type": "execute_result"
    }
   ],
   "source": [
    "cash_flow[['asOfDate', 'FreeCashFlow']].style.format({\n",
    "    'FreeCashFlow': '{:,.2f}'.format,\n",
    "})"
   ]
  },
  {
   "cell_type": "markdown",
   "id": "737cf863-ed7d-4039-a49b-58cb202a21d2",
   "metadata": {},
   "source": [
    "### Free cash flow"
   ]
  },
  {
   "cell_type": "code",
   "execution_count": 8,
   "id": "d11eacf0-4428-4be7-ac82-50538cef875c",
   "metadata": {
    "tags": []
   },
   "outputs": [],
   "source": [
    "free_cash_flow = cash_flow[['asOfDate', 'FreeCashFlow']]\n",
    "free_cash_flow = free_cash_flow.set_index('asOfDate')"
   ]
  },
  {
   "cell_type": "code",
   "execution_count": 9,
   "id": "2f4ce0d9-de18-4f6e-b9f0-85b76289cca3",
   "metadata": {
    "tags": []
   },
   "outputs": [
    {
     "data": {
      "image/png": "[encoded data removed]",
      "text/plain": [
       "<Figure size 640x480 with 1 Axes>"
      ]
     },
     "metadata": {},
     "output_type": "display_data"
    }
   ],
   "source": [
    "free_cash_flow.plot();"
   ]
  },
  {
   "cell_type": "markdown",
   "id": "a76252ba-c168-42ba-ad35-244253d79e6b",
   "metadata": {},
   "source": [
    "## Balance sheet analysis"
   ]
  },
  {
   "cell_type": "code",
   "execution_count": 10,
   "id": "8d08f36d-5d76-40f4-ac45-e679b41a4a54",
   "metadata": {
    "tags": []
   },
   "outputs": [],
   "source": [
    "balance_sheet = ticker.balance_sheet(frequency='Quarterly')"
   ]
  },
  {
   "cell_type": "code",
   "execution_count": 11,
   "id": "6f74d02a-34fd-46cd-944c-88d828f337a4",
   "metadata": {
    "tags": []
   },
   "outputs": [
    {
     "data": {
      "text/plain": [
       "pandas.core.frame.DataFrame"
      ]
     },
     "execution_count": 11,
     "metadata": {},
     "output_type": "execute_result"
    }
   ],
   "source": [
    "type(balance_sheet)"
   ]
  },
  {
   "cell_type": "code",
   "execution_count": 12,
   "id": "1d041188-b753-4333-8de7-5c162a82adeb",
   "metadata": {
    "tags": []
   },
   "outputs": [
    {
     "data": {
      "text/plain": [
       "Index(['asOfDate', 'periodType', 'currencyCode', 'AccountsPayable',\n",
       "       'AccountsReceivable', 'AccumulatedDepreciation',\n",
       "       'AdditionalPaidInCapital', 'AvailableForSaleSecurities',\n",
       "       'CapitalLeaseObligations', 'CapitalStock', 'CashAndCashEquivalents',\n",
       "       'CashCashEquivalentsAndShortTermInvestments', 'CommonStock',\n",
       "       'CommonStockEquity', 'CurrentAccruedExpenses', 'CurrentAssets',\n",
       "       'CurrentCapitalLeaseObligation', 'CurrentDebt',\n",
       "       'CurrentDebtAndCapitalLeaseObligation', 'CurrentDeferredLiabilities',\n",
       "       'CurrentDeferredRevenue', 'CurrentLiabilities',\n",
       "       'GainsLossesNotAffectingRetainedEarnings', 'Goodwill',\n",
       "       'GoodwillAndOtherIntangibleAssets', 'GrossPPE',\n",
       "       'HeldToMaturitySecurities', 'Inventory', 'InvestedCapital',\n",
       "       'InvestmentinFinancialAssets', 'InvestmentsAndAdvances', 'Leases',\n",
       "       'LineOfCredit', 'LoansReceivable', 'LongTermCapitalLeaseObligation',\n",
       "       'LongTermDebt', 'LongTermDebtAndCapitalLeaseObligation',\n",
       "       'MachineryFurnitureEquipment', 'MinorityInterest', 'NetDebt', 'NetPPE',\n",
       "       'NetTangibleAssets', 'NonCurrentDeferredLiabilities',\n",
       "       'NonCurrentDeferredTaxesLiabilities', 'OrdinarySharesNumber',\n",
       "       'OtherCurrentAssets', 'OtherCurrentBorrowings',\n",
       "       'OtherCurrentLiabilities', 'OtherIntangibleAssets', 'OtherInvestments',\n",
       "       'OtherNonCurrentAssets', 'OtherNonCurrentLiabilities', 'OtherPayable',\n",
       "       'OtherProperties', 'OtherReceivables', 'OtherShortTermInvestments',\n",
       "       'Payables', 'PayablesAndAccruedExpenses', 'PreferredStock',\n",
       "       'PrepaidAssets', 'Properties', 'Receivables', 'RestrictedCash',\n",
       "       'RetainedEarnings', 'ShareIssued', 'StockholdersEquity',\n",
       "       'TangibleBookValue', 'TotalAssets', 'TotalCapitalization', 'TotalDebt',\n",
       "       'TotalEquityGrossMinorityInterest',\n",
       "       'TotalLiabilitiesNetMinorityInterest', 'TotalNonCurrentAssets',\n",
       "       'TotalNonCurrentLiabilitiesNetMinorityInterest', 'WorkingCapital'],\n",
       "      dtype='object')"
      ]
     },
     "execution_count": 12,
     "metadata": {},
     "output_type": "execute_result"
    }
   ],
   "source": [
    "balance_sheet.columns"
   ]
  },
  {
   "cell_type": "markdown",
   "id": "30f4e328-3e05-495c-a87a-b7b42785a5d1",
   "metadata": {
    "tags": []
   },
   "source": [
    "### Debt vs Equity"
   ]
  },
  {
   "cell_type": "code",
   "execution_count": 13,
   "id": "715204b8-bc68-46f8-8020-6feb56ee8507",
   "metadata": {
    "tags": []
   },
   "outputs": [],
   "source": [
    "debt_vs_equity = balance_sheet[['asOfDate', 'TotalDebt', 'CommonStockEquity']]\n",
    "debt_vs_equity = debt_vs_equity.set_index('asOfDate')"
   ]
  },
  {
   "cell_type": "code",
   "execution_count": 14,
   "id": "d045a9fe-a7ea-48a6-aedb-946bb334a934",
   "metadata": {
    "tags": []
   },
   "outputs": [
    {
     "data": {
      "text/html": [
       "<style type=\"text/css\">\n",
       "</style>\n",
       "<table id=\"T_92599\">\n",
       "  <thead>\n",
       "    <tr>\n",
       "      <th class=\"blank level0\" >&nbsp;</th>\n",
       "      <th id=\"T_92599_level0_col0\" class=\"col_heading level0 col0\" >TotalDebt</th>\n",
       "      <th id=\"T_92599_level0_col1\" class=\"col_heading level0 col1\" >CommonStockEquity</th>\n",
       "    </tr>\n",
       "    <tr>\n",
       "      <th class=\"index_name level0\" >asOfDate</th>\n",
       "      <th class=\"blank col0\" >&nbsp;</th>\n",
       "      <th class=\"blank col1\" >&nbsp;</th>\n",
       "    </tr>\n",
       "  </thead>\n",
       "  <tbody>\n",
       "    <tr>\n",
       "      <th id=\"T_92599_level0_row0\" class=\"row_heading level0 row0\" >2022-03-31 00:00:00</th>\n",
       "      <td id=\"T_92599_row0_col0\" class=\"data row0 col0\" >5,153,542,000.00</td>\n",
       "      <td id=\"T_92599_row0_col1\" class=\"data row0 col1\" >17,412,822,000.00</td>\n",
       "    </tr>\n",
       "    <tr>\n",
       "      <th id=\"T_92599_level0_row1\" class=\"row_heading level0 row1\" >2022-06-30 00:00:00</th>\n",
       "      <td id=\"T_92599_row1_col0\" class=\"data row1 col0\" >5,090,939,000.00</td>\n",
       "      <td id=\"T_92599_row1_col1\" class=\"data row1 col1\" >16,855,104,000.00</td>\n",
       "    </tr>\n",
       "    <tr>\n",
       "      <th id=\"T_92599_level0_row2\" class=\"row_heading level0 row2\" >2022-09-30 00:00:00</th>\n",
       "      <td id=\"T_92599_row2_col0\" class=\"data row2 col0\" >5,038,633,000.00</td>\n",
       "      <td id=\"T_92599_row2_col1\" class=\"data row2 col1\" >16,497,664,000.00</td>\n",
       "    </tr>\n",
       "    <tr>\n",
       "      <th id=\"T_92599_level0_row3\" class=\"row_heading level0 row3\" >2022-12-31 00:00:00</th>\n",
       "      <td id=\"T_92599_row3_col0\" class=\"data row3 col0\" >5,472,538,000.00</td>\n",
       "      <td id=\"T_92599_row3_col1\" class=\"data row3 col1\" >17,222,879,000.00</td>\n",
       "    </tr>\n",
       "  </tbody>\n",
       "</table>\n"
      ],
      "text/plain": [
       "<pandas.io.formats.style.Styler at 0x11e0b35d0>"
      ]
     },
     "execution_count": 14,
     "metadata": {},
     "output_type": "execute_result"
    }
   ],
   "source": [
    "debt_vs_equity.style.format({\n",
    "    'TotalDebt': '{:,.2f}'.format,    \n",
    "    'CommonStockEquity': '{:,.2f}'.format,\n",
    "})"
   ]
  },
  {
   "cell_type": "code",
   "execution_count": 15,
   "id": "3bfb2ca9-4523-42d7-890a-983cc40e5804",
   "metadata": {
    "tags": []
   },
   "outputs": [
    {
     "data": {
      "image/png": "[encoded data removed]",
      "text/plain": [
       "<Figure size 640x480 with 1 Axes>"
      ]
     },
     "metadata": {},
     "output_type": "display_data"
    }
   ],
   "source": [
    "debt_vs_equity.plot();"
   ]
  },
  {
   "cell_type": "markdown",
   "id": "62e0b17d-49e7-4d17-b42c-c5de15564f91",
   "metadata": {},
   "source": [
    "### Debt/Equity ratio"
   ]
  },
  {
   "cell_type": "code",
   "execution_count": 16,
   "id": "69cc7b88-ae68-4925-aead-30d7657474cc",
   "metadata": {
    "tags": []
   },
   "outputs": [],
   "source": [
    "balance_sheet['TotalDebt/CommonStockEquity']=balance_sheet['TotalDebt']/balance_sheet['CommonStockEquity']\n",
    "\n",
    "debt_equity_ratio = balance_sheet[['asOfDate', 'TotalDebt/CommonStockEquity']]\n",
    "debt_equity_ratio = debt_equity_ratio.set_index('asOfDate')"
   ]
  },
  {
   "cell_type": "code",
   "execution_count": 17,
   "id": "a2a9641e-9719-4073-9228-ed6f21919ccc",
   "metadata": {
    "tags": []
   },
   "outputs": [
    {
     "data": {
      "text/html": [
       "<style type=\"text/css\">\n",
       "</style>\n",
       "<table id=\"T_0c025\">\n",
       "  <thead>\n",
       "    <tr>\n",
       "      <th class=\"blank level0\" >&nbsp;</th>\n",
       "      <th id=\"T_0c025_level0_col0\" class=\"col_heading level0 col0\" >TotalDebt/CommonStockEquity</th>\n",
       "    </tr>\n",
       "    <tr>\n",
       "      <th class=\"index_name level0\" >asOfDate</th>\n",
       "      <th class=\"blank col0\" >&nbsp;</th>\n",
       "    </tr>\n",
       "  </thead>\n",
       "  <tbody>\n",
       "    <tr>\n",
       "      <th id=\"T_0c025_level0_row0\" class=\"row_heading level0 row0\" >2022-03-31 00:00:00</th>\n",
       "      <td id=\"T_0c025_row0_col0\" class=\"data row0 col0\" >29.60%</td>\n",
       "    </tr>\n",
       "    <tr>\n",
       "      <th id=\"T_0c025_level0_row1\" class=\"row_heading level0 row1\" >2022-06-30 00:00:00</th>\n",
       "      <td id=\"T_0c025_row1_col0\" class=\"data row1 col0\" >30.20%</td>\n",
       "    </tr>\n",
       "    <tr>\n",
       "      <th id=\"T_0c025_level0_row2\" class=\"row_heading level0 row2\" >2022-09-30 00:00:00</th>\n",
       "      <td id=\"T_0c025_row2_col0\" class=\"data row2 col0\" >30.54%</td>\n",
       "    </tr>\n",
       "    <tr>\n",
       "      <th id=\"T_0c025_level0_row3\" class=\"row_heading level0 row3\" >2022-12-31 00:00:00</th>\n",
       "      <td id=\"T_0c025_row3_col0\" class=\"data row3 col0\" >31.77%</td>\n",
       "    </tr>\n",
       "  </tbody>\n",
       "</table>\n"
      ],
      "text/plain": [
       "<pandas.io.formats.style.Styler at 0x11e065e50>"
      ]
     },
     "execution_count": 17,
     "metadata": {},
     "output_type": "execute_result"
    }
   ],
   "source": [
    "debt_equity_ratio.style.format({\n",
    "    'TotalDebt/CommonStockEquity': '{:,.2%}'.format\n",
    "})"
   ]
  },
  {
   "cell_type": "code",
   "execution_count": 18,
   "id": "25fde516-19fc-4ff1-a289-c46bdc89568a",
   "metadata": {
    "tags": []
   },
   "outputs": [
    {
     "data": {
      "text/plain": [
       "DatetimeIndex(['2022-03-31', '2022-06-30', '2022-09-30', '2022-12-31'], dtype='datetime64[ns]', name='asOfDate', freq=None)"
      ]
     },
     "execution_count": 18,
     "metadata": {},
     "output_type": "execute_result"
    }
   ],
   "source": [
    "debt_equity_ratio.index"
   ]
  },
  {
   "cell_type": "code",
   "execution_count": 19,
   "id": "9c2985bf-13f9-4720-8fc9-a0b6193bfb4a",
   "metadata": {},
   "outputs": [
    {
     "data": {
      "image/png": "[encoded data removed]",
      "text/plain": [
       "<Figure size 640x480 with 1 Axes>"
      ]
     },
     "metadata": {},
     "output_type": "display_data"
    }
   ],
   "source": [
    "debt_equity_ratio.plot();"
   ]
  },
  {
   "cell_type": "code",
   "execution_count": null,
   "id": "02fb4ae3-bd07-49a2-af3f-e24607d7d790",
   "metadata": {},
   "outputs": [],
   "source": []
  }
 ],
 "metadata": {
  "kernelspec": {
   "display_name": "Python 3 (ipykernel)",
   "language": "python",
   "name": "python3"
  },
  "language_info": {
   "codemirror_mode": {
    "name": "ipython",
    "version": 3
   },
   "file_extension": ".py",
   "mimetype": "text/x-python",
   "name": "python",
   "nbconvert_exporter": "python",
   "pygments_lexer": "ipython3",
   "version": "3.11.2"
  }
 },
 "nbformat": 4,
 "nbformat_minor": 5
}
