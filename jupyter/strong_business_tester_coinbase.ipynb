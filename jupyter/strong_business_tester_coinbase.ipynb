{
 "cells": [
  {
   "cell_type": "markdown",
   "id": "817e3535-7124-4fcb-8d03-4a9177b08e6e",
   "metadata": {},
   "source": [
    "# Strong business tester\n",
    "\n",
    "This notebook tries to test if a business is strong based on some financial parameters:\n",
    "\n",
    "* Strong free cash flow\n",
    "* Strong balance sheet"
   ]
  },
  {
   "cell_type": "code",
   "execution_count": 1,
   "id": "9715f194-f801-4685-8ba7-7f948d5fe6e9",
   "metadata": {
    "tags": []
   },
   "outputs": [],
   "source": [
    "from yahooquery import Ticker"
   ]
  },
  {
   "cell_type": "code",
   "execution_count": 2,
   "id": "fe5fb293-1de9-4df4-a916-0d0ce9a27436",
   "metadata": {
    "tags": []
   },
   "outputs": [],
   "source": [
    "ticker = Ticker('coin')"
   ]
  },
  {
   "cell_type": "markdown",
   "id": "6eb72e9d-0865-4045-8e84-eebc38a697e4",
   "metadata": {},
   "source": [
    "## Cash flow analysis"
   ]
  },
  {
   "cell_type": "code",
   "execution_count": 3,
   "id": "1249eb01-14ff-4f54-87f9-70f56b2176aa",
   "metadata": {
    "tags": []
   },
   "outputs": [],
   "source": [
    "cash_flow = ticker.cash_flow()"
   ]
  },
  {
   "cell_type": "code",
   "execution_count": 4,
   "id": "1c44d5c6-0e9e-4a07-b666-9472e58657b7",
   "metadata": {
    "tags": []
   },
   "outputs": [
    {
     "data": {
      "text/plain": [
       "pandas.core.frame.DataFrame"
      ]
     },
     "execution_count": 4,
     "metadata": {},
     "output_type": "execute_result"
    }
   ],
   "source": [
    "type(cash_flow)"
   ]
  },
  {
   "cell_type": "code",
   "execution_count": 5,
   "id": "7a12144f-17b6-4987-ad58-522c64524262",
   "metadata": {
    "tags": []
   },
   "outputs": [
    {
     "data": {
      "text/plain": [
       "Index(['asOfDate', 'periodType', 'currencyCode', 'AssetImpairmentCharge',\n",
       "       'BeginningCashPosition', 'CapitalExpenditure',\n",
       "       'CapitalExpenditureReported',\n",
       "       'CashFlowFromContinuingFinancingActivities',\n",
       "       'CashFlowFromContinuingInvestingActivities',\n",
       "       'CashFlowFromContinuingOperatingActivities', 'ChangeInAccountPayable',\n",
       "       'ChangeInCashSupplementalAsReported', 'ChangeInOtherCurrentAssets',\n",
       "       'ChangeInOtherCurrentLiabilities', 'ChangeInOtherWorkingCapital',\n",
       "       'ChangeInPayable', 'ChangeInPayablesAndAccruedExpense',\n",
       "       'ChangeInPrepaidAssets', 'ChangeInReceivables',\n",
       "       'ChangeInWorkingCapital', 'ChangesInAccountReceivables',\n",
       "       'ChangesInCash', 'DeferredIncomeTax', 'DeferredTax',\n",
       "       'DepreciationAmortizationDepletion', 'DepreciationAndAmortization',\n",
       "       'EffectOfExchangeRateChanges', 'EndCashPosition', 'FinancingCashFlow',\n",
       "       'FreeCashFlow', 'GainLossOnInvestmentSecurities', 'GainLossOnSaleOfPPE',\n",
       "       'IncomeTaxPaidSupplementalData', 'InterestPaidSupplementalData',\n",
       "       'InvestingCashFlow', 'IssuanceOfDebt', 'LongTermDebtIssuance',\n",
       "       'NetBusinessPurchaseAndSale', 'NetForeignCurrencyExchangeGainLoss',\n",
       "       'NetIncome', 'NetIncomeFromContinuingOperations',\n",
       "       'NetIntangiblesPurchaseAndSale', 'NetInvestmentPurchaseAndSale',\n",
       "       'NetIssuancePaymentsOfDebt', 'NetLongTermDebtIssuance',\n",
       "       'NetOtherFinancingCharges', 'NetOtherInvestingChanges',\n",
       "       'NetPPEPurchaseAndSale', 'NetShortTermDebtIssuance',\n",
       "       'OperatingCashFlow', 'OperatingGainsLosses', 'OtherNonCashItems',\n",
       "       'ProceedsFromStockOptionExercised', 'ProvisionandWriteOffofAssets',\n",
       "       'PurchaseOfBusiness', 'PurchaseOfIntangibles', 'PurchaseOfInvestment',\n",
       "       'PurchaseOfPPE', 'RepaymentOfDebt', 'SaleOfBusiness',\n",
       "       'SaleOfIntangibles', 'SaleOfInvestment', 'SaleOfPPE',\n",
       "       'ShortTermDebtIssuance', 'ShortTermDebtPayments',\n",
       "       'StockBasedCompensation', 'UnrealizedGainLossOnInvestmentSecurities'],\n",
       "      dtype='object')"
      ]
     },
     "execution_count": 5,
     "metadata": {},
     "output_type": "execute_result"
    }
   ],
   "source": [
    "cash_flow.columns"
   ]
  },
  {
   "cell_type": "code",
   "execution_count": 6,
   "id": "79d5b420-025f-47b5-ad4d-370122b89cc1",
   "metadata": {
    "tags": []
   },
   "outputs": [
    {
     "data": {
      "text/html": [
       "<style type=\"text/css\">\n",
       "</style>\n",
       "<table id=\"T_b9e9f\">\n",
       "  <thead>\n",
       "    <tr>\n",
       "      <th class=\"blank level0\" >&nbsp;</th>\n",
       "      <th id=\"T_b9e9f_level0_col0\" class=\"col_heading level0 col0\" >asOfDate</th>\n",
       "      <th id=\"T_b9e9f_level0_col1\" class=\"col_heading level0 col1\" >FreeCashFlow</th>\n",
       "    </tr>\n",
       "    <tr>\n",
       "      <th class=\"index_name level0\" >symbol</th>\n",
       "      <th class=\"blank col0\" >&nbsp;</th>\n",
       "      <th class=\"blank col1\" >&nbsp;</th>\n",
       "    </tr>\n",
       "  </thead>\n",
       "  <tbody>\n",
       "    <tr>\n",
       "      <th id=\"T_b9e9f_level0_row0\" class=\"row_heading level0 row0\" >coin</th>\n",
       "      <td id=\"T_b9e9f_row0_col0\" class=\"data row0 col0\" >2019-12-31 00:00:00</td>\n",
       "      <td id=\"T_b9e9f_row0_col1\" class=\"data row0 col1\" >-121,065,000.00</td>\n",
       "    </tr>\n",
       "    <tr>\n",
       "      <th id=\"T_b9e9f_level0_row1\" class=\"row_heading level0 row1\" >coin</th>\n",
       "      <td id=\"T_b9e9f_row1_col0\" class=\"data row1 col0\" >2020-12-31 00:00:00</td>\n",
       "      <td id=\"T_b9e9f_row1_col1\" class=\"data row1 col1\" >2,985,268,000.00</td>\n",
       "    </tr>\n",
       "    <tr>\n",
       "      <th id=\"T_b9e9f_level0_row2\" class=\"row_heading level0 row2\" >coin</th>\n",
       "      <td id=\"T_b9e9f_row2_col0\" class=\"data row2 col0\" >2021-12-31 00:00:00</td>\n",
       "      <td id=\"T_b9e9f_row2_col1\" class=\"data row2 col1\" >10,644,248,000.00</td>\n",
       "    </tr>\n",
       "    <tr>\n",
       "      <th id=\"T_b9e9f_level0_row3\" class=\"row_heading level0 row3\" >coin</th>\n",
       "      <td id=\"T_b9e9f_row3_col0\" class=\"data row3 col0\" >2022-12-31 00:00:00</td>\n",
       "      <td id=\"T_b9e9f_row3_col1\" class=\"data row3 col1\" >-1,649,390,000.00</td>\n",
       "    </tr>\n",
       "    <tr>\n",
       "      <th id=\"T_b9e9f_level0_row4\" class=\"row_heading level0 row4\" >coin</th>\n",
       "      <td id=\"T_b9e9f_row4_col0\" class=\"data row4 col0\" >2022-12-31 00:00:00</td>\n",
       "      <td id=\"T_b9e9f_row4_col1\" class=\"data row4 col1\" >-1,649,390,000.00</td>\n",
       "    </tr>\n",
       "  </tbody>\n",
       "</table>\n"
      ],
      "text/plain": [
       "<pandas.io.formats.style.Styler at 0x115c71cd0>"
      ]
     },
     "execution_count": 6,
     "metadata": {},
     "output_type": "execute_result"
    }
   ],
   "source": [
    "cash_flow[['asOfDate', 'FreeCashFlow']].style.format({\n",
    "    'FreeCashFlow': '{:,.2f}'.format,\n",
    "})"
   ]
  },
  {
   "cell_type": "markdown",
   "id": "a76252ba-c168-42ba-ad35-244253d79e6b",
   "metadata": {},
   "source": [
    "## Balance sheet analysis"
   ]
  },
  {
   "cell_type": "code",
   "execution_count": 7,
   "id": "8d08f36d-5d76-40f4-ac45-e679b41a4a54",
   "metadata": {
    "tags": []
   },
   "outputs": [],
   "source": [
    "balance_sheet = ticker.balance_sheet(frequency='Quarterly')"
   ]
  },
  {
   "cell_type": "code",
   "execution_count": 8,
   "id": "6f74d02a-34fd-46cd-944c-88d828f337a4",
   "metadata": {
    "tags": []
   },
   "outputs": [
    {
     "data": {
      "text/plain": [
       "pandas.core.frame.DataFrame"
      ]
     },
     "execution_count": 8,
     "metadata": {},
     "output_type": "execute_result"
    }
   ],
   "source": [
    "type(balance_sheet)"
   ]
  },
  {
   "cell_type": "code",
   "execution_count": 9,
   "id": "1d041188-b753-4333-8de7-5c162a82adeb",
   "metadata": {
    "tags": []
   },
   "outputs": [
    {
     "data": {
      "text/plain": [
       "Index(['asOfDate', 'periodType', 'currencyCode', 'AccountsPayable',\n",
       "       'AccountsReceivable', 'AccruedInterestReceivable',\n",
       "       'AccumulatedDepreciation', 'AdditionalPaidInCapital',\n",
       "       'CapitalLeaseObligations', 'CapitalStock', 'CashAndCashEquivalents',\n",
       "       'CashCashEquivalentsAndShortTermInvestments', 'CommonStock',\n",
       "       'CommonStockEquity', 'ConstructionInProgress', 'CurrentAccruedExpenses',\n",
       "       'CurrentAssets', 'CurrentCapitalLeaseObligation', 'CurrentDebt',\n",
       "       'CurrentDebtAndCapitalLeaseObligation', 'CurrentDeferredLiabilities',\n",
       "       'CurrentDeferredRevenue', 'CurrentLiabilities',\n",
       "       'GainsLossesNotAffectingRetainedEarnings', 'Goodwill',\n",
       "       'GoodwillAndOtherIntangibleAssets', 'GrossPPE', 'HedgingAssetsCurrent',\n",
       "       'IncomeTaxPayable', 'InvestedCapital', 'InvestmentsAndAdvances',\n",
       "       'Leases', 'LoansReceivable', 'LongTermCapitalLeaseObligation',\n",
       "       'LongTermDebt', 'LongTermDebtAndCapitalLeaseObligation',\n",
       "       'LongTermEquityInvestment', 'MachineryFurnitureEquipment', 'NetPPE',\n",
       "       'NetTangibleAssets', 'NonCurrentDeferredAssets',\n",
       "       'NonCurrentDeferredTaxesAssets', 'NonCurrentPrepaidAssets',\n",
       "       'OrdinarySharesNumber', 'OtherCurrentAssets', 'OtherCurrentBorrowings',\n",
       "       'OtherCurrentLiabilities', 'OtherIntangibleAssets', 'OtherInvestments',\n",
       "       'OtherNonCurrentAssets', 'OtherNonCurrentLiabilities', 'OtherPayable',\n",
       "       'OtherProperties', 'OtherShortTermInvestments', 'Payables',\n",
       "       'PayablesAndAccruedExpenses', 'PreferredSecuritiesOutsideStockEquity',\n",
       "       'PrepaidAssets', 'Properties', 'Receivables',\n",
       "       'ReceivablesAdjustmentsAllowances', 'RestrictedCash',\n",
       "       'RetainedEarnings', 'ShareIssued', 'StockholdersEquity',\n",
       "       'TangibleBookValue', 'TaxesReceivable', 'TotalAssets',\n",
       "       'TotalCapitalization', 'TotalDebt', 'TotalEquityGrossMinorityInterest',\n",
       "       'TotalLiabilitiesNetMinorityInterest', 'TotalNonCurrentAssets',\n",
       "       'TotalNonCurrentLiabilitiesNetMinorityInterest', 'TotalTaxPayable',\n",
       "       'WorkingCapital'],\n",
       "      dtype='object')"
      ]
     },
     "execution_count": 9,
     "metadata": {},
     "output_type": "execute_result"
    }
   ],
   "source": [
    "balance_sheet.columns"
   ]
  },
  {
   "cell_type": "code",
   "execution_count": 10,
   "id": "cb46a906-e5ab-4d44-b440-5f2dd0d9d846",
   "metadata": {
    "tags": []
   },
   "outputs": [],
   "source": [
    "balance_sheet['TotalDebt/CommonStockEquity']=balance_sheet['TotalDebt']/balance_sheet['CommonStockEquity']"
   ]
  },
  {
   "cell_type": "code",
   "execution_count": 11,
   "id": "715204b8-bc68-46f8-8020-6feb56ee8507",
   "metadata": {
    "tags": []
   },
   "outputs": [],
   "source": [
    "debt_to_equity = balance_sheet[['asOfDate', 'TotalDebt', 'CommonStockEquity', 'TotalDebt/CommonStockEquity']]"
   ]
  },
  {
   "cell_type": "code",
   "execution_count": 12,
   "id": "d045a9fe-a7ea-48a6-aedb-946bb334a934",
   "metadata": {
    "tags": []
   },
   "outputs": [
    {
     "data": {
      "text/html": [
       "<style type=\"text/css\">\n",
       "</style>\n",
       "<table id=\"T_19997\">\n",
       "  <thead>\n",
       "    <tr>\n",
       "      <th class=\"blank level0\" >&nbsp;</th>\n",
       "      <th id=\"T_19997_level0_col0\" class=\"col_heading level0 col0\" >asOfDate</th>\n",
       "      <th id=\"T_19997_level0_col1\" class=\"col_heading level0 col1\" >TotalDebt</th>\n",
       "      <th id=\"T_19997_level0_col2\" class=\"col_heading level0 col2\" >CommonStockEquity</th>\n",
       "      <th id=\"T_19997_level0_col3\" class=\"col_heading level0 col3\" >TotalDebt/CommonStockEquity</th>\n",
       "    </tr>\n",
       "    <tr>\n",
       "      <th class=\"index_name level0\" >symbol</th>\n",
       "      <th class=\"blank col0\" >&nbsp;</th>\n",
       "      <th class=\"blank col1\" >&nbsp;</th>\n",
       "      <th class=\"blank col2\" >&nbsp;</th>\n",
       "      <th class=\"blank col3\" >&nbsp;</th>\n",
       "    </tr>\n",
       "  </thead>\n",
       "  <tbody>\n",
       "    <tr>\n",
       "      <th id=\"T_19997_level0_row0\" class=\"row_heading level0 row0\" >coin</th>\n",
       "      <td id=\"T_19997_row0_col0\" class=\"data row0 col0\" >2021-12-31 00:00:00</td>\n",
       "      <td id=\"T_19997_row0_col1\" class=\"data row0 col1\" >3,491,239,000.00</td>\n",
       "      <td id=\"T_19997_row0_col2\" class=\"data row0 col2\" >6,381,689,000.00</td>\n",
       "      <td id=\"T_19997_row0_col3\" class=\"data row0 col3\" >54.71%</td>\n",
       "    </tr>\n",
       "    <tr>\n",
       "      <th id=\"T_19997_level0_row1\" class=\"row_heading level0 row1\" >coin</th>\n",
       "      <td id=\"T_19997_row1_col0\" class=\"data row1 col0\" >2022-03-31 00:00:00</td>\n",
       "      <td id=\"T_19997_row1_col1\" class=\"data row1 col1\" >3,635,404,000.00</td>\n",
       "      <td id=\"T_19997_row1_col2\" class=\"data row1 col2\" >6,496,093,000.00</td>\n",
       "      <td id=\"T_19997_row1_col3\" class=\"data row1 col3\" >55.96%</td>\n",
       "    </tr>\n",
       "    <tr>\n",
       "      <th id=\"T_19997_level0_row2\" class=\"row_heading level0 row2\" >coin</th>\n",
       "      <td id=\"T_19997_row2_col0\" class=\"data row2 col0\" >2022-06-30 00:00:00</td>\n",
       "      <td id=\"T_19997_row2_col1\" class=\"data row2 col1\" >3,483,028,000.00</td>\n",
       "      <td id=\"T_19997_row2_col2\" class=\"data row2 col2\" >5,813,389,000.00</td>\n",
       "      <td id=\"T_19997_row2_col3\" class=\"data row2 col3\" >59.91%</td>\n",
       "    </tr>\n",
       "    <tr>\n",
       "      <th id=\"T_19997_level0_row3\" class=\"row_heading level0 row3\" >coin</th>\n",
       "      <td id=\"T_19997_row3_col0\" class=\"data row3 col0\" >2022-09-30 00:00:00</td>\n",
       "      <td id=\"T_19997_row3_col1\" class=\"data row3 col1\" >3,474,941,000.00</td>\n",
       "      <td id=\"T_19997_row3_col2\" class=\"data row3 col2\" >5,626,315,000.00</td>\n",
       "      <td id=\"T_19997_row3_col3\" class=\"data row3 col3\" >61.76%</td>\n",
       "    </tr>\n",
       "    <tr>\n",
       "      <th id=\"T_19997_level0_row4\" class=\"row_heading level0 row4\" >coin</th>\n",
       "      <td id=\"T_19997_row4_col0\" class=\"data row4 col0\" >2022-12-31 00:00:00</td>\n",
       "      <td id=\"T_19997_row4_col1\" class=\"data row4 col1\" >3,489,745,000.00</td>\n",
       "      <td id=\"T_19997_row4_col2\" class=\"data row4 col2\" >5,454,557,000.00</td>\n",
       "      <td id=\"T_19997_row4_col3\" class=\"data row4 col3\" >63.98%</td>\n",
       "    </tr>\n",
       "  </tbody>\n",
       "</table>\n"
      ],
      "text/plain": [
       "<pandas.io.formats.style.Styler at 0x129153410>"
      ]
     },
     "execution_count": 12,
     "metadata": {},
     "output_type": "execute_result"
    }
   ],
   "source": [
    "debt_to_equity.style.format({\n",
    "    'TotalDebt': '{:,.2f}'.format,    \n",
    "    'CommonStockEquity': '{:,.2f}'.format,\n",
    "    'TotalDebt/CommonStockEquity': '{:,.2%}'.format\n",
    "})"
   ]
  },
  {
   "cell_type": "code",
   "execution_count": null,
   "id": "9c2985bf-13f9-4720-8fc9-a0b6193bfb4a",
   "metadata": {},
   "outputs": [],
   "source": []
  }
 ],
 "metadata": {
  "kernelspec": {
   "display_name": "Python 3 (ipykernel)",
   "language": "python",
   "name": "python3"
  },
  "language_info": {
   "codemirror_mode": {
    "name": "ipython",
    "version": 3
   },
   "file_extension": ".py",
   "mimetype": "text/x-python",
   "name": "python",
   "nbconvert_exporter": "python",
   "pygments_lexer": "ipython3",
   "version": "3.11.2"
  }
 },
 "nbformat": 4,
 "nbformat_minor": 5
}
