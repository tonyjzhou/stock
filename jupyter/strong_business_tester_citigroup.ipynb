{
 "cells": [
  {
   "cell_type": "markdown",
   "id": "817e3535-7124-4fcb-8d03-4a9177b08e6e",
   "metadata": {},
   "source": [
    "# Strong business tester\n",
    "\n",
    "This notebook tries to test if a business is strong based on some financial parameters:\n",
    "\n",
    "* Strong free cash flow\n",
    "* Strong balance sheet"
   ]
  },
  {
   "cell_type": "code",
   "execution_count": 1,
   "id": "9715f194-f801-4685-8ba7-7f948d5fe6e9",
   "metadata": {
    "tags": []
   },
   "outputs": [],
   "source": [
    "from yahooquery import Ticker"
   ]
  },
  {
   "cell_type": "code",
   "execution_count": 2,
   "id": "fe5fb293-1de9-4df4-a916-0d0ce9a27436",
   "metadata": {
    "tags": []
   },
   "outputs": [],
   "source": [
    "ticker = Ticker('c')"
   ]
  },
  {
   "cell_type": "markdown",
   "id": "6eb72e9d-0865-4045-8e84-eebc38a697e4",
   "metadata": {},
   "source": [
    "## Cash flow analysis"
   ]
  },
  {
   "cell_type": "code",
   "execution_count": 3,
   "id": "1249eb01-14ff-4f54-87f9-70f56b2176aa",
   "metadata": {
    "tags": []
   },
   "outputs": [],
   "source": [
    "cash_flow = ticker.cash_flow()"
   ]
  },
  {
   "cell_type": "code",
   "execution_count": 4,
   "id": "1c44d5c6-0e9e-4a07-b666-9472e58657b7",
   "metadata": {
    "tags": []
   },
   "outputs": [
    {
     "data": {
      "text/plain": [
       "pandas.core.frame.DataFrame"
      ]
     },
     "execution_count": 4,
     "metadata": {},
     "output_type": "execute_result"
    }
   ],
   "source": [
    "type(cash_flow)"
   ]
  },
  {
   "cell_type": "code",
   "execution_count": 5,
   "id": "7a12144f-17b6-4987-ad58-522c64524262",
   "metadata": {
    "tags": []
   },
   "outputs": [
    {
     "data": {
      "text/plain": [
       "Index(['asOfDate', 'periodType', 'currencyCode', 'AssetImpairmentCharge',\n",
       "       'BeginningCashPosition', 'CapitalExpenditure',\n",
       "       'CapitalExpenditureReported', 'CashDividendsPaid',\n",
       "       'CashFlowFromContinuingFinancingActivities',\n",
       "       'CashFlowFromContinuingInvestingActivities',\n",
       "       'CashFlowFromContinuingOperatingActivities',\n",
       "       'ChangeInCashSupplementalAsReported', 'ChangeInOtherCurrentAssets',\n",
       "       'ChangeInOtherCurrentLiabilities', 'ChangeInOtherWorkingCapital',\n",
       "       'ChangeInReceivables', 'ChangeInWorkingCapital', 'ChangesInCash',\n",
       "       'CommonStockPayments', 'DeferredIncomeTax', 'DeferredTax',\n",
       "       'DepreciationAmortizationDepletion', 'DepreciationAndAmortization',\n",
       "       'EffectOfExchangeRateChanges', 'EndCashPosition', 'FinancingCashFlow',\n",
       "       'FreeCashFlow', 'GainLossOnInvestmentSecurities',\n",
       "       'IncomeTaxPaidSupplementalData', 'InterestPaidSupplementalData',\n",
       "       'InvestingCashFlow', 'IssuanceOfCapitalStock', 'IssuanceOfDebt',\n",
       "       'LongTermDebtIssuance', 'LongTermDebtPayments',\n",
       "       'NetBusinessPurchaseAndSale', 'NetCommonStockIssuance', 'NetIncome',\n",
       "       'NetIncomeFromContinuingOperations', 'NetInvestmentPurchaseAndSale',\n",
       "       'NetIssuancePaymentsOfDebt', 'NetLongTermDebtIssuance',\n",
       "       'NetOtherFinancingCharges', 'NetOtherInvestingChanges',\n",
       "       'NetPPEPurchaseAndSale', 'NetPreferredStockIssuance',\n",
       "       'NetShortTermDebtIssuance', 'OperatingCashFlow', 'OperatingGainsLosses',\n",
       "       'OtherNonCashItems', 'PreferredStockIssuance', 'PreferredStockPayments',\n",
       "       'PurchaseOfInvestment', 'RepaymentOfDebt', 'RepurchaseOfCapitalStock',\n",
       "       'SaleOfBusiness', 'SaleOfInvestment', 'SaleOfPPE'],\n",
       "      dtype='object')"
      ]
     },
     "execution_count": 5,
     "metadata": {},
     "output_type": "execute_result"
    }
   ],
   "source": [
    "cash_flow.columns"
   ]
  },
  {
   "cell_type": "code",
   "execution_count": 6,
   "id": "79d5b420-025f-47b5-ad4d-370122b89cc1",
   "metadata": {
    "tags": []
   },
   "outputs": [
    {
     "data": {
      "text/html": [
       "<style type=\"text/css\">\n",
       "</style>\n",
       "<table id=\"T_0a95e\">\n",
       "  <thead>\n",
       "    <tr>\n",
       "      <th class=\"blank level0\" >&nbsp;</th>\n",
       "      <th id=\"T_0a95e_level0_col0\" class=\"col_heading level0 col0\" >asOfDate</th>\n",
       "      <th id=\"T_0a95e_level0_col1\" class=\"col_heading level0 col1\" >FreeCashFlow</th>\n",
       "    </tr>\n",
       "    <tr>\n",
       "      <th class=\"index_name level0\" >symbol</th>\n",
       "      <th class=\"blank col0\" >&nbsp;</th>\n",
       "      <th class=\"blank col1\" >&nbsp;</th>\n",
       "    </tr>\n",
       "  </thead>\n",
       "  <tbody>\n",
       "    <tr>\n",
       "      <th id=\"T_0a95e_level0_row0\" class=\"row_heading level0 row0\" >c</th>\n",
       "      <td id=\"T_0a95e_row0_col0\" class=\"data row0 col0\" >2019-12-31 00:00:00</td>\n",
       "      <td id=\"T_0a95e_row0_col1\" class=\"data row0 col1\" >-18,173,000,000.00</td>\n",
       "    </tr>\n",
       "    <tr>\n",
       "      <th id=\"T_0a95e_level0_row1\" class=\"row_heading level0 row1\" >c</th>\n",
       "      <td id=\"T_0a95e_row1_col0\" class=\"data row1 col0\" >2020-12-31 00:00:00</td>\n",
       "      <td id=\"T_0a95e_row1_col1\" class=\"data row1 col1\" >-24,067,000,000.00</td>\n",
       "    </tr>\n",
       "    <tr>\n",
       "      <th id=\"T_0a95e_level0_row2\" class=\"row_heading level0 row2\" >c</th>\n",
       "      <td id=\"T_0a95e_row2_col0\" class=\"data row2 col0\" >2021-12-31 00:00:00</td>\n",
       "      <td id=\"T_0a95e_row2_col1\" class=\"data row2 col1\" >57,130,000,000.00</td>\n",
       "    </tr>\n",
       "    <tr>\n",
       "      <th id=\"T_0a95e_level0_row3\" class=\"row_heading level0 row3\" >c</th>\n",
       "      <td id=\"T_0a95e_row3_col0\" class=\"data row3 col0\" >2022-12-31 00:00:00</td>\n",
       "      <td id=\"T_0a95e_row3_col1\" class=\"data row3 col1\" >19,437,000,000.00</td>\n",
       "    </tr>\n",
       "    <tr>\n",
       "      <th id=\"T_0a95e_level0_row4\" class=\"row_heading level0 row4\" >c</th>\n",
       "      <td id=\"T_0a95e_row4_col0\" class=\"data row4 col0\" >2022-12-31 00:00:00</td>\n",
       "      <td id=\"T_0a95e_row4_col1\" class=\"data row4 col1\" >19,437,000,000.00</td>\n",
       "    </tr>\n",
       "  </tbody>\n",
       "</table>\n"
      ],
      "text/plain": [
       "<pandas.io.formats.style.Styler at 0x1045bf810>"
      ]
     },
     "execution_count": 6,
     "metadata": {},
     "output_type": "execute_result"
    }
   ],
   "source": [
    "cash_flow[['asOfDate', 'FreeCashFlow']].style.format({\n",
    "    'FreeCashFlow': '{:,.2f}'.format,\n",
    "})"
   ]
  },
  {
   "cell_type": "markdown",
   "id": "a76252ba-c168-42ba-ad35-244253d79e6b",
   "metadata": {},
   "source": [
    "## Balance sheet analysis"
   ]
  },
  {
   "cell_type": "code",
   "execution_count": 7,
   "id": "8d08f36d-5d76-40f4-ac45-e679b41a4a54",
   "metadata": {
    "tags": []
   },
   "outputs": [],
   "source": [
    "balance_sheet = ticker.balance_sheet(frequency='Quarterly')"
   ]
  },
  {
   "cell_type": "code",
   "execution_count": 8,
   "id": "6f74d02a-34fd-46cd-944c-88d828f337a4",
   "metadata": {
    "tags": []
   },
   "outputs": [
    {
     "data": {
      "text/plain": [
       "pandas.core.frame.DataFrame"
      ]
     },
     "execution_count": 8,
     "metadata": {},
     "output_type": "execute_result"
    }
   ],
   "source": [
    "type(balance_sheet)"
   ]
  },
  {
   "cell_type": "code",
   "execution_count": 9,
   "id": "1d041188-b753-4333-8de7-5c162a82adeb",
   "metadata": {
    "tags": []
   },
   "outputs": [
    {
     "data": {
      "text/plain": [
       "Index(['asOfDate', 'periodType', 'currencyCode', 'AccountsPayable',\n",
       "       'AccountsReceivable', 'AdditionalPaidInCapital',\n",
       "       'AvailableForSaleSecurities', 'CapitalStock', 'CashAndCashEquivalents',\n",
       "       'CashFinancial', 'CommercialPaper', 'CommonStock', 'CommonStockEquity',\n",
       "       'CurrentDebt', 'CurrentDebtAndCapitalLeaseObligation',\n",
       "       'GainsLossesNotAffectingRetainedEarnings', 'Goodwill',\n",
       "       'GoodwillAndOtherIntangibleAssets', 'HeldToMaturitySecurities',\n",
       "       'InvestedCapital', 'InvestmentsAndAdvances', 'LongTermDebt',\n",
       "       'LongTermDebtAndCapitalLeaseObligation', 'LongTermProvisions',\n",
       "       'MinorityInterest', 'NetDebt', 'NetPPE', 'NetTangibleAssets',\n",
       "       'OrdinarySharesNumber', 'OtherCurrentBorrowings',\n",
       "       'OtherIntangibleAssets', 'OtherReceivables',\n",
       "       'OtherShortTermInvestments', 'Payables', 'PayablesAndAccruedExpenses',\n",
       "       'PreferredSharesNumber', 'PreferredStock', 'PreferredStockEquity',\n",
       "       'Receivables', 'RetainedEarnings', 'ShareIssued', 'StockholdersEquity',\n",
       "       'TangibleBookValue', 'TotalAssets', 'TotalCapitalization', 'TotalDebt',\n",
       "       'TotalEquityGrossMinorityInterest',\n",
       "       'TotalLiabilitiesNetMinorityInterest', 'TradingSecurities',\n",
       "       'TreasurySharesNumber', 'TreasuryStock'],\n",
       "      dtype='object')"
      ]
     },
     "execution_count": 9,
     "metadata": {},
     "output_type": "execute_result"
    }
   ],
   "source": [
    "balance_sheet.columns"
   ]
  },
  {
   "cell_type": "code",
   "execution_count": 10,
   "id": "cb46a906-e5ab-4d44-b440-5f2dd0d9d846",
   "metadata": {
    "tags": []
   },
   "outputs": [],
   "source": [
    "balance_sheet['TotalDebt/CommonStockEquity']=balance_sheet['TotalDebt']/balance_sheet['CommonStockEquity']"
   ]
  },
  {
   "cell_type": "code",
   "execution_count": 11,
   "id": "715204b8-bc68-46f8-8020-6feb56ee8507",
   "metadata": {
    "tags": []
   },
   "outputs": [],
   "source": [
    "debt_to_equity = balance_sheet[['asOfDate', 'CommonStockEquity', 'TotalDebt', 'TotalDebt/CommonStockEquity']]"
   ]
  },
  {
   "cell_type": "code",
   "execution_count": 12,
   "id": "d045a9fe-a7ea-48a6-aedb-946bb334a934",
   "metadata": {
    "tags": []
   },
   "outputs": [
    {
     "data": {
      "text/html": [
       "<style type=\"text/css\">\n",
       "</style>\n",
       "<table id=\"T_187e3\">\n",
       "  <thead>\n",
       "    <tr>\n",
       "      <th class=\"blank level0\" >&nbsp;</th>\n",
       "      <th id=\"T_187e3_level0_col0\" class=\"col_heading level0 col0\" >asOfDate</th>\n",
       "      <th id=\"T_187e3_level0_col1\" class=\"col_heading level0 col1\" >CommonStockEquity</th>\n",
       "      <th id=\"T_187e3_level0_col2\" class=\"col_heading level0 col2\" >TotalDebt</th>\n",
       "      <th id=\"T_187e3_level0_col3\" class=\"col_heading level0 col3\" >TotalDebt/CommonStockEquity</th>\n",
       "    </tr>\n",
       "    <tr>\n",
       "      <th class=\"index_name level0\" >symbol</th>\n",
       "      <th class=\"blank col0\" >&nbsp;</th>\n",
       "      <th class=\"blank col1\" >&nbsp;</th>\n",
       "      <th class=\"blank col2\" >&nbsp;</th>\n",
       "      <th class=\"blank col3\" >&nbsp;</th>\n",
       "    </tr>\n",
       "  </thead>\n",
       "  <tbody>\n",
       "    <tr>\n",
       "      <th id=\"T_187e3_level0_row0\" class=\"row_heading level0 row0\" >c</th>\n",
       "      <td id=\"T_187e3_row0_col0\" class=\"data row0 col0\" >2021-12-31 00:00:00</td>\n",
       "      <td id=\"T_187e3_row0_col1\" class=\"data row0 col1\" >182,977,000,000.00</td>\n",
       "      <td id=\"T_187e3_row0_col2\" class=\"data row0 col2\" >282,347,000,000.00</td>\n",
       "      <td id=\"T_187e3_row0_col3\" class=\"data row0 col3\" >154.31%</td>\n",
       "    </tr>\n",
       "    <tr>\n",
       "      <th id=\"T_187e3_level0_row1\" class=\"row_heading level0 row1\" >c</th>\n",
       "      <td id=\"T_187e3_row1_col0\" class=\"data row1 col0\" >2022-03-31 00:00:00</td>\n",
       "      <td id=\"T_187e3_row1_col1\" class=\"data row1 col1\" >178,714,000,000.00</td>\n",
       "      <td id=\"T_187e3_row1_col2\" class=\"data row1 col2\" >284,098,000,000.00</td>\n",
       "      <td id=\"T_187e3_row1_col3\" class=\"data row1 col3\" >158.97%</td>\n",
       "    </tr>\n",
       "    <tr>\n",
       "      <th id=\"T_187e3_level0_row2\" class=\"row_heading level0 row2\" >c</th>\n",
       "      <td id=\"T_187e3_row2_col0\" class=\"data row2 col0\" >2022-06-30 00:00:00</td>\n",
       "      <td id=\"T_187e3_row2_col1\" class=\"data row2 col1\" >180,019,000,000.00</td>\n",
       "      <td id=\"T_187e3_row2_col2\" class=\"data row2 col2\" >297,479,000,000.00</td>\n",
       "      <td id=\"T_187e3_row2_col3\" class=\"data row2 col3\" >165.25%</td>\n",
       "    </tr>\n",
       "    <tr>\n",
       "      <th id=\"T_187e3_level0_row3\" class=\"row_heading level0 row3\" >c</th>\n",
       "      <td id=\"T_187e3_row3_col0\" class=\"data row3 col0\" >2022-09-30 00:00:00</td>\n",
       "      <td id=\"T_187e3_row3_col1\" class=\"data row3 col1\" >179,565,000,000.00</td>\n",
       "      <td id=\"T_187e3_row3_col2\" class=\"data row3 col2\" >300,436,000,000.00</td>\n",
       "      <td id=\"T_187e3_row3_col3\" class=\"data row3 col3\" >167.31%</td>\n",
       "    </tr>\n",
       "    <tr>\n",
       "      <th id=\"T_187e3_level0_row4\" class=\"row_heading level0 row4\" >c</th>\n",
       "      <td id=\"T_187e3_row4_col0\" class=\"data row4 col0\" >2022-12-31 00:00:00</td>\n",
       "      <td id=\"T_187e3_row4_col1\" class=\"data row4 col1\" >182,194,000,000.00</td>\n",
       "      <td id=\"T_187e3_row4_col2\" class=\"data row4 col2\" >318,702,000,000.00</td>\n",
       "      <td id=\"T_187e3_row4_col3\" class=\"data row4 col3\" >174.92%</td>\n",
       "    </tr>\n",
       "  </tbody>\n",
       "</table>\n"
      ],
      "text/plain": [
       "<pandas.io.formats.style.Styler at 0x11b077890>"
      ]
     },
     "execution_count": 12,
     "metadata": {},
     "output_type": "execute_result"
    }
   ],
   "source": [
    "debt_to_equity.style.format({\n",
    "    'CommonStockEquity': '{:,.2f}'.format,\n",
    "    'TotalDebt': '{:,.2f}'.format,\n",
    "    'TotalDebt/CommonStockEquity': '{:,.2%}'.format\n",
    "})"
   ]
  },
  {
   "cell_type": "code",
   "execution_count": null,
   "id": "9c2985bf-13f9-4720-8fc9-a0b6193bfb4a",
   "metadata": {},
   "outputs": [],
   "source": []
  }
 ],
 "metadata": {
  "kernelspec": {
   "display_name": "Python 3 (ipykernel)",
   "language": "python",
   "name": "python3"
  },
  "language_info": {
   "codemirror_mode": {
    "name": "ipython",
    "version": 3
   },
   "file_extension": ".py",
   "mimetype": "text/x-python",
   "name": "python",
   "nbconvert_exporter": "python",
   "pygments_lexer": "ipython3",
   "version": "3.11.2"
  }
 },
 "nbformat": 4,
 "nbformat_minor": 5
}
