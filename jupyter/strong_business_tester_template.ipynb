{
 "cells": [
  {
   "cell_type": "markdown",
   "id": "817e3535-7124-4fcb-8d03-4a9177b08e6e",
   "metadata": {},
   "source": [
    "# Strong business tester\n",
    "\n",
    "This notebook tries to test if a business is strong based on some financial parameters:\n",
    "\n",
    "* Strong free cash flow\n",
    "* Strong balance sheet"
   ]
  },
  {
   "cell_type": "code",
   "execution_count": 1,
   "id": "9715f194-f801-4685-8ba7-7f948d5fe6e9",
   "metadata": {
    "tags": []
   },
   "outputs": [],
   "source": [
    "from yahooquery import Ticker"
   ]
  },
  {
   "cell_type": "markdown",
   "id": "8e4f4eb8-dfb4-4be3-9fa7-64604d4b2401",
   "metadata": {},
   "source": [
    "## Has strong business?"
   ]
  },
  {
   "cell_type": "code",
   "execution_count": 2,
   "id": "e9d05431-1b0b-4139-ae07-bb6a8999f52a",
   "metadata": {
    "tags": []
   },
   "outputs": [],
   "source": [
    "def non_decreasing(L):\n",
    "    return all(x<=y for x, y in zip(L, L[1:]))\n",
    "\n",
    "def non_increasing(L):\n",
    "    return all(x>=y for x, y in zip(L, L[1:]))\n",
    "\n",
    "def monotonic(L):\n",
    "    return non_decreasing(L) or non_increasing(L)\n",
    "\n",
    "def strictly_increasing(L):\n",
    "    return all(x<y for x, y in zip(L, L[1:]))\n",
    "\n",
    "def strictly_decreasing(L):\n",
    "    return all(x>y for x, y in zip(L, L[1:]))\n",
    "\n",
    "def strictly_monotonic(L):\n",
    "    return strictly_increasing(L) or strictly_decreasing(L)"
   ]
  },
  {
   "cell_type": "code",
   "execution_count": 3,
   "id": "2b259cf3-9598-411b-a77d-cb56dbb7d6d9",
   "metadata": {},
   "outputs": [],
   "source": [
    "def has_consecutive_positive_fcf(ticker):\n",
    "    cash_flow = ticker.cash_flow(frequency='Annual')\n",
    "    free_cash_flow = cash_flow[['asOfDate', 'FreeCashFlow']]\n",
    "    free_cash_flow = free_cash_flow.set_index('asOfDate')\n",
    "    fcf = free_cash_flow.to_dict()['FreeCashFlow']\n",
    "    return all([v > 0 for v in fcf.values()])"
   ]
  },
  {
   "cell_type": "code",
   "execution_count": 4,
   "id": "7aee1021-0711-4fec-865a-8e8ae5741412",
   "metadata": {},
   "outputs": [],
   "source": [
    "def has_consistently_low_debt_ratios(debt_equity_ratio_values):\n",
    "    return all([v < 0.3 for v in debt_equity_ratio_values])\n",
    "\n",
    "\n",
    "def has_strong_balance_sheet(ticker):\n",
    "    balance_sheet = ticker.balance_sheet(frequency='Quarterly')\n",
    "    balance_sheet['TotalDebt/CommonStockEquity']=balance_sheet['TotalDebt']/balance_sheet['CommonStockEquity']\n",
    "    debt_equity_ratio = balance_sheet[['asOfDate', 'TotalDebt/CommonStockEquity']]\n",
    "    debt_equity_ratio = debt_equity_ratio.set_index('asOfDate').to_dict()['TotalDebt/CommonStockEquity']\n",
    "    debt_equity_ratio_values = list(debt_equity_ratio.values())\n",
    "\n",
    "    if not has_consistently_low_debt_ratios(debt_equity_ratio_values):\n",
    "        print(f\"{ticker} doesn't have consistently low debt ratios\")\n",
    "        return False\n",
    "    \n",
    "    if not strictly_decreasing(debt_equity_ratio_values):\n",
    "        print(f\"{ticker} doesn't have strictly decreasing debt equity ratio\")\n",
    "        return False\n",
    "    \n",
    "    return True"
   ]
  },
  {
   "cell_type": "code",
   "execution_count": 5,
   "id": "70b13386-f7e9-47fb-b4f1-599ffdf34e0d",
   "metadata": {},
   "outputs": [],
   "source": [
    "def has_strong_business(ticker):\n",
    "    if not has_consecutive_positive_fcf(ticker):\n",
    "        print(f\"{ticker} doesn't have consecutive positive fcf\")\n",
    "        return False\n",
    "    \n",
    "    if not has_strong_balance_sheet(ticker):\n",
    "        print(f\"{ticker} doesn't have strong balance sheet\")\n",
    "        return False\n",
    "    \n",
    "    return True"
   ]
  },
  {
   "cell_type": "code",
   "execution_count": 6,
   "id": "ff6caa04-2f32-4557-a38c-ef3149a9557c",
   "metadata": {
    "tags": []
   },
   "outputs": [
    {
     "data": {
      "text/plain": [
       "True"
      ]
     },
     "execution_count": 6,
     "metadata": {},
     "output_type": "execute_result"
    }
   ],
   "source": [
    "has_strong_business(Ticker('TSLA'))"
   ]
  },
  {
   "cell_type": "code",
   "execution_count": 7,
   "id": "66faab8c-5c0e-46df-944f-9d3c989348fc",
   "metadata": {
    "tags": []
   },
   "outputs": [
    {
     "name": "stdout",
     "output_type": "stream",
     "text": [
      "<yahooquery.ticker.Ticker object at 0x11c470bd0> doesn't have consecutive positive fcf\n"
     ]
    },
    {
     "data": {
      "text/plain": [
       "False"
      ]
     },
     "execution_count": 7,
     "metadata": {},
     "output_type": "execute_result"
    }
   ],
   "source": [
    "has_strong_business(Ticker('LCID'))"
   ]
  },
  {
   "cell_type": "code",
   "execution_count": 8,
   "id": "117071ec-a8f5-433a-ba95-4cb21225a5e2",
   "metadata": {
    "tags": []
   },
   "outputs": [
    {
     "name": "stdout",
     "output_type": "stream",
     "text": [
      "<yahooquery.ticker.Ticker object at 0x11c4897d0> doesn't have consecutive positive fcf\n"
     ]
    },
    {
     "data": {
      "text/plain": [
       "False"
      ]
     },
     "execution_count": 8,
     "metadata": {},
     "output_type": "execute_result"
    }
   ],
   "source": [
    "has_strong_business(Ticker('AMZN'))"
   ]
  },
  {
   "cell_type": "code",
   "execution_count": 9,
   "id": "6e8a121d-119a-430d-9797-0a6ad314ba49",
   "metadata": {
    "tags": []
   },
   "outputs": [
    {
     "name": "stdout",
     "output_type": "stream",
     "text": [
      "<yahooquery.ticker.Ticker object at 0x11c49da90> doesn't have strictly decreasing debt equity ratio\n",
      "<yahooquery.ticker.Ticker object at 0x11c49da90> doesn't have strong balance sheet\n"
     ]
    },
    {
     "data": {
      "text/plain": [
       "False"
      ]
     },
     "execution_count": 9,
     "metadata": {},
     "output_type": "execute_result"
    }
   ],
   "source": [
    "has_strong_business(Ticker('BABA'))"
   ]
  },
  {
   "cell_type": "code",
   "execution_count": null,
   "id": "600c6c04-4b67-4ab2-b1fd-fb109dd127f8",
   "metadata": {},
   "outputs": [],
   "source": []
  }
 ],
 "metadata": {
  "kernelspec": {
   "display_name": "Python 3 (ipykernel)",
   "language": "python",
   "name": "python3"
  },
  "language_info": {
   "codemirror_mode": {
    "name": "ipython",
    "version": 3
   },
   "file_extension": ".py",
   "mimetype": "text/x-python",
   "name": "python",
   "nbconvert_exporter": "python",
   "pygments_lexer": "ipython3",
   "version": "3.11.2"
  }
 },
 "nbformat": 4,
 "nbformat_minor": 5
}
