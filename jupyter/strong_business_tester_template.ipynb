{
 "cells": [
  {
   "cell_type": "markdown",
   "id": "817e3535-7124-4fcb-8d03-4a9177b08e6e",
   "metadata": {},
   "source": [
    "# Strong business tester\n",
    "\n",
    "This notebook tries to test if a business is strong based on some financial parameters:\n",
    "\n",
    "* Strong free cash flow\n",
    "* Strong balance sheet"
   ]
  },
  {
   "cell_type": "code",
   "execution_count": 1,
   "id": "5d4ca22e-5e19-451d-ad80-98f156fcdf61",
   "metadata": {},
   "outputs": [],
   "source": [
    "import matplotlib.pyplot as plt"
   ]
  },
  {
   "cell_type": "code",
   "execution_count": 2,
   "id": "9715f194-f801-4685-8ba7-7f948d5fe6e9",
   "metadata": {
    "tags": []
   },
   "outputs": [],
   "source": [
    "from yahooquery import Ticker"
   ]
  },
  {
   "cell_type": "code",
   "execution_count": 3,
   "id": "fe5fb293-1de9-4df4-a916-0d0ce9a27436",
   "metadata": {
    "tags": []
   },
   "outputs": [],
   "source": [
    "ticker = Ticker('TSLA')"
   ]
  },
  {
   "cell_type": "markdown",
   "id": "6eb72e9d-0865-4045-8e84-eebc38a697e4",
   "metadata": {},
   "source": [
    "## Cash flow analysis"
   ]
  },
  {
   "cell_type": "code",
   "execution_count": 4,
   "id": "1249eb01-14ff-4f54-87f9-70f56b2176aa",
   "metadata": {
    "tags": []
   },
   "outputs": [],
   "source": [
    "cash_flow = ticker.cash_flow(frequency='Annual')"
   ]
  },
  {
   "cell_type": "code",
   "execution_count": 5,
   "id": "1c44d5c6-0e9e-4a07-b666-9472e58657b7",
   "metadata": {
    "tags": []
   },
   "outputs": [
    {
     "data": {
      "text/plain": [
       "pandas.core.frame.DataFrame"
      ]
     },
     "execution_count": 5,
     "metadata": {},
     "output_type": "execute_result"
    }
   ],
   "source": [
    "type(cash_flow)"
   ]
  },
  {
   "cell_type": "code",
   "execution_count": 6,
   "id": "7a12144f-17b6-4987-ad58-522c64524262",
   "metadata": {
    "tags": []
   },
   "outputs": [
    {
     "data": {
      "text/plain": [
       "Index(['asOfDate', 'periodType', 'currencyCode', 'AssetImpairmentCharge',\n",
       "       'BeginningCashPosition', 'CapitalExpenditure',\n",
       "       'CapitalExpenditureReported',\n",
       "       'CashFlowFromContinuingFinancingActivities',\n",
       "       'CashFlowFromContinuingInvestingActivities',\n",
       "       'CashFlowFromContinuingOperatingActivities',\n",
       "       'ChangeInCashSupplementalAsReported', 'ChangeInInventory',\n",
       "       'ChangeInOtherCurrentAssets', 'ChangeInOtherCurrentLiabilities',\n",
       "       'ChangeInOtherWorkingCapital', 'ChangeInPayablesAndAccruedExpense',\n",
       "       'ChangeInPrepaidAssets', 'ChangeInReceivables',\n",
       "       'ChangeInWorkingCapital', 'ChangesInAccountReceivables',\n",
       "       'ChangesInCash', 'CommonStockIssuance', 'Depreciation',\n",
       "       'DepreciationAmortizationDepletion', 'DepreciationAndAmortization',\n",
       "       'EffectOfExchangeRateChanges', 'EndCashPosition', 'FinancingCashFlow',\n",
       "       'FreeCashFlow', 'GainLossOnSaleOfPPE', 'IncomeTaxPaidSupplementalData',\n",
       "       'InterestPaidSupplementalData', 'InvestingCashFlow',\n",
       "       'IssuanceOfCapitalStock', 'IssuanceOfDebt', 'LongTermDebtIssuance',\n",
       "       'LongTermDebtPayments', 'NetBusinessPurchaseAndSale',\n",
       "       'NetCommonStockIssuance', 'NetForeignCurrencyExchangeGainLoss',\n",
       "       'NetIncome', 'NetIncomeFromContinuingOperations',\n",
       "       'NetIntangiblesPurchaseAndSale', 'NetInvestmentPurchaseAndSale',\n",
       "       'NetIssuancePaymentsOfDebt', 'NetLongTermDebtIssuance',\n",
       "       'NetOtherFinancingCharges', 'NetOtherInvestingChanges',\n",
       "       'NetPPEPurchaseAndSale', 'OperatingCashFlow', 'OperatingGainsLosses',\n",
       "       'OtherNonCashItems', 'ProceedsFromStockOptionExercised',\n",
       "       'PurchaseOfBusiness', 'PurchaseOfIntangibles', 'PurchaseOfInvestment',\n",
       "       'PurchaseOfPPE', 'RepaymentOfDebt', 'SaleOfBusiness',\n",
       "       'SaleOfIntangibles', 'SaleOfInvestment', 'StockBasedCompensation'],\n",
       "      dtype='object')"
      ]
     },
     "execution_count": 6,
     "metadata": {},
     "output_type": "execute_result"
    }
   ],
   "source": [
    "cash_flow.columns"
   ]
  },
  {
   "cell_type": "code",
   "execution_count": 7,
   "id": "79d5b420-025f-47b5-ad4d-370122b89cc1",
   "metadata": {
    "tags": []
   },
   "outputs": [
    {
     "data": {
      "text/html": [
       "<style type=\"text/css\">\n",
       "</style>\n",
       "<table id=\"T_63295\">\n",
       "  <thead>\n",
       "    <tr>\n",
       "      <th class=\"blank level0\" >&nbsp;</th>\n",
       "      <th id=\"T_63295_level0_col0\" class=\"col_heading level0 col0\" >asOfDate</th>\n",
       "      <th id=\"T_63295_level0_col1\" class=\"col_heading level0 col1\" >FreeCashFlow</th>\n",
       "    </tr>\n",
       "    <tr>\n",
       "      <th class=\"index_name level0\" >symbol</th>\n",
       "      <th class=\"blank col0\" >&nbsp;</th>\n",
       "      <th class=\"blank col1\" >&nbsp;</th>\n",
       "    </tr>\n",
       "  </thead>\n",
       "  <tbody>\n",
       "    <tr>\n",
       "      <th id=\"T_63295_level0_row0\" class=\"row_heading level0 row0\" >TSLA</th>\n",
       "      <td id=\"T_63295_row0_col0\" class=\"data row0 col0\" >2019-12-31 00:00:00</td>\n",
       "      <td id=\"T_63295_row0_col1\" class=\"data row0 col1\" >968,000,000.00</td>\n",
       "    </tr>\n",
       "    <tr>\n",
       "      <th id=\"T_63295_level0_row1\" class=\"row_heading level0 row1\" >TSLA</th>\n",
       "      <td id=\"T_63295_row1_col0\" class=\"data row1 col0\" >2020-12-31 00:00:00</td>\n",
       "      <td id=\"T_63295_row1_col1\" class=\"data row1 col1\" >2,701,000,000.00</td>\n",
       "    </tr>\n",
       "    <tr>\n",
       "      <th id=\"T_63295_level0_row2\" class=\"row_heading level0 row2\" >TSLA</th>\n",
       "      <td id=\"T_63295_row2_col0\" class=\"data row2 col0\" >2021-12-31 00:00:00</td>\n",
       "      <td id=\"T_63295_row2_col1\" class=\"data row2 col1\" >3,483,000,000.00</td>\n",
       "    </tr>\n",
       "    <tr>\n",
       "      <th id=\"T_63295_level0_row3\" class=\"row_heading level0 row3\" >TSLA</th>\n",
       "      <td id=\"T_63295_row3_col0\" class=\"data row3 col0\" >2022-12-31 00:00:00</td>\n",
       "      <td id=\"T_63295_row3_col1\" class=\"data row3 col1\" >7,552,000,000.00</td>\n",
       "    </tr>\n",
       "    <tr>\n",
       "      <th id=\"T_63295_level0_row4\" class=\"row_heading level0 row4\" >TSLA</th>\n",
       "      <td id=\"T_63295_row4_col0\" class=\"data row4 col0\" >2022-12-31 00:00:00</td>\n",
       "      <td id=\"T_63295_row4_col1\" class=\"data row4 col1\" >7,552,000,000.00</td>\n",
       "    </tr>\n",
       "    <tr>\n",
       "      <th id=\"T_63295_level0_row5\" class=\"row_heading level0 row5\" >TSLA</th>\n",
       "      <td id=\"T_63295_row5_col0\" class=\"data row5 col0\" >2023-03-31 00:00:00</td>\n",
       "      <td id=\"T_63295_row5_col1\" class=\"data row5 col1\" >5,778,000,000.00</td>\n",
       "    </tr>\n",
       "  </tbody>\n",
       "</table>\n"
      ],
      "text/plain": [
       "<pandas.io.formats.style.Styler at 0x11c1ee110>"
      ]
     },
     "execution_count": 7,
     "metadata": {},
     "output_type": "execute_result"
    }
   ],
   "source": [
    "cash_flow[['asOfDate', 'FreeCashFlow']].style.format({\n",
    "    'FreeCashFlow': '{:,.2f}'.format,\n",
    "})"
   ]
  },
  {
   "cell_type": "markdown",
   "id": "737cf863-ed7d-4039-a49b-58cb202a21d2",
   "metadata": {},
   "source": [
    "### Has strong free cash flow?"
   ]
  },
  {
   "cell_type": "code",
   "execution_count": 8,
   "id": "d11eacf0-4428-4be7-ac82-50538cef875c",
   "metadata": {
    "tags": []
   },
   "outputs": [],
   "source": [
    "free_cash_flow = cash_flow[['asOfDate', 'FreeCashFlow']]"
   ]
  },
  {
   "cell_type": "code",
   "execution_count": 9,
   "id": "1a9ab94c-7e72-4be5-84a5-4aa1febed37a",
   "metadata": {},
   "outputs": [
    {
     "data": {
      "text/plain": [
       "{Timestamp('2019-12-31 00:00:00'): 968000000.0,\n",
       " Timestamp('2020-12-31 00:00:00'): 2701000000.0,\n",
       " Timestamp('2021-12-31 00:00:00'): 3483000000.0,\n",
       " Timestamp('2022-12-31 00:00:00'): 7552000000.0,\n",
       " Timestamp('2023-03-31 00:00:00'): 5778000000.0}"
      ]
     },
     "execution_count": 9,
     "metadata": {},
     "output_type": "execute_result"
    }
   ],
   "source": [
    "free_cash_flow = free_cash_flow.set_index('asOfDate')\n",
    "fcf = free_cash_flow.to_dict()['FreeCashFlow']\n",
    "fcf"
   ]
  },
  {
   "cell_type": "code",
   "execution_count": 10,
   "id": "0bdf55e0-0114-4dd2-b0d2-6bc63be6b31b",
   "metadata": {
    "tags": []
   },
   "outputs": [
    {
     "data": {
      "text/plain": [
       "True"
      ]
     },
     "execution_count": 10,
     "metadata": {},
     "output_type": "execute_result"
    }
   ],
   "source": [
    "# Is FCF positive in the past 4-5 years?\n",
    "has_good_fcf = all([v > 0 for v in fcf.values()])\n",
    "has_good_fcf"
   ]
  },
  {
   "cell_type": "markdown",
   "id": "8e4f4eb8-dfb4-4be3-9fa7-64604d4b2401",
   "metadata": {},
   "source": [
    "## Has strong business?"
   ]
  },
  {
   "cell_type": "code",
   "execution_count": 11,
   "id": "e9d05431-1b0b-4139-ae07-bb6a8999f52a",
   "metadata": {
    "tags": []
   },
   "outputs": [],
   "source": [
    "def non_decreasing(L):\n",
    "    return all(x<=y for x, y in zip(L, L[1:]))\n",
    "\n",
    "def non_increasing(L):\n",
    "    return all(x>=y for x, y in zip(L, L[1:]))\n",
    "\n",
    "def monotonic(L):\n",
    "    return non_decreasing(L) or non_increasing(L)\n",
    "\n",
    "def strictly_increasing(L):\n",
    "    return all(x<y for x, y in zip(L, L[1:]))\n",
    "\n",
    "def strictly_decreasing(L):\n",
    "    return all(x>y for x, y in zip(L, L[1:]))\n",
    "\n",
    "def strictly_monotonic(L):\n",
    "    return strictly_increasing(L) or strictly_decreasing(L)"
   ]
  },
  {
   "cell_type": "code",
   "execution_count": 12,
   "id": "2b259cf3-9598-411b-a77d-cb56dbb7d6d9",
   "metadata": {},
   "outputs": [],
   "source": [
    "def has_consecutive_positive_fcf(ticker):\n",
    "    cash_flow = ticker.cash_flow(frequency='Annual')\n",
    "    free_cash_flow = cash_flow[['asOfDate', 'FreeCashFlow']]\n",
    "    free_cash_flow = free_cash_flow.set_index('asOfDate')\n",
    "    fcf = free_cash_flow.to_dict()['FreeCashFlow']\n",
    "    return all([v > 0 for v in fcf.values()])"
   ]
  },
  {
   "cell_type": "code",
   "execution_count": 13,
   "id": "7aee1021-0711-4fec-865a-8e8ae5741412",
   "metadata": {},
   "outputs": [],
   "source": [
    "def has_consistently_low_debt_ratios(debt_equity_ratio_values):\n",
    "    return all([v < 0.3 for v in debt_equity_ratio_values])\n",
    "\n",
    "\n",
    "def has_strong_balance_sheet(ticker):\n",
    "    balance_sheet = ticker.balance_sheet(frequency='Quarterly')\n",
    "    balance_sheet['TotalDebt/CommonStockEquity']=balance_sheet['TotalDebt']/balance_sheet['CommonStockEquity']\n",
    "    debt_equity_ratio = balance_sheet[['asOfDate', 'TotalDebt/CommonStockEquity']]\n",
    "    debt_equity_ratio = debt_equity_ratio.set_index('asOfDate').to_dict()['TotalDebt/CommonStockEquity']\n",
    "    debt_equity_ratio_values = list(debt_equity_ratio.values())\n",
    "\n",
    "    return has_consistently_low_debt_ratios(debt_equity_ratio_values) and strictly_decreasing(debt_equity_ratio_values)"
   ]
  },
  {
   "cell_type": "code",
   "execution_count": 14,
   "id": "70b13386-f7e9-47fb-b4f1-599ffdf34e0d",
   "metadata": {},
   "outputs": [],
   "source": [
    "def has_strong_business(ticker):\n",
    "    if not has_consecutive_positive_fcf(ticker):\n",
    "        print(f\"{ticker} doesn't have consecutive positive fcf\")\n",
    "        return False\n",
    "    \n",
    "    if not has_strong_balance_sheet(ticker):\n",
    "        print(f\"{ticker} doesn't have strong balance sheet\")\n",
    "        return False\n",
    "    \n",
    "    return True"
   ]
  },
  {
   "cell_type": "code",
   "execution_count": 15,
   "id": "ff6caa04-2f32-4557-a38c-ef3149a9557c",
   "metadata": {
    "tags": []
   },
   "outputs": [
    {
     "data": {
      "text/plain": [
       "True"
      ]
     },
     "execution_count": 15,
     "metadata": {},
     "output_type": "execute_result"
    }
   ],
   "source": [
    "has_strong_business(Ticker('TSLA'))"
   ]
  },
  {
   "cell_type": "code",
   "execution_count": 16,
   "id": "66faab8c-5c0e-46df-944f-9d3c989348fc",
   "metadata": {
    "tags": []
   },
   "outputs": [
    {
     "name": "stdout",
     "output_type": "stream",
     "text": [
      "<yahooquery.ticker.Ticker object at 0x11c35e0d0> doesn't have consecutive positive fcf\n"
     ]
    },
    {
     "data": {
      "text/plain": [
       "False"
      ]
     },
     "execution_count": 16,
     "metadata": {},
     "output_type": "execute_result"
    }
   ],
   "source": [
    "has_strong_business(Ticker('LCID'))"
   ]
  },
  {
   "cell_type": "code",
   "execution_count": 17,
   "id": "117071ec-a8f5-433a-ba95-4cb21225a5e2",
   "metadata": {
    "tags": []
   },
   "outputs": [
    {
     "name": "stdout",
     "output_type": "stream",
     "text": [
      "<yahooquery.ticker.Ticker object at 0x11c352490> doesn't have consecutive positive fcf\n"
     ]
    },
    {
     "data": {
      "text/plain": [
       "False"
      ]
     },
     "execution_count": 17,
     "metadata": {},
     "output_type": "execute_result"
    }
   ],
   "source": [
    "has_strong_business(Ticker('AMZN'))"
   ]
  },
  {
   "cell_type": "code",
   "execution_count": 18,
   "id": "6e8a121d-119a-430d-9797-0a6ad314ba49",
   "metadata": {
    "tags": []
   },
   "outputs": [
    {
     "name": "stdout",
     "output_type": "stream",
     "text": [
      "<yahooquery.ticker.Ticker object at 0x11c358a10> doesn't have strong balance sheet\n"
     ]
    },
    {
     "data": {
      "text/plain": [
       "False"
      ]
     },
     "execution_count": 18,
     "metadata": {},
     "output_type": "execute_result"
    }
   ],
   "source": [
    "has_strong_business(Ticker('BABA'))"
   ]
  },
  {
   "cell_type": "code",
   "execution_count": null,
   "id": "600c6c04-4b67-4ab2-b1fd-fb109dd127f8",
   "metadata": {},
   "outputs": [],
   "source": []
  }
 ],
 "metadata": {
  "kernelspec": {
   "display_name": "Python 3 (ipykernel)",
   "language": "python",
   "name": "python3"
  },
  "language_info": {
   "codemirror_mode": {
    "name": "ipython",
    "version": 3
   },
   "file_extension": ".py",
   "mimetype": "text/x-python",
   "name": "python",
   "nbconvert_exporter": "python",
   "pygments_lexer": "ipython3",
   "version": "3.11.2"
  }
 },
 "nbformat": 4,
 "nbformat_minor": 5
}
