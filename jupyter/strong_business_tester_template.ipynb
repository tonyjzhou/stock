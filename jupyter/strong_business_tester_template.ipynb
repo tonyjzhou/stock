{
 "cells": [
  {
   "cell_type": "markdown",
   "id": "817e3535-7124-4fcb-8d03-4a9177b08e6e",
   "metadata": {},
   "source": [
    "# Strong business tester\n",
    "\n",
    "This notebook tries to test if a business is strong based on some financial parameters:\n",
    "\n",
    "* Strong free cash flow\n",
    "* Strong balance sheet"
   ]
  },
  {
   "cell_type": "code",
   "execution_count": 1,
   "id": "5d4ca22e-5e19-451d-ad80-98f156fcdf61",
   "metadata": {},
   "outputs": [],
   "source": [
    "import matplotlib.pyplot as plt"
   ]
  },
  {
   "cell_type": "code",
   "execution_count": 2,
   "id": "9715f194-f801-4685-8ba7-7f948d5fe6e9",
   "metadata": {
    "tags": []
   },
   "outputs": [],
   "source": [
    "from yahooquery import Ticker"
   ]
  },
  {
   "cell_type": "code",
   "execution_count": 3,
   "id": "fe5fb293-1de9-4df4-a916-0d0ce9a27436",
   "metadata": {
    "tags": []
   },
   "outputs": [],
   "source": [
    "ticker = Ticker('TSLA')"
   ]
  },
  {
   "cell_type": "markdown",
   "id": "6eb72e9d-0865-4045-8e84-eebc38a697e4",
   "metadata": {},
   "source": [
    "## Cash flow analysis"
   ]
  },
  {
   "cell_type": "code",
   "execution_count": 4,
   "id": "1249eb01-14ff-4f54-87f9-70f56b2176aa",
   "metadata": {
    "tags": []
   },
   "outputs": [],
   "source": [
    "cash_flow = ticker.cash_flow(frequency='Annual')"
   ]
  },
  {
   "cell_type": "code",
   "execution_count": 5,
   "id": "1c44d5c6-0e9e-4a07-b666-9472e58657b7",
   "metadata": {
    "tags": []
   },
   "outputs": [
    {
     "data": {
      "text/plain": [
       "pandas.core.frame.DataFrame"
      ]
     },
     "execution_count": 5,
     "metadata": {},
     "output_type": "execute_result"
    }
   ],
   "source": [
    "type(cash_flow)"
   ]
  },
  {
   "cell_type": "code",
   "execution_count": 6,
   "id": "7a12144f-17b6-4987-ad58-522c64524262",
   "metadata": {
    "tags": []
   },
   "outputs": [
    {
     "data": {
      "text/plain": [
       "Index(['asOfDate', 'periodType', 'currencyCode', 'AssetImpairmentCharge',\n",
       "       'BeginningCashPosition', 'CapitalExpenditure',\n",
       "       'CapitalExpenditureReported',\n",
       "       'CashFlowFromContinuingFinancingActivities',\n",
       "       'CashFlowFromContinuingInvestingActivities',\n",
       "       'CashFlowFromContinuingOperatingActivities',\n",
       "       'ChangeInCashSupplementalAsReported', 'ChangeInInventory',\n",
       "       'ChangeInOtherCurrentAssets', 'ChangeInOtherCurrentLiabilities',\n",
       "       'ChangeInOtherWorkingCapital', 'ChangeInPayablesAndAccruedExpense',\n",
       "       'ChangeInPrepaidAssets', 'ChangeInReceivables',\n",
       "       'ChangeInWorkingCapital', 'ChangesInAccountReceivables',\n",
       "       'ChangesInCash', 'CommonStockIssuance', 'Depreciation',\n",
       "       'DepreciationAmortizationDepletion', 'DepreciationAndAmortization',\n",
       "       'EffectOfExchangeRateChanges', 'EndCashPosition', 'FinancingCashFlow',\n",
       "       'FreeCashFlow', 'GainLossOnSaleOfPPE', 'IncomeTaxPaidSupplementalData',\n",
       "       'InterestPaidSupplementalData', 'InvestingCashFlow',\n",
       "       'IssuanceOfCapitalStock', 'IssuanceOfDebt', 'LongTermDebtIssuance',\n",
       "       'LongTermDebtPayments', 'NetBusinessPurchaseAndSale',\n",
       "       'NetCommonStockIssuance', 'NetForeignCurrencyExchangeGainLoss',\n",
       "       'NetIncome', 'NetIncomeFromContinuingOperations',\n",
       "       'NetIntangiblesPurchaseAndSale', 'NetInvestmentPurchaseAndSale',\n",
       "       'NetIssuancePaymentsOfDebt', 'NetLongTermDebtIssuance',\n",
       "       'NetOtherFinancingCharges', 'NetOtherInvestingChanges',\n",
       "       'NetPPEPurchaseAndSale', 'OperatingCashFlow', 'OperatingGainsLosses',\n",
       "       'OtherNonCashItems', 'ProceedsFromStockOptionExercised',\n",
       "       'PurchaseOfBusiness', 'PurchaseOfIntangibles', 'PurchaseOfInvestment',\n",
       "       'PurchaseOfPPE', 'RepaymentOfDebt', 'SaleOfBusiness',\n",
       "       'SaleOfIntangibles', 'SaleOfInvestment', 'StockBasedCompensation'],\n",
       "      dtype='object')"
      ]
     },
     "execution_count": 6,
     "metadata": {},
     "output_type": "execute_result"
    }
   ],
   "source": [
    "cash_flow.columns"
   ]
  },
  {
   "cell_type": "code",
   "execution_count": 7,
   "id": "79d5b420-025f-47b5-ad4d-370122b89cc1",
   "metadata": {
    "tags": []
   },
   "outputs": [
    {
     "data": {
      "text/html": [
       "<style type=\"text/css\">\n",
       "</style>\n",
       "<table id=\"T_59502\">\n",
       "  <thead>\n",
       "    <tr>\n",
       "      <th class=\"blank level0\" >&nbsp;</th>\n",
       "      <th id=\"T_59502_level0_col0\" class=\"col_heading level0 col0\" >asOfDate</th>\n",
       "      <th id=\"T_59502_level0_col1\" class=\"col_heading level0 col1\" >FreeCashFlow</th>\n",
       "    </tr>\n",
       "    <tr>\n",
       "      <th class=\"index_name level0\" >symbol</th>\n",
       "      <th class=\"blank col0\" >&nbsp;</th>\n",
       "      <th class=\"blank col1\" >&nbsp;</th>\n",
       "    </tr>\n",
       "  </thead>\n",
       "  <tbody>\n",
       "    <tr>\n",
       "      <th id=\"T_59502_level0_row0\" class=\"row_heading level0 row0\" >TSLA</th>\n",
       "      <td id=\"T_59502_row0_col0\" class=\"data row0 col0\" >2019-12-31 00:00:00</td>\n",
       "      <td id=\"T_59502_row0_col1\" class=\"data row0 col1\" >968,000,000.00</td>\n",
       "    </tr>\n",
       "    <tr>\n",
       "      <th id=\"T_59502_level0_row1\" class=\"row_heading level0 row1\" >TSLA</th>\n",
       "      <td id=\"T_59502_row1_col0\" class=\"data row1 col0\" >2020-12-31 00:00:00</td>\n",
       "      <td id=\"T_59502_row1_col1\" class=\"data row1 col1\" >2,701,000,000.00</td>\n",
       "    </tr>\n",
       "    <tr>\n",
       "      <th id=\"T_59502_level0_row2\" class=\"row_heading level0 row2\" >TSLA</th>\n",
       "      <td id=\"T_59502_row2_col0\" class=\"data row2 col0\" >2021-12-31 00:00:00</td>\n",
       "      <td id=\"T_59502_row2_col1\" class=\"data row2 col1\" >3,483,000,000.00</td>\n",
       "    </tr>\n",
       "    <tr>\n",
       "      <th id=\"T_59502_level0_row3\" class=\"row_heading level0 row3\" >TSLA</th>\n",
       "      <td id=\"T_59502_row3_col0\" class=\"data row3 col0\" >2022-12-31 00:00:00</td>\n",
       "      <td id=\"T_59502_row3_col1\" class=\"data row3 col1\" >7,552,000,000.00</td>\n",
       "    </tr>\n",
       "    <tr>\n",
       "      <th id=\"T_59502_level0_row4\" class=\"row_heading level0 row4\" >TSLA</th>\n",
       "      <td id=\"T_59502_row4_col0\" class=\"data row4 col0\" >2022-12-31 00:00:00</td>\n",
       "      <td id=\"T_59502_row4_col1\" class=\"data row4 col1\" >7,552,000,000.00</td>\n",
       "    </tr>\n",
       "    <tr>\n",
       "      <th id=\"T_59502_level0_row5\" class=\"row_heading level0 row5\" >TSLA</th>\n",
       "      <td id=\"T_59502_row5_col0\" class=\"data row5 col0\" >2023-03-31 00:00:00</td>\n",
       "      <td id=\"T_59502_row5_col1\" class=\"data row5 col1\" >5,778,000,000.00</td>\n",
       "    </tr>\n",
       "  </tbody>\n",
       "</table>\n"
      ],
      "text/plain": [
       "<pandas.io.formats.style.Styler at 0x10cfdcd10>"
      ]
     },
     "execution_count": 7,
     "metadata": {},
     "output_type": "execute_result"
    }
   ],
   "source": [
    "cash_flow[['asOfDate', 'FreeCashFlow']].style.format({\n",
    "    'FreeCashFlow': '{:,.2f}'.format,\n",
    "})"
   ]
  },
  {
   "cell_type": "markdown",
   "id": "737cf863-ed7d-4039-a49b-58cb202a21d2",
   "metadata": {},
   "source": [
    "### Has strong free cash flow?"
   ]
  },
  {
   "cell_type": "code",
   "execution_count": 8,
   "id": "d11eacf0-4428-4be7-ac82-50538cef875c",
   "metadata": {
    "tags": []
   },
   "outputs": [],
   "source": [
    "free_cash_flow = cash_flow[['asOfDate', 'FreeCashFlow']]"
   ]
  },
  {
   "cell_type": "code",
   "execution_count": 9,
   "id": "1a9ab94c-7e72-4be5-84a5-4aa1febed37a",
   "metadata": {},
   "outputs": [
    {
     "data": {
      "text/plain": [
       "{Timestamp('2019-12-31 00:00:00'): 968000000.0,\n",
       " Timestamp('2020-12-31 00:00:00'): 2701000000.0,\n",
       " Timestamp('2021-12-31 00:00:00'): 3483000000.0,\n",
       " Timestamp('2022-12-31 00:00:00'): 7552000000.0,\n",
       " Timestamp('2023-03-31 00:00:00'): 5778000000.0}"
      ]
     },
     "execution_count": 9,
     "metadata": {},
     "output_type": "execute_result"
    }
   ],
   "source": [
    "free_cash_flow = free_cash_flow.set_index('asOfDate')\n",
    "fcf = free_cash_flow.to_dict()['FreeCashFlow']\n",
    "fcf"
   ]
  },
  {
   "cell_type": "code",
   "execution_count": 10,
   "id": "0bdf55e0-0114-4dd2-b0d2-6bc63be6b31b",
   "metadata": {
    "tags": []
   },
   "outputs": [
    {
     "data": {
      "text/plain": [
       "True"
      ]
     },
     "execution_count": 10,
     "metadata": {},
     "output_type": "execute_result"
    }
   ],
   "source": [
    "# Is FCF positive in the past 4-5 years?\n",
    "has_good_fcf = all([v > 0 for v in fcf.values()])\n",
    "has_good_fcf"
   ]
  },
  {
   "cell_type": "markdown",
   "id": "903f01f7-2a93-40fe-9683-cf0d6776f832",
   "metadata": {},
   "source": [
    "### Has strong balance sheet?"
   ]
  },
  {
   "cell_type": "code",
   "execution_count": 11,
   "id": "b72d96cd-8b91-4e5d-958e-25828e0fbd87",
   "metadata": {},
   "outputs": [],
   "source": [
    "balance_sheet = ticker.balance_sheet(frequency='Quarterly')"
   ]
  },
  {
   "cell_type": "code",
   "execution_count": 12,
   "id": "9b933a7b-f814-48d3-b974-6403a9c1d530",
   "metadata": {
    "tags": []
   },
   "outputs": [
    {
     "data": {
      "text/html": [
       "<div>\n",
       "<style scoped>\n",
       "    .dataframe tbody tr th:only-of-type {\n",
       "        vertical-align: middle;\n",
       "    }\n",
       "\n",
       "    .dataframe tbody tr th {\n",
       "        vertical-align: top;\n",
       "    }\n",
       "\n",
       "    .dataframe thead th {\n",
       "        text-align: right;\n",
       "    }\n",
       "</style>\n",
       "<table border=\"1\" class=\"dataframe\">\n",
       "  <thead>\n",
       "    <tr style=\"text-align: right;\">\n",
       "      <th></th>\n",
       "      <th>TotalDebt</th>\n",
       "      <th>CommonStockEquity</th>\n",
       "    </tr>\n",
       "    <tr>\n",
       "      <th>asOfDate</th>\n",
       "      <th></th>\n",
       "      <th></th>\n",
       "    </tr>\n",
       "  </thead>\n",
       "  <tbody>\n",
       "    <tr>\n",
       "      <th>2022-03-31</th>\n",
       "      <td>7.025000e+09</td>\n",
       "      <td>3.408500e+10</td>\n",
       "    </tr>\n",
       "    <tr>\n",
       "      <th>2022-06-30</th>\n",
       "      <td>6.665000e+09</td>\n",
       "      <td>3.637600e+10</td>\n",
       "    </tr>\n",
       "    <tr>\n",
       "      <th>2022-09-30</th>\n",
       "      <td>5.874000e+09</td>\n",
       "      <td>3.985100e+10</td>\n",
       "    </tr>\n",
       "    <tr>\n",
       "      <th>2022-12-31</th>\n",
       "      <td>3.099000e+09</td>\n",
       "      <td>4.470400e+10</td>\n",
       "    </tr>\n",
       "    <tr>\n",
       "      <th>2023-03-31</th>\n",
       "      <td>2.676000e+09</td>\n",
       "      <td>4.805400e+10</td>\n",
       "    </tr>\n",
       "  </tbody>\n",
       "</table>\n",
       "</div>"
      ],
      "text/plain": [
       "               TotalDebt  CommonStockEquity\n",
       "asOfDate                                   \n",
       "2022-03-31  7.025000e+09       3.408500e+10\n",
       "2022-06-30  6.665000e+09       3.637600e+10\n",
       "2022-09-30  5.874000e+09       3.985100e+10\n",
       "2022-12-31  3.099000e+09       4.470400e+10\n",
       "2023-03-31  2.676000e+09       4.805400e+10"
      ]
     },
     "execution_count": 12,
     "metadata": {},
     "output_type": "execute_result"
    }
   ],
   "source": [
    "debt_vs_equity = balance_sheet[['asOfDate', 'TotalDebt', 'CommonStockEquity']]\n",
    "debt_vs_equity = debt_vs_equity.set_index('asOfDate')\n",
    "debt_vs_equity"
   ]
  },
  {
   "cell_type": "code",
   "execution_count": 13,
   "id": "9646c0e4-ea02-4848-8ff6-5937c0235dd1",
   "metadata": {
    "tags": []
   },
   "outputs": [
    {
     "data": {
      "text/plain": [
       "{Timestamp('2022-03-31 00:00:00'): 0.20610239108112072,\n",
       " Timestamp('2022-06-30 00:00:00'): 0.1832252034308335,\n",
       " Timestamp('2022-09-30 00:00:00'): 0.14739906150410279,\n",
       " Timestamp('2022-12-31 00:00:00'): 0.06932265569076593,\n",
       " Timestamp('2023-03-31 00:00:00'): 0.05568735172930453}"
      ]
     },
     "execution_count": 13,
     "metadata": {},
     "output_type": "execute_result"
    }
   ],
   "source": [
    "balance_sheet['TotalDebt/CommonStockEquity']=balance_sheet['TotalDebt']/balance_sheet['CommonStockEquity']\n",
    "\n",
    "debt_equity_ratio = balance_sheet[['asOfDate', 'TotalDebt/CommonStockEquity']]\n",
    "debt_equity_ratio = debt_equity_ratio.set_index('asOfDate').to_dict()['TotalDebt/CommonStockEquity']\n",
    "debt_equity_ratio"
   ]
  },
  {
   "cell_type": "code",
   "execution_count": 14,
   "id": "1b746c77-4260-4fc5-a22a-f1ec236d6da8",
   "metadata": {
    "tags": []
   },
   "outputs": [],
   "source": [
    "debt_equity_ratio_values = list(debt_equity_ratio.values())"
   ]
  },
  {
   "cell_type": "code",
   "execution_count": 15,
   "id": "6ece0c10-b6ea-4db9-a8f6-bacaa77fd8d3",
   "metadata": {
    "tags": []
   },
   "outputs": [
    {
     "data": {
      "text/plain": [
       "True"
      ]
     },
     "execution_count": 15,
     "metadata": {},
     "output_type": "execute_result"
    }
   ],
   "source": [
    "all([v < 0.3 for v in debt_equity_ratio_values])"
   ]
  },
  {
   "cell_type": "code",
   "execution_count": 16,
   "id": "f594dca9-7523-48ab-9178-4ec1f180f857",
   "metadata": {
    "tags": []
   },
   "outputs": [],
   "source": [
    "def non_decreasing(L):\n",
    "    return all(x<=y for x, y in zip(L, L[1:]))\n",
    "\n",
    "def non_increasing(L):\n",
    "    return all(x>=y for x, y in zip(L, L[1:]))\n",
    "\n",
    "def monotonic(L):\n",
    "    return non_decreasing(L) or non_increasing(L)\n",
    "\n",
    "def strictly_increasing(L):\n",
    "    return all(x<y for x, y in zip(L, L[1:]))\n",
    "\n",
    "def strictly_decreasing(L):\n",
    "    return all(x>y for x, y in zip(L, L[1:]))\n",
    "\n",
    "def strictly_monotonic(L):\n",
    "    return strictly_increasing(L) or strictly_decreasing(L)"
   ]
  },
  {
   "cell_type": "code",
   "execution_count": 17,
   "id": "d54ed9bc-6143-4b6c-a408-db00c69701dd",
   "metadata": {
    "tags": []
   },
   "outputs": [
    {
     "data": {
      "text/plain": [
       "True"
      ]
     },
     "execution_count": 17,
     "metadata": {},
     "output_type": "execute_result"
    }
   ],
   "source": [
    "strictly_decreasing(debt_equity_ratio_values)"
   ]
  },
  {
   "cell_type": "code",
   "execution_count": 18,
   "id": "1086f5cb-8369-4623-b033-48b1f7164ea7",
   "metadata": {
    "tags": []
   },
   "outputs": [
    {
     "data": {
      "text/plain": [
       "True"
      ]
     },
     "execution_count": 18,
     "metadata": {},
     "output_type": "execute_result"
    }
   ],
   "source": [
    "has_strong_balance_sheet = all([v < 0.3 for v in debt_equity_ratio_values]) and strictly_decreasing(debt_equity_ratio_values)\n",
    "has_strong_balance_sheet"
   ]
  },
  {
   "cell_type": "markdown",
   "id": "8e4f4eb8-dfb4-4be3-9fa7-64604d4b2401",
   "metadata": {},
   "source": [
    "## Has strong business?"
   ]
  },
  {
   "cell_type": "code",
   "execution_count": 19,
   "id": "e9d05431-1b0b-4139-ae07-bb6a8999f52a",
   "metadata": {
    "tags": []
   },
   "outputs": [
    {
     "data": {
      "text/plain": [
       "True"
      ]
     },
     "execution_count": 19,
     "metadata": {},
     "output_type": "execute_result"
    }
   ],
   "source": [
    "has_good_fcf and has_strong_balance_sheet"
   ]
  },
  {
   "cell_type": "code",
   "execution_count": null,
   "id": "70b13386-f7e9-47fb-b4f1-599ffdf34e0d",
   "metadata": {},
   "outputs": [],
   "source": []
  }
 ],
 "metadata": {
  "kernelspec": {
   "display_name": "Python 3 (ipykernel)",
   "language": "python",
   "name": "python3"
  },
  "language_info": {
   "codemirror_mode": {
    "name": "ipython",
    "version": 3
   },
   "file_extension": ".py",
   "mimetype": "text/x-python",
   "name": "python",
   "nbconvert_exporter": "python",
   "pygments_lexer": "ipython3",
   "version": "3.11.2"
  }
 },
 "nbformat": 4,
 "nbformat_minor": 5
}
