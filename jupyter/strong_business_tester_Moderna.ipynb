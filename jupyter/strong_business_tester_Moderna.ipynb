{
 "cells": [
  {
   "cell_type": "markdown",
   "id": "817e3535-7124-4fcb-8d03-4a9177b08e6e",
   "metadata": {},
   "source": [
    "# Strong business tester\n",
    "\n",
    "This notebook tries to test if a business is strong based on some financial parameters:\n",
    "\n",
    "* Strong free cash flow\n",
    "* Strong balance sheet"
   ]
  },
  {
   "cell_type": "code",
   "execution_count": 1,
   "id": "5d4ca22e-5e19-451d-ad80-98f156fcdf61",
   "metadata": {},
   "outputs": [],
   "source": [
    "import matplotlib.pyplot as plt"
   ]
  },
  {
   "cell_type": "code",
   "execution_count": 2,
   "id": "9715f194-f801-4685-8ba7-7f948d5fe6e9",
   "metadata": {
    "tags": []
   },
   "outputs": [],
   "source": [
    "from yahooquery import Ticker"
   ]
  },
  {
   "cell_type": "code",
   "execution_count": 3,
   "id": "fe5fb293-1de9-4df4-a916-0d0ce9a27436",
   "metadata": {
    "tags": []
   },
   "outputs": [],
   "source": [
    "ticker = Ticker('MRNA')"
   ]
  },
  {
   "cell_type": "code",
   "execution_count": 10,
   "id": "f5fc17db-30e1-45dc-a1cd-3be36b141279",
   "metadata": {
    "tags": []
   },
   "outputs": [
    {
     "data": {
      "text/plain": [
       "{'maxAge': 1,\n",
       " 'priceHint': 2,\n",
       " 'previousClose': 118.29,\n",
       " 'open': 118.01,\n",
       " 'dayLow': 117.815,\n",
       " 'dayHigh': 120.14,\n",
       " 'regularMarketPreviousClose': 118.29,\n",
       " 'regularMarketOpen': 118.01,\n",
       " 'regularMarketDayLow': 117.815,\n",
       " 'regularMarketDayHigh': 120.14,\n",
       " 'payoutRatio': 0.0,\n",
       " 'beta': 1.626476,\n",
       " 'trailingPE': 10.336522,\n",
       " 'forwardPE': -27.644186,\n",
       " 'volume': 2436934,\n",
       " 'regularMarketVolume': 2436934,\n",
       " 'averageVolume': 3385261,\n",
       " 'averageVolume10days': 3000310,\n",
       " 'averageDailyVolume10Day': 3000310,\n",
       " 'bid': 118.79,\n",
       " 'ask': 119.0,\n",
       " 'bidSize': 1800,\n",
       " 'askSize': 800,\n",
       " 'marketCap': 45314314240,\n",
       " 'fiftyTwoWeekLow': 115.03,\n",
       " 'fiftyTwoWeekHigh': 217.25,\n",
       " 'priceToSalesTrailing12Months': 3.0091183,\n",
       " 'fiftyDayAverage': 127.025,\n",
       " 'twoHundredDayAverage': 151.93002,\n",
       " 'trailingAnnualDividendRate': 0.0,\n",
       " 'trailingAnnualDividendYield': 0.0,\n",
       " 'currency': 'USD',\n",
       " 'fromCurrency': None,\n",
       " 'toCurrency': None,\n",
       " 'lastMarket': None,\n",
       " 'coinMarketCapLink': None,\n",
       " 'algorithm': None,\n",
       " 'tradeable': False}"
      ]
     },
     "execution_count": 10,
     "metadata": {},
     "output_type": "execute_result"
    }
   ],
   "source": [
    "ticker.summary_detail['MRNA']"
   ]
  },
  {
   "cell_type": "code",
   "execution_count": 9,
   "id": "4153c11e-6ad3-43ec-a35f-c0ccf2e1a389",
   "metadata": {
    "tags": []
   },
   "outputs": [
    {
     "data": {
      "text/plain": [
       "115.03"
      ]
     },
     "execution_count": 9,
     "metadata": {},
     "output_type": "execute_result"
    }
   ],
   "source": [
    "ticker.summary_detail['MRNA']['fiftyTwoWeekLow']"
   ]
  },
  {
   "cell_type": "code",
   "execution_count": 12,
   "id": "8eaf4321-dbf3-4ea7-8f71-dd27c5e20ec6",
   "metadata": {
    "tags": []
   },
   "outputs": [
    {
     "data": {
      "text/plain": [
       "217.25"
      ]
     },
     "execution_count": 12,
     "metadata": {},
     "output_type": "execute_result"
    }
   ],
   "source": [
    "fiftyTwoWeekHigh = ticker.summary_detail['MRNA']['fiftyTwoWeekHigh']\n",
    "fiftyTwoWeekHigh"
   ]
  },
  {
   "cell_type": "code",
   "execution_count": 16,
   "id": "adc27a82-e012-4812-bf9e-62ccb2f7f5e3",
   "metadata": {
    "tags": []
   },
   "outputs": [
    {
     "data": {
      "text/plain": [
       "102.22"
      ]
     },
     "execution_count": 16,
     "metadata": {},
     "output_type": "execute_result"
    }
   ],
   "source": [
    "fiftyTwoWeekDiff = ticker.summary_detail['MRNA']['fiftyTwoWeekHigh'] - ticker.summary_detail['MRNA']['fiftyTwoWeekLow']\n",
    "fiftyTwoWeekDiff"
   ]
  },
  {
   "cell_type": "code",
   "execution_count": 15,
   "id": "963a8db5-2c2c-41ea-aa46-8baed13e9612",
   "metadata": {
    "tags": []
   },
   "outputs": [
    {
     "data": {
      "text/plain": [
       "0.8886377466747805"
      ]
     },
     "execution_count": 15,
     "metadata": {},
     "output_type": "execute_result"
    }
   ],
   "source": [
    "volatility = fiftyTwoWeekDiff / ticker.summary_detail['MRNA']['fiftyTwoWeekLow']\n",
    "volatility"
   ]
  },
  {
   "cell_type": "code",
   "execution_count": null,
   "id": "0904c854-a038-4b08-8b0f-2a941d1d61da",
   "metadata": {},
   "outputs": [],
   "source": []
  },
  {
   "cell_type": "markdown",
   "id": "6eb72e9d-0865-4045-8e84-eebc38a697e4",
   "metadata": {},
   "source": [
    "## Cash flow analysis"
   ]
  },
  {
   "cell_type": "code",
   "execution_count": 4,
   "id": "1249eb01-14ff-4f54-87f9-70f56b2176aa",
   "metadata": {
    "tags": []
   },
   "outputs": [],
   "source": [
    "cash_flow = ticker.cash_flow()"
   ]
  },
  {
   "cell_type": "code",
   "execution_count": 5,
   "id": "1c44d5c6-0e9e-4a07-b666-9472e58657b7",
   "metadata": {
    "tags": []
   },
   "outputs": [
    {
     "data": {
      "text/plain": [
       "pandas.core.frame.DataFrame"
      ]
     },
     "execution_count": 5,
     "metadata": {},
     "output_type": "execute_result"
    }
   ],
   "source": [
    "type(cash_flow)"
   ]
  },
  {
   "cell_type": "code",
   "execution_count": 6,
   "id": "7a12144f-17b6-4987-ad58-522c64524262",
   "metadata": {
    "tags": []
   },
   "outputs": [
    {
     "data": {
      "text/plain": [
       "Index(['asOfDate', 'periodType', 'currencyCode', 'AmortizationOfSecurities',\n",
       "       'BeginningCashPosition', 'CapitalExpenditure',\n",
       "       'CashFlowFromContinuingFinancingActivities',\n",
       "       'CashFlowFromContinuingInvestingActivities',\n",
       "       'CashFlowFromContinuingOperatingActivities', 'ChangeInAccountPayable',\n",
       "       'ChangeInAccruedExpense', 'ChangeInCashSupplementalAsReported',\n",
       "       'ChangeInIncomeTaxPayable', 'ChangeInInventory',\n",
       "       'ChangeInOtherCurrentAssets', 'ChangeInOtherCurrentLiabilities',\n",
       "       'ChangeInOtherWorkingCapital', 'ChangeInPayable',\n",
       "       'ChangeInPayablesAndAccruedExpense', 'ChangeInPrepaidAssets',\n",
       "       'ChangeInReceivables', 'ChangeInTaxPayable', 'ChangeInWorkingCapital',\n",
       "       'ChangesInAccountReceivables', 'ChangesInCash', 'CommonStockIssuance',\n",
       "       'CommonStockPayments', 'DeferredIncomeTax', 'DeferredTax',\n",
       "       'DepreciationAmortizationDepletion', 'DepreciationAndAmortization',\n",
       "       'EndCashPosition', 'FinancingCashFlow', 'FreeCashFlow',\n",
       "       'GainLossOnSaleOfPPE', 'IncomeTaxPaidSupplementalData',\n",
       "       'InterestPaidSupplementalData', 'InvestingCashFlow',\n",
       "       'IssuanceOfCapitalStock', 'IssuanceOfDebt', 'LongTermDebtIssuance',\n",
       "       'LongTermDebtPayments', 'NetCommonStockIssuance', 'NetIncome',\n",
       "       'NetIncomeFromContinuingOperations', 'NetInvestmentPurchaseAndSale',\n",
       "       'NetIssuancePaymentsOfDebt', 'NetLongTermDebtIssuance',\n",
       "       'NetOtherInvestingChanges', 'NetPPEPurchaseAndSale',\n",
       "       'NetPreferredStockIssuance', 'OperatingCashFlow',\n",
       "       'OperatingGainsLosses', 'OtherNonCashItems', 'PreferredStockIssuance',\n",
       "       'PreferredStockPayments', 'ProceedsFromStockOptionExercised',\n",
       "       'PurchaseOfInvestment', 'PurchaseOfPPE', 'RepaymentOfDebt',\n",
       "       'RepurchaseOfCapitalStock', 'SaleOfInvestment',\n",
       "       'StockBasedCompensation'],\n",
       "      dtype='object')"
      ]
     },
     "execution_count": 6,
     "metadata": {},
     "output_type": "execute_result"
    }
   ],
   "source": [
    "cash_flow.columns"
   ]
  },
  {
   "cell_type": "code",
   "execution_count": 7,
   "id": "79d5b420-025f-47b5-ad4d-370122b89cc1",
   "metadata": {
    "tags": []
   },
   "outputs": [
    {
     "data": {
      "text/html": [
       "<style type=\"text/css\">\n",
       "</style>\n",
       "<table id=\"T_94e72\">\n",
       "  <thead>\n",
       "    <tr>\n",
       "      <th class=\"blank level0\" >&nbsp;</th>\n",
       "      <th id=\"T_94e72_level0_col0\" class=\"col_heading level0 col0\" >asOfDate</th>\n",
       "      <th id=\"T_94e72_level0_col1\" class=\"col_heading level0 col1\" >FreeCashFlow</th>\n",
       "    </tr>\n",
       "    <tr>\n",
       "      <th class=\"index_name level0\" >symbol</th>\n",
       "      <th class=\"blank col0\" >&nbsp;</th>\n",
       "      <th class=\"blank col1\" >&nbsp;</th>\n",
       "    </tr>\n",
       "  </thead>\n",
       "  <tbody>\n",
       "    <tr>\n",
       "      <th id=\"T_94e72_level0_row0\" class=\"row_heading level0 row0\" >MRNA</th>\n",
       "      <td id=\"T_94e72_row0_col0\" class=\"data row0 col0\" >2019-12-31 00:00:00</td>\n",
       "      <td id=\"T_94e72_row0_col1\" class=\"data row0 col1\" >-490,522,000.00</td>\n",
       "    </tr>\n",
       "    <tr>\n",
       "      <th id=\"T_94e72_level0_row1\" class=\"row_heading level0 row1\" >MRNA</th>\n",
       "      <td id=\"T_94e72_row1_col0\" class=\"data row1 col0\" >2020-12-31 00:00:00</td>\n",
       "      <td id=\"T_94e72_row1_col1\" class=\"data row1 col1\" >1,959,523,000.00</td>\n",
       "    </tr>\n",
       "    <tr>\n",
       "      <th id=\"T_94e72_level0_row2\" class=\"row_heading level0 row2\" >MRNA</th>\n",
       "      <td id=\"T_94e72_row2_col0\" class=\"data row2 col0\" >2021-12-31 00:00:00</td>\n",
       "      <td id=\"T_94e72_row2_col1\" class=\"data row2 col1\" >13,336,000,000.00</td>\n",
       "    </tr>\n",
       "    <tr>\n",
       "      <th id=\"T_94e72_level0_row3\" class=\"row_heading level0 row3\" >MRNA</th>\n",
       "      <td id=\"T_94e72_row3_col0\" class=\"data row3 col0\" >2022-12-31 00:00:00</td>\n",
       "      <td id=\"T_94e72_row3_col1\" class=\"data row3 col1\" >4,581,000,000.00</td>\n",
       "    </tr>\n",
       "    <tr>\n",
       "      <th id=\"T_94e72_level0_row4\" class=\"row_heading level0 row4\" >MRNA</th>\n",
       "      <td id=\"T_94e72_row4_col0\" class=\"data row4 col0\" >2022-12-31 00:00:00</td>\n",
       "      <td id=\"T_94e72_row4_col1\" class=\"data row4 col1\" >4,581,000,000.00</td>\n",
       "    </tr>\n",
       "  </tbody>\n",
       "</table>\n"
      ],
      "text/plain": [
       "<pandas.io.formats.style.Styler at 0x12168b6d0>"
      ]
     },
     "execution_count": 7,
     "metadata": {},
     "output_type": "execute_result"
    }
   ],
   "source": [
    "cash_flow[['asOfDate', 'FreeCashFlow']].style.format({\n",
    "    'FreeCashFlow': '{:,.2f}'.format,\n",
    "})"
   ]
  },
  {
   "cell_type": "markdown",
   "id": "737cf863-ed7d-4039-a49b-58cb202a21d2",
   "metadata": {},
   "source": [
    "### Free cash flow"
   ]
  },
  {
   "cell_type": "code",
   "execution_count": 8,
   "id": "d11eacf0-4428-4be7-ac82-50538cef875c",
   "metadata": {
    "tags": []
   },
   "outputs": [],
   "source": [
    "free_cash_flow = cash_flow[['asOfDate', 'FreeCashFlow']]\n",
    "free_cash_flow = free_cash_flow.set_index('asOfDate')"
   ]
  },
  {
   "cell_type": "code",
   "execution_count": 9,
   "id": "2f4ce0d9-de18-4f6e-b9f0-85b76289cca3",
   "metadata": {
    "tags": []
   },
   "outputs": [
    {
     "data": {
      "image/png": "[encoded data removed]",
      "text/plain": [
       "<Figure size 640x480 with 1 Axes>"
      ]
     },
     "metadata": {},
     "output_type": "display_data"
    }
   ],
   "source": [
    "free_cash_flow.plot();"
   ]
  },
  {
   "cell_type": "markdown",
   "id": "a76252ba-c168-42ba-ad35-244253d79e6b",
   "metadata": {},
   "source": [
    "## Balance sheet analysis"
   ]
  },
  {
   "cell_type": "code",
   "execution_count": 10,
   "id": "8d08f36d-5d76-40f4-ac45-e679b41a4a54",
   "metadata": {
    "tags": []
   },
   "outputs": [],
   "source": [
    "balance_sheet = ticker.balance_sheet(frequency='Quarterly')"
   ]
  },
  {
   "cell_type": "code",
   "execution_count": 11,
   "id": "6f74d02a-34fd-46cd-944c-88d828f337a4",
   "metadata": {
    "tags": []
   },
   "outputs": [
    {
     "data": {
      "text/plain": [
       "pandas.core.frame.DataFrame"
      ]
     },
     "execution_count": 11,
     "metadata": {},
     "output_type": "execute_result"
    }
   ],
   "source": [
    "type(balance_sheet)"
   ]
  },
  {
   "cell_type": "code",
   "execution_count": 12,
   "id": "1d041188-b753-4333-8de7-5c162a82adeb",
   "metadata": {
    "tags": []
   },
   "outputs": [
    {
     "data": {
      "text/plain": [
       "Index(['asOfDate', 'periodType', 'currencyCode', 'AccountsPayable',\n",
       "       'AccountsReceivable', 'AccruedInterestReceivable',\n",
       "       'AccumulatedDepreciation', 'AdditionalPaidInCapital',\n",
       "       'AllowanceForDoubtfulAccountsReceivable', 'AvailableForSaleSecurities',\n",
       "       'CapitalLeaseObligations', 'CapitalStock', 'CashAndCashEquivalents',\n",
       "       'CashCashEquivalentsAndShortTermInvestments', 'CommonStock',\n",
       "       'CommonStockEquity', 'ConstructionInProgress', 'CurrentAccruedExpenses',\n",
       "       'CurrentAssets', 'CurrentCapitalLeaseObligation',\n",
       "       'CurrentDebtAndCapitalLeaseObligation', 'CurrentDeferredLiabilities',\n",
       "       'CurrentDeferredRevenue', 'CurrentLiabilities', 'FinishedGoods',\n",
       "       'GainsLossesNotAffectingRetainedEarnings', 'GrossAccountsReceivable',\n",
       "       'GrossPPE', 'HedgingAssetsCurrent', 'IncomeTaxPayable', 'Inventory',\n",
       "       'InvestedCapital', 'InvestmentinFinancialAssets',\n",
       "       'InvestmentsAndAdvances', 'LandAndImprovements', 'Leases',\n",
       "       'LongTermCapitalLeaseObligation',\n",
       "       'LongTermDebtAndCapitalLeaseObligation', 'MachineryFurnitureEquipment',\n",
       "       'NetPPE', 'NetTangibleAssets', 'NonCurrentDeferredAssets',\n",
       "       'NonCurrentDeferredLiabilities', 'NonCurrentDeferredRevenue',\n",
       "       'NonCurrentDeferredTaxesAssets', 'OrdinarySharesNumber',\n",
       "       'OtherCurrentAssets', 'OtherCurrentLiabilities',\n",
       "       'OtherNonCurrentAssets', 'OtherNonCurrentLiabilities',\n",
       "       'OtherProperties', 'OtherReceivables', 'OtherShortTermInvestments',\n",
       "       'Payables', 'PayablesAndAccruedExpenses',\n",
       "       'PensionandOtherPostRetirementBenefitPlansCurrent', 'PreferredStock',\n",
       "       'PrepaidAssets', 'Properties', 'RawMaterials', 'Receivables',\n",
       "       'RetainedEarnings', 'ShareIssued', 'StockholdersEquity',\n",
       "       'TangibleBookValue', 'TaxesReceivable', 'TotalAssets',\n",
       "       'TotalCapitalization', 'TotalDebt', 'TotalEquityGrossMinorityInterest',\n",
       "       'TotalLiabilitiesNetMinorityInterest', 'TotalNonCurrentAssets',\n",
       "       'TotalNonCurrentLiabilitiesNetMinorityInterest', 'TotalTaxPayable',\n",
       "       'WorkInProcess', 'WorkingCapital'],\n",
       "      dtype='object')"
      ]
     },
     "execution_count": 12,
     "metadata": {},
     "output_type": "execute_result"
    }
   ],
   "source": [
    "balance_sheet.columns"
   ]
  },
  {
   "cell_type": "markdown",
   "id": "30f4e328-3e05-495c-a87a-b7b42785a5d1",
   "metadata": {
    "tags": []
   },
   "source": [
    "### Debt vs Equity"
   ]
  },
  {
   "cell_type": "code",
   "execution_count": 13,
   "id": "715204b8-bc68-46f8-8020-6feb56ee8507",
   "metadata": {
    "tags": []
   },
   "outputs": [],
   "source": [
    "debt_vs_equity = balance_sheet[['asOfDate', 'TotalDebt', 'CommonStockEquity']]\n",
    "debt_vs_equity = debt_vs_equity.set_index('asOfDate')"
   ]
  },
  {
   "cell_type": "code",
   "execution_count": 14,
   "id": "d045a9fe-a7ea-48a6-aedb-946bb334a934",
   "metadata": {
    "tags": []
   },
   "outputs": [
    {
     "data": {
      "text/html": [
       "<style type=\"text/css\">\n",
       "</style>\n",
       "<table id=\"T_c876d\">\n",
       "  <thead>\n",
       "    <tr>\n",
       "      <th class=\"blank level0\" >&nbsp;</th>\n",
       "      <th id=\"T_c876d_level0_col0\" class=\"col_heading level0 col0\" >TotalDebt</th>\n",
       "      <th id=\"T_c876d_level0_col1\" class=\"col_heading level0 col1\" >CommonStockEquity</th>\n",
       "    </tr>\n",
       "    <tr>\n",
       "      <th class=\"index_name level0\" >asOfDate</th>\n",
       "      <th class=\"blank col0\" >&nbsp;</th>\n",
       "      <th class=\"blank col1\" >&nbsp;</th>\n",
       "    </tr>\n",
       "  </thead>\n",
       "  <tbody>\n",
       "    <tr>\n",
       "      <th id=\"T_c876d_level0_row0\" class=\"row_heading level0 row0\" >2022-03-31 00:00:00</th>\n",
       "      <td id=\"T_c876d_row0_col0\" class=\"data row0 col0\" >947,000,000.00</td>\n",
       "      <td id=\"T_c876d_row0_col1\" class=\"data row0 col1\" >17,075,000,000.00</td>\n",
       "    </tr>\n",
       "    <tr>\n",
       "      <th id=\"T_c876d_level0_row1\" class=\"row_heading level0 row1\" >2022-06-30 00:00:00</th>\n",
       "      <td id=\"T_c876d_row1_col0\" class=\"data row1 col0\" >728,000,000.00</td>\n",
       "      <td id=\"T_c876d_row1_col1\" class=\"data row1 col1\" >17,985,000,000.00</td>\n",
       "    </tr>\n",
       "    <tr>\n",
       "      <th id=\"T_c876d_level0_row2\" class=\"row_heading level0 row2\" >2022-09-30 00:00:00</th>\n",
       "      <td id=\"T_c876d_row2_col0\" class=\"data row2 col0\" >1,261,000,000.00</td>\n",
       "      <td id=\"T_c876d_row2_col1\" class=\"data row2 col1\" >17,992,000,000.00</td>\n",
       "    </tr>\n",
       "    <tr>\n",
       "      <th id=\"T_c876d_level0_row3\" class=\"row_heading level0 row3\" >2022-12-31 00:00:00</th>\n",
       "      <td id=\"T_c876d_row3_col0\" class=\"data row3 col0\" >1,004,000,000.00</td>\n",
       "      <td id=\"T_c876d_row3_col1\" class=\"data row3 col1\" >19,123,000,000.00</td>\n",
       "    </tr>\n",
       "  </tbody>\n",
       "</table>\n"
      ],
      "text/plain": [
       "<pandas.io.formats.style.Styler at 0x1218f2dd0>"
      ]
     },
     "execution_count": 14,
     "metadata": {},
     "output_type": "execute_result"
    }
   ],
   "source": [
    "debt_vs_equity.style.format({\n",
    "    'TotalDebt': '{:,.2f}'.format,    \n",
    "    'CommonStockEquity': '{:,.2f}'.format,\n",
    "})"
   ]
  },
  {
   "cell_type": "code",
   "execution_count": 15,
   "id": "3bfb2ca9-4523-42d7-890a-983cc40e5804",
   "metadata": {
    "tags": []
   },
   "outputs": [
    {
     "data": {
      "image/png": "[encoded data removed]",
      "text/plain": [
       "<Figure size 640x480 with 1 Axes>"
      ]
     },
     "metadata": {},
     "output_type": "display_data"
    }
   ],
   "source": [
    "debt_vs_equity.plot();"
   ]
  },
  {
   "cell_type": "markdown",
   "id": "62e0b17d-49e7-4d17-b42c-c5de15564f91",
   "metadata": {},
   "source": [
    "### Debt/Equity ratio"
   ]
  },
  {
   "cell_type": "code",
   "execution_count": 16,
   "id": "69cc7b88-ae68-4925-aead-30d7657474cc",
   "metadata": {
    "tags": []
   },
   "outputs": [],
   "source": [
    "balance_sheet['TotalDebt/CommonStockEquity']=balance_sheet['TotalDebt']/balance_sheet['CommonStockEquity']\n",
    "\n",
    "debt_equity_ratio = balance_sheet[['asOfDate', 'TotalDebt/CommonStockEquity']]\n",
    "debt_equity_ratio = debt_equity_ratio.set_index('asOfDate')"
   ]
  },
  {
   "cell_type": "code",
   "execution_count": 17,
   "id": "a2a9641e-9719-4073-9228-ed6f21919ccc",
   "metadata": {
    "tags": []
   },
   "outputs": [
    {
     "data": {
      "text/html": [
       "<style type=\"text/css\">\n",
       "</style>\n",
       "<table id=\"T_c142f\">\n",
       "  <thead>\n",
       "    <tr>\n",
       "      <th class=\"blank level0\" >&nbsp;</th>\n",
       "      <th id=\"T_c142f_level0_col0\" class=\"col_heading level0 col0\" >TotalDebt/CommonStockEquity</th>\n",
       "    </tr>\n",
       "    <tr>\n",
       "      <th class=\"index_name level0\" >asOfDate</th>\n",
       "      <th class=\"blank col0\" >&nbsp;</th>\n",
       "    </tr>\n",
       "  </thead>\n",
       "  <tbody>\n",
       "    <tr>\n",
       "      <th id=\"T_c142f_level0_row0\" class=\"row_heading level0 row0\" >2022-03-31 00:00:00</th>\n",
       "      <td id=\"T_c142f_row0_col0\" class=\"data row0 col0\" >5.55%</td>\n",
       "    </tr>\n",
       "    <tr>\n",
       "      <th id=\"T_c142f_level0_row1\" class=\"row_heading level0 row1\" >2022-06-30 00:00:00</th>\n",
       "      <td id=\"T_c142f_row1_col0\" class=\"data row1 col0\" >4.05%</td>\n",
       "    </tr>\n",
       "    <tr>\n",
       "      <th id=\"T_c142f_level0_row2\" class=\"row_heading level0 row2\" >2022-09-30 00:00:00</th>\n",
       "      <td id=\"T_c142f_row2_col0\" class=\"data row2 col0\" >7.01%</td>\n",
       "    </tr>\n",
       "    <tr>\n",
       "      <th id=\"T_c142f_level0_row3\" class=\"row_heading level0 row3\" >2022-12-31 00:00:00</th>\n",
       "      <td id=\"T_c142f_row3_col0\" class=\"data row3 col0\" >5.25%</td>\n",
       "    </tr>\n",
       "  </tbody>\n",
       "</table>\n"
      ],
      "text/plain": [
       "<pandas.io.formats.style.Styler at 0x1218fb510>"
      ]
     },
     "execution_count": 17,
     "metadata": {},
     "output_type": "execute_result"
    }
   ],
   "source": [
    "debt_equity_ratio.style.format({\n",
    "    'TotalDebt/CommonStockEquity': '{:,.2%}'.format\n",
    "})"
   ]
  },
  {
   "cell_type": "code",
   "execution_count": 18,
   "id": "25fde516-19fc-4ff1-a289-c46bdc89568a",
   "metadata": {
    "tags": []
   },
   "outputs": [
    {
     "data": {
      "text/plain": [
       "DatetimeIndex(['2022-03-31', '2022-06-30', '2022-09-30', '2022-12-31'], dtype='datetime64[ns]', name='asOfDate', freq=None)"
      ]
     },
     "execution_count": 18,
     "metadata": {},
     "output_type": "execute_result"
    }
   ],
   "source": [
    "debt_equity_ratio.index"
   ]
  },
  {
   "cell_type": "code",
   "execution_count": 19,
   "id": "9c2985bf-13f9-4720-8fc9-a0b6193bfb4a",
   "metadata": {},
   "outputs": [
    {
     "data": {
      "image/png": "[encoded data removed]",
      "text/plain": [
       "<Figure size 640x480 with 1 Axes>"
      ]
     },
     "metadata": {},
     "output_type": "display_data"
    }
   ],
   "source": [
    "debt_equity_ratio.plot();"
   ]
  },
  {
   "cell_type": "code",
   "execution_count": null,
   "id": "02fb4ae3-bd07-49a2-af3f-e24607d7d790",
   "metadata": {},
   "outputs": [],
   "source": []
  }
 ],
 "metadata": {
  "kernelspec": {
   "display_name": "Python 3 (ipykernel)",
   "language": "python",
   "name": "python3"
  },
  "language_info": {
   "codemirror_mode": {
    "name": "ipython",
    "version": 3
   },
   "file_extension": ".py",
   "mimetype": "text/x-python",
   "name": "python",
   "nbconvert_exporter": "python",
   "pygments_lexer": "ipython3",
   "version": "3.11.2"
  }
 },
 "nbformat": 4,
 "nbformat_minor": 5
}
