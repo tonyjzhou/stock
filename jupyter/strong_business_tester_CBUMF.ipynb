{
 "cells": [
  {
   "cell_type": "markdown",
   "id": "817e3535-7124-4fcb-8d03-4a9177b08e6e",
   "metadata": {},
   "source": [
    "# Strong business tester\n",
    "\n",
    "This notebook tries to test if a business is strong based on some financial parameters:\n",
    "\n",
    "* Strong free cash flow\n",
    "* Strong balance sheet"
   ]
  },
  {
   "cell_type": "code",
   "execution_count": 1,
   "id": "5d4ca22e-5e19-451d-ad80-98f156fcdf61",
   "metadata": {},
   "outputs": [],
   "source": []
  },
  {
   "cell_type": "code",
   "execution_count": 2,
   "id": "9715f194-f801-4685-8ba7-7f948d5fe6e9",
   "metadata": {
    "tags": []
   },
   "outputs": [],
   "source": [
    "from yahooquery import Ticker"
   ]
  },
  {
   "cell_type": "code",
   "execution_count": 3,
   "id": "fe5fb293-1de9-4df4-a916-0d0ce9a27436",
   "metadata": {
    "tags": []
   },
   "outputs": [],
   "source": [
    "symbol = 'CBUMF'"
   ]
  },
  {
   "cell_type": "code",
   "execution_count": 4,
   "id": "9f9cb192-ba12-4818-bb1d-30ba7adf6198",
   "metadata": {},
   "outputs": [],
   "source": [
    "ticker = Ticker(symbol)"
   ]
  },
  {
   "cell_type": "code",
   "execution_count": 5,
   "id": "e0aea78c-419f-41d6-86ac-685bc87d0ab3",
   "metadata": {
    "tags": []
   },
   "outputs": [
    {
     "data": {
      "text/plain": [
       "{'CBUMF': {'address1': 'Guohai Plaza, Tower 2',\n",
       "  'address2': '21st Floor No. 17 Fuxing Road Haidian District',\n",
       "  'city': 'Beijing',\n",
       "  'zip': '100036',\n",
       "  'country': 'China',\n",
       "  'phone': '86 10 6813 8300',\n",
       "  'fax': '86 10 6813 8388',\n",
       "  'website': 'https://www.cnbmltd.com',\n",
       "  'industry': 'Building Materials',\n",
       "  'industryDisp': 'Building Materials',\n",
       "  'sector': 'Basic Materials',\n",
       "  'longBusinessSummary': \"China National Building Material Company Limited, an investment holding company, engages in building material, new materials, and engineering technical services businesses. The company operates in five segments: Cement, Concrete, New materials, Engineering services, and Others. It produces and sells cement, concrete, and glass fiber, as well as composite and lightweight building materials. The company also provides cement and mining technical equipment, and engineering services, as well as transportation and repairment solutions. In addition, it is involved in the merchandise trading and other businesses. The company operates in the People's Republic of China, Europe, the Middle East, Southeast Asia, Oceania, Africa, the Americas, and internationally. China National Building Material Company Limited was founded in 2005 and is based in Beijing, the People's Republic of China.\",\n",
       "  'fullTimeEmployees': 150457,\n",
       "  'companyOfficers': [],\n",
       "  'maxAge': 86400}}"
      ]
     },
     "execution_count": 5,
     "metadata": {},
     "output_type": "execute_result"
    }
   ],
   "source": [
    "ticker.summary_profile"
   ]
  },
  {
   "cell_type": "code",
   "execution_count": 28,
   "id": "81e62ba2-e4ac-45fb-a777-b799eabab89d",
   "metadata": {
    "tags": []
   },
   "outputs": [
    {
     "data": {
      "text/plain": [
       "{'CBUMF': {'address1': 'Guohai Plaza, Tower 2',\n",
       "  'address2': '21st Floor No. 17 Fuxing Road Haidian District',\n",
       "  'city': 'Beijing',\n",
       "  'zip': '100036',\n",
       "  'country': 'China',\n",
       "  'phone': '86 10 6813 8300',\n",
       "  'fax': '86 10 6813 8388',\n",
       "  'website': 'https://www.cnbmltd.com',\n",
       "  'industry': 'Building Materials',\n",
       "  'industryDisp': 'Building Materials',\n",
       "  'sector': 'Basic Materials',\n",
       "  'longBusinessSummary': \"China National Building Material Company Limited, an investment holding company, engages in building material, new materials, and engineering technical services businesses. The company operates in five segments: Cement, Concrete, New materials, Engineering services, and Others. It produces and sells cement, concrete, and glass fiber, as well as composite and lightweight building materials. The company also provides cement and mining technical equipment, and engineering services, as well as transportation and repairment solutions. In addition, it is involved in the merchandise trading and other businesses. The company operates in the People's Republic of China, Europe, the Middle East, Southeast Asia, Oceania, Africa, the Americas, and internationally. China National Building Material Company Limited was founded in 2005 and is based in Beijing, the People's Republic of China.\",\n",
       "  'fullTimeEmployees': 150457,\n",
       "  'companyOfficers': [{'maxAge': 1,\n",
       "    'name': 'Mr. Yuxian  Zhou',\n",
       "    'age': 59,\n",
       "    'title': 'Exec. Chairman',\n",
       "    'yearBorn': 1963,\n",
       "    'fiscalYear': 2022,\n",
       "    'totalPay': 0,\n",
       "    'exercisedValue': 0,\n",
       "    'unexercisedValue': 0},\n",
       "   {'maxAge': 1,\n",
       "    'name': 'Mr. Rushan  Wei',\n",
       "    'age': 48,\n",
       "    'title': 'Pres & Exec. Director',\n",
       "    'yearBorn': 1974,\n",
       "    'fiscalYear': 2022,\n",
       "    'totalPay': 0,\n",
       "    'exercisedValue': 0,\n",
       "    'unexercisedValue': 0},\n",
       "   {'maxAge': 1,\n",
       "    'name': 'Mr. Shou  Peng',\n",
       "    'age': 62,\n",
       "    'title': 'Chief Engineer & Chief Scientist',\n",
       "    'yearBorn': 1960,\n",
       "    'fiscalYear': 2022,\n",
       "    'totalPay': 307939,\n",
       "    'exercisedValue': 0,\n",
       "    'unexercisedValue': 0},\n",
       "   {'maxAge': 1,\n",
       "    'name': 'Mr. Bing  Wang',\n",
       "    'age': 50,\n",
       "    'title': 'VP, Gen. Legal Counsel & Exec. Director',\n",
       "    'yearBorn': 1972,\n",
       "    'fiscalYear': 2022,\n",
       "    'totalPay': 246323,\n",
       "    'exercisedValue': 0,\n",
       "    'unexercisedValue': 0},\n",
       "   {'maxAge': 1,\n",
       "    'name': 'Mr. Jiaxiang  Xiao',\n",
       "    'age': 59,\n",
       "    'title': 'Exec. Director',\n",
       "    'yearBorn': 1963,\n",
       "    'fiscalYear': 2022,\n",
       "    'totalPay': 534047,\n",
       "    'exercisedValue': 0,\n",
       "    'unexercisedValue': 0},\n",
       "   {'maxAge': 1,\n",
       "    'name': 'Mr. Yan  Liu',\n",
       "    'age': 57,\n",
       "    'title': 'Exec. Director',\n",
       "    'yearBorn': 1965,\n",
       "    'fiscalYear': 2022,\n",
       "    'totalPay': 9692,\n",
       "    'exercisedValue': 0,\n",
       "    'unexercisedValue': 0},\n",
       "   {'maxAge': 1,\n",
       "    'name': 'Mr. Zhangli  Chang',\n",
       "    'age': 52,\n",
       "    'title': 'Non-Exec. Director',\n",
       "    'yearBorn': 1970,\n",
       "    'fiscalYear': 2022,\n",
       "    'totalPay': 0,\n",
       "    'exercisedValue': 0,\n",
       "    'unexercisedValue': 0},\n",
       "   {'maxAge': 1,\n",
       "    'name': \"Mr. Xue'an  Chen\",\n",
       "    'age': 58,\n",
       "    'title': 'CFO & VP',\n",
       "    'yearBorn': 1964,\n",
       "    'exercisedValue': 0,\n",
       "    'unexercisedValue': 0},\n",
       "   {'maxAge': 1,\n",
       "    'name': 'Ms. HongYan  Pei FCCA',\n",
       "    'age': 49,\n",
       "    'title': 'Chief Accountant & Company Sec.',\n",
       "    'yearBorn': 1973,\n",
       "    'exercisedValue': 0,\n",
       "    'unexercisedValue': 0},\n",
       "   {'maxAge': 1,\n",
       "    'name': 'Ms. Guangyuan  Du',\n",
       "    'age': 44,\n",
       "    'title': 'Staff Representative Supervisor & GM of Legal Compliance Department',\n",
       "    'yearBorn': 1978,\n",
       "    'exercisedValue': 0,\n",
       "    'unexercisedValue': 0}],\n",
       "  'auditRisk': 6,\n",
       "  'boardRisk': 10,\n",
       "  'compensationRisk': 5,\n",
       "  'shareHolderRightsRisk': 9,\n",
       "  'overallRisk': 9,\n",
       "  'governanceEpochDate': '2023-06-30 19:00:00',\n",
       "  'compensationAsOfEpochDate': '2022-12-30 18:00:00',\n",
       "  'maxAge': 86400}}"
      ]
     },
     "execution_count": 28,
     "metadata": {},
     "output_type": "execute_result"
    }
   ],
   "source": [
    "ticker.asset_profile"
   ]
  },
  {
   "cell_type": "code",
   "execution_count": 6,
   "id": "f5fc17db-30e1-45dc-a1cd-3be36b141279",
   "metadata": {
    "tags": []
   },
   "outputs": [
    {
     "data": {
      "text/plain": [
       "{'maxAge': 1,\n",
       " 'priceHint': 4,\n",
       " 'previousClose': 0.5667,\n",
       " 'open': 0.5667,\n",
       " 'dayLow': 0.5667,\n",
       " 'dayHigh': 0.5667,\n",
       " 'regularMarketPreviousClose': 0.5667,\n",
       " 'regularMarketOpen': 0.5667,\n",
       " 'regularMarketDayLow': 0.5667,\n",
       " 'regularMarketDayHigh': 0.5667,\n",
       " 'dividendRate': 0.05,\n",
       " 'dividendYield': 0.0968,\n",
       " 'exDividendDate': '2023-05-02 19:00:00',\n",
       " 'payoutRatio': 0.7321,\n",
       " 'beta': 1.260576,\n",
       " 'trailingPE': 4.359231,\n",
       " 'volume': 100,\n",
       " 'regularMarketVolume': 100,\n",
       " 'averageVolume': 21,\n",
       " 'averageVolume10days': 0,\n",
       " 'averageDailyVolume10Day': 0,\n",
       " 'marketCap': 4950271488,\n",
       " 'fiftyTwoWeekLow': 0.5667,\n",
       " 'fiftyTwoWeekHigh': 1.12,\n",
       " 'priceToSalesTrailing12Months': 0.022058163,\n",
       " 'fiftyDayAverage': 0.648276,\n",
       " 'twoHundredDayAverage': 0.8463315,\n",
       " 'trailingAnnualDividendRate': 0.378,\n",
       " 'trailingAnnualDividendYield': 0.6670196,\n",
       " 'currency': 'USD',\n",
       " 'fromCurrency': None,\n",
       " 'toCurrency': None,\n",
       " 'lastMarket': None,\n",
       " 'coinMarketCapLink': None,\n",
       " 'algorithm': None,\n",
       " 'tradeable': False}"
      ]
     },
     "execution_count": 6,
     "metadata": {},
     "output_type": "execute_result"
    }
   ],
   "source": [
    "ticker.summary_detail[symbol]"
   ]
  },
  {
   "cell_type": "code",
   "execution_count": 7,
   "id": "4153c11e-6ad3-43ec-a35f-c0ccf2e1a389",
   "metadata": {
    "tags": []
   },
   "outputs": [
    {
     "data": {
      "text/plain": [
       "0.5667"
      ]
     },
     "execution_count": 7,
     "metadata": {},
     "output_type": "execute_result"
    }
   ],
   "source": [
    "fiftyTwoWeekLow = ticker.summary_detail[symbol]['fiftyTwoWeekLow']\n",
    "fiftyTwoWeekLow"
   ]
  },
  {
   "cell_type": "code",
   "execution_count": 8,
   "id": "8eaf4321-dbf3-4ea7-8f71-dd27c5e20ec6",
   "metadata": {
    "tags": []
   },
   "outputs": [
    {
     "data": {
      "text/plain": [
       "1.12"
      ]
     },
     "execution_count": 8,
     "metadata": {},
     "output_type": "execute_result"
    }
   ],
   "source": [
    "fiftyTwoWeekHigh = ticker.summary_detail[symbol]['fiftyTwoWeekHigh']\n",
    "fiftyTwoWeekHigh"
   ]
  },
  {
   "cell_type": "code",
   "execution_count": 9,
   "id": "adc27a82-e012-4812-bf9e-62ccb2f7f5e3",
   "metadata": {
    "tags": []
   },
   "outputs": [
    {
     "data": {
      "text/plain": [
       "0.5533000000000001"
      ]
     },
     "execution_count": 9,
     "metadata": {},
     "output_type": "execute_result"
    }
   ],
   "source": [
    "fiftyTwoWeekDiff = ticker.summary_detail[symbol]['fiftyTwoWeekHigh'] - ticker.summary_detail[symbol]['fiftyTwoWeekLow']\n",
    "fiftyTwoWeekDiff"
   ]
  },
  {
   "cell_type": "code",
   "execution_count": 10,
   "id": "963a8db5-2c2c-41ea-aa46-8baed13e9612",
   "metadata": {
    "tags": []
   },
   "outputs": [
    {
     "data": {
      "text/plain": [
       "0.9763543320981122"
      ]
     },
     "execution_count": 10,
     "metadata": {},
     "output_type": "execute_result"
    }
   ],
   "source": [
    "volatility = fiftyTwoWeekDiff / ticker.summary_detail[symbol]['fiftyTwoWeekLow']\n",
    "volatility"
   ]
  },
  {
   "cell_type": "code",
   "execution_count": null,
   "id": "0904c854-a038-4b08-8b0f-2a941d1d61da",
   "metadata": {},
   "outputs": [],
   "source": []
  },
  {
   "cell_type": "markdown",
   "id": "6eb72e9d-0865-4045-8e84-eebc38a697e4",
   "metadata": {},
   "source": [
    "## Cash flow analysis"
   ]
  },
  {
   "cell_type": "code",
   "execution_count": 11,
   "id": "1249eb01-14ff-4f54-87f9-70f56b2176aa",
   "metadata": {
    "tags": []
   },
   "outputs": [],
   "source": [
    "cash_flow = ticker.cash_flow()"
   ]
  },
  {
   "cell_type": "code",
   "execution_count": 12,
   "id": "1c44d5c6-0e9e-4a07-b666-9472e58657b7",
   "metadata": {
    "tags": []
   },
   "outputs": [
    {
     "data": {
      "text/plain": [
       "pandas.core.frame.DataFrame"
      ]
     },
     "execution_count": 12,
     "metadata": {},
     "output_type": "execute_result"
    }
   ],
   "source": [
    "type(cash_flow)"
   ]
  },
  {
   "cell_type": "code",
   "execution_count": 13,
   "id": "7a12144f-17b6-4987-ad58-522c64524262",
   "metadata": {
    "tags": []
   },
   "outputs": [
    {
     "data": {
      "text/plain": [
       "Index(['asOfDate', 'periodType', 'currencyCode', 'AmortizationCashFlow',\n",
       "       'BeginningCashPosition', 'CapitalExpenditure', 'CashDividendsPaid',\n",
       "       'ChangeInCashSupplementalAsReported', 'ChangeInInventory',\n",
       "       'ChangeInOtherCurrentAssets', 'ChangeInPayable', 'ChangeInReceivables',\n",
       "       'ChangeInWorkingCapital', 'ChangesInCash', 'CommonStockDividendPaid',\n",
       "       'CommonStockIssuance', 'CommonStockPayments', 'Depreciation',\n",
       "       'DepreciationAndAmortization', 'DividendsReceivedCFI',\n",
       "       'EffectOfExchangeRateChanges', 'EndCashPosition', 'FinancingCashFlow',\n",
       "       'FreeCashFlow', 'GainLossOnInvestmentSecurities',\n",
       "       'GainLossOnSaleOfBusiness', 'GainLossOnSaleOfPPE', 'InterestPaidCFF',\n",
       "       'InterestReceivedCFO', 'InvestingCashFlow', 'IssuanceOfCapitalStock',\n",
       "       'IssuanceOfDebt', 'LongTermDebtIssuance', 'LongTermDebtPayments',\n",
       "       'NetBusinessPurchaseAndSale', 'NetCommonStockIssuance',\n",
       "       'NetForeignCurrencyExchangeGainLoss', 'NetIncome',\n",
       "       'NetIncomeFromContinuingOperations', 'NetIntangiblesPurchaseAndSale',\n",
       "       'NetInvestmentPropertiesPurchaseAndSale',\n",
       "       'NetInvestmentPurchaseAndSale', 'NetIssuancePaymentsOfDebt',\n",
       "       'NetLongTermDebtIssuance', 'NetOtherFinancingCharges',\n",
       "       'NetOtherInvestingChanges', 'NetPPEPurchaseAndSale',\n",
       "       'OperatingCashFlow', 'OtherNonCashItems',\n",
       "       'PensionAndEmployeeBenefitExpense', 'ProvisionandWriteOffofAssets',\n",
       "       'PurchaseOfBusiness', 'PurchaseOfIntangibles', 'PurchaseOfInvestment',\n",
       "       'PurchaseOfInvestmentProperties', 'PurchaseOfPPE', 'RepaymentOfDebt',\n",
       "       'RepurchaseOfCapitalStock', 'SaleOfBusiness', 'SaleOfIntangibles',\n",
       "       'SaleOfInvestment', 'SaleOfInvestmentProperties', 'SaleOfPPE',\n",
       "       'StockBasedCompensation', 'TaxesRefundPaid'],\n",
       "      dtype='object')"
      ]
     },
     "execution_count": 13,
     "metadata": {},
     "output_type": "execute_result"
    }
   ],
   "source": [
    "cash_flow.columns"
   ]
  },
  {
   "cell_type": "code",
   "execution_count": 14,
   "id": "79d5b420-025f-47b5-ad4d-370122b89cc1",
   "metadata": {
    "tags": []
   },
   "outputs": [
    {
     "data": {
      "text/html": [
       "<style type=\"text/css\">\n",
       "</style>\n",
       "<table id=\"T_76338\">\n",
       "  <thead>\n",
       "    <tr>\n",
       "      <th class=\"blank level0\" >&nbsp;</th>\n",
       "      <th id=\"T_76338_level0_col0\" class=\"col_heading level0 col0\" >asOfDate</th>\n",
       "      <th id=\"T_76338_level0_col1\" class=\"col_heading level0 col1\" >FreeCashFlow</th>\n",
       "    </tr>\n",
       "    <tr>\n",
       "      <th class=\"index_name level0\" >symbol</th>\n",
       "      <th class=\"blank col0\" >&nbsp;</th>\n",
       "      <th class=\"blank col1\" >&nbsp;</th>\n",
       "    </tr>\n",
       "  </thead>\n",
       "  <tbody>\n",
       "    <tr>\n",
       "      <th id=\"T_76338_level0_row0\" class=\"row_heading level0 row0\" >CBUMF</th>\n",
       "      <td id=\"T_76338_row0_col0\" class=\"data row0 col0\" >2019-12-31 00:00:00</td>\n",
       "      <td id=\"T_76338_row0_col1\" class=\"data row0 col1\" >35,998,985,000.00</td>\n",
       "    </tr>\n",
       "    <tr>\n",
       "      <th id=\"T_76338_level0_row1\" class=\"row_heading level0 row1\" >CBUMF</th>\n",
       "      <td id=\"T_76338_row1_col0\" class=\"data row1 col0\" >2020-12-31 00:00:00</td>\n",
       "      <td id=\"T_76338_row1_col1\" class=\"data row1 col1\" >36,382,235,000.00</td>\n",
       "    </tr>\n",
       "    <tr>\n",
       "      <th id=\"T_76338_level0_row2\" class=\"row_heading level0 row2\" >CBUMF</th>\n",
       "      <td id=\"T_76338_row2_col0\" class=\"data row2 col0\" >2021-12-31 00:00:00</td>\n",
       "      <td id=\"T_76338_row2_col1\" class=\"data row2 col1\" >13,156,253,000.00</td>\n",
       "    </tr>\n",
       "    <tr>\n",
       "      <th id=\"T_76338_level0_row3\" class=\"row_heading level0 row3\" >CBUMF</th>\n",
       "      <td id=\"T_76338_row3_col0\" class=\"data row3 col0\" >2022-12-31 00:00:00</td>\n",
       "      <td id=\"T_76338_row3_col1\" class=\"data row3 col1\" >-4,722,676,000.00</td>\n",
       "    </tr>\n",
       "    <tr>\n",
       "      <th id=\"T_76338_level0_row4\" class=\"row_heading level0 row4\" >CBUMF</th>\n",
       "      <td id=\"T_76338_row4_col0\" class=\"data row4 col0\" >2022-12-31 00:00:00</td>\n",
       "      <td id=\"T_76338_row4_col1\" class=\"data row4 col1\" >-4,722,676,000.00</td>\n",
       "    </tr>\n",
       "  </tbody>\n",
       "</table>\n"
      ],
      "text/plain": [
       "<pandas.io.formats.style.Styler at 0x11f33c350>"
      ]
     },
     "execution_count": 14,
     "metadata": {},
     "output_type": "execute_result"
    }
   ],
   "source": [
    "cash_flow[['asOfDate', 'FreeCashFlow']].style.format({\n",
    "    'FreeCashFlow': '{:,.2f}'.format,\n",
    "})"
   ]
  },
  {
   "cell_type": "markdown",
   "id": "737cf863-ed7d-4039-a49b-58cb202a21d2",
   "metadata": {},
   "source": [
    "### Free cash flow"
   ]
  },
  {
   "cell_type": "code",
   "execution_count": 15,
   "id": "d11eacf0-4428-4be7-ac82-50538cef875c",
   "metadata": {
    "tags": []
   },
   "outputs": [],
   "source": [
    "free_cash_flow = cash_flow[['asOfDate', 'FreeCashFlow']]\n",
    "free_cash_flow = free_cash_flow.set_index('asOfDate')"
   ]
  },
  {
   "cell_type": "code",
   "execution_count": 16,
   "id": "2f4ce0d9-de18-4f6e-b9f0-85b76289cca3",
   "metadata": {
    "tags": []
   },
   "outputs": [
    {
     "data": {
      "image/png": "[encoded data removed]",
      "text/plain": [
       "<Figure size 640x480 with 1 Axes>"
      ]
     },
     "metadata": {},
     "output_type": "display_data"
    }
   ],
   "source": [
    "free_cash_flow.plot();"
   ]
  },
  {
   "cell_type": "markdown",
   "id": "a76252ba-c168-42ba-ad35-244253d79e6b",
   "metadata": {},
   "source": [
    "## Balance sheet analysis"
   ]
  },
  {
   "cell_type": "code",
   "execution_count": 17,
   "id": "8d08f36d-5d76-40f4-ac45-e679b41a4a54",
   "metadata": {
    "tags": []
   },
   "outputs": [],
   "source": [
    "balance_sheet = ticker.balance_sheet(frequency='Quarterly')"
   ]
  },
  {
   "cell_type": "code",
   "execution_count": 18,
   "id": "6f74d02a-34fd-46cd-944c-88d828f337a4",
   "metadata": {
    "tags": []
   },
   "outputs": [
    {
     "data": {
      "text/plain": [
       "pandas.core.frame.DataFrame"
      ]
     },
     "execution_count": 18,
     "metadata": {},
     "output_type": "execute_result"
    }
   ],
   "source": [
    "type(balance_sheet)"
   ]
  },
  {
   "cell_type": "code",
   "execution_count": 19,
   "id": "1d041188-b753-4333-8de7-5c162a82adeb",
   "metadata": {
    "tags": []
   },
   "outputs": [
    {
     "data": {
      "text/plain": [
       "Index(['asOfDate', 'periodType', 'currencyCode', 'AccountsPayable',\n",
       "       'AccountsReceivable', 'AccumulatedDepreciation',\n",
       "       'AssetsHeldForSaleCurrent', 'BuildingsAndImprovements',\n",
       "       'CapitalLeaseObligations', 'CapitalStock', 'CashAndCashEquivalents',\n",
       "       'CashCashEquivalentsAndShortTermInvestments', 'CommonStock',\n",
       "       'CommonStockEquity', 'ConstructionInProgress', 'CurrentAssets',\n",
       "       'CurrentCapitalLeaseObligation', 'CurrentDebt',\n",
       "       'CurrentDebtAndCapitalLeaseObligation', 'CurrentLiabilities',\n",
       "       'DerivativeProductLiabilities', 'DividendsPayable', 'FinancialAssets',\n",
       "       'FinancialAssetsDesignatedasFairValueThroughProfitorLossTotal',\n",
       "       'FinishedGoods', 'Goodwill', 'GoodwillAndOtherIntangibleAssets',\n",
       "       'GrossPPE', 'HedgingAssetsCurrent', 'Inventory', 'InvestedCapital',\n",
       "       'InvestmentProperties', 'InvestmentinFinancialAssets',\n",
       "       'InvestmentsinAssociatesatCost', 'InvestmentsinJointVenturesatCost',\n",
       "       'LandAndImprovements', 'LongTermCapitalLeaseObligation', 'LongTermDebt',\n",
       "       'LongTermDebtAndCapitalLeaseObligation', 'LongTermEquityInvestment',\n",
       "       'MachineryFurnitureEquipment', 'MinorityInterest', 'NetDebt', 'NetPPE',\n",
       "       'NetTangibleAssets', 'NonCurrentDeferredRevenue',\n",
       "       'NonCurrentDeferredTaxesAssets', 'NonCurrentDeferredTaxesLiabilities',\n",
       "       'NonCurrentPrepaidAssets', 'OrdinarySharesNumber',\n",
       "       'OtherEquityInterest', 'OtherIntangibleAssets', 'OtherPayable',\n",
       "       'OtherReceivables', 'OtherShortTermInvestments', 'Payables',\n",
       "       'Properties', 'RawMaterials', 'RestrictedCash', 'ShareIssued',\n",
       "       'StockholdersEquity', 'TangibleBookValue', 'TotalAssets',\n",
       "       'TotalCapitalization', 'TotalDebt', 'TotalEquityGrossMinorityInterest',\n",
       "       'TotalLiabilitiesNetMinorityInterest', 'TotalNonCurrentAssets',\n",
       "       'TotalNonCurrentLiabilitiesNetMinorityInterest', 'TotalTaxPayable',\n",
       "       'TradeandOtherPayablesNonCurrent', 'WorkInProcess', 'WorkingCapital'],\n",
       "      dtype='object')"
      ]
     },
     "execution_count": 19,
     "metadata": {},
     "output_type": "execute_result"
    }
   ],
   "source": [
    "balance_sheet.columns"
   ]
  },
  {
   "cell_type": "markdown",
   "id": "30f4e328-3e05-495c-a87a-b7b42785a5d1",
   "metadata": {
    "tags": []
   },
   "source": [
    "### Debt vs Equity"
   ]
  },
  {
   "cell_type": "code",
   "execution_count": 20,
   "id": "715204b8-bc68-46f8-8020-6feb56ee8507",
   "metadata": {
    "tags": []
   },
   "outputs": [],
   "source": [
    "debt_vs_equity = balance_sheet[['asOfDate', 'TotalDebt', 'CommonStockEquity']]\n",
    "debt_vs_equity = debt_vs_equity.set_index('asOfDate')"
   ]
  },
  {
   "cell_type": "code",
   "execution_count": 21,
   "id": "d045a9fe-a7ea-48a6-aedb-946bb334a934",
   "metadata": {
    "tags": []
   },
   "outputs": [
    {
     "data": {
      "text/html": [
       "<style type=\"text/css\">\n",
       "</style>\n",
       "<table id=\"T_ad57a\">\n",
       "  <thead>\n",
       "    <tr>\n",
       "      <th class=\"blank level0\" >&nbsp;</th>\n",
       "      <th id=\"T_ad57a_level0_col0\" class=\"col_heading level0 col0\" >TotalDebt</th>\n",
       "      <th id=\"T_ad57a_level0_col1\" class=\"col_heading level0 col1\" >CommonStockEquity</th>\n",
       "    </tr>\n",
       "    <tr>\n",
       "      <th class=\"index_name level0\" >asOfDate</th>\n",
       "      <th class=\"blank col0\" >&nbsp;</th>\n",
       "      <th class=\"blank col1\" >&nbsp;</th>\n",
       "    </tr>\n",
       "  </thead>\n",
       "  <tbody>\n",
       "    <tr>\n",
       "      <th id=\"T_ad57a_level0_row0\" class=\"row_heading level0 row0\" >2022-06-30 00:00:00</th>\n",
       "      <td id=\"T_ad57a_row0_col0\" class=\"data row0 col0\" >188,180,245,000.00</td>\n",
       "      <td id=\"T_ad57a_row0_col1\" class=\"data row0 col1\" >122,551,900,000.00</td>\n",
       "    </tr>\n",
       "    <tr>\n",
       "      <th id=\"T_ad57a_level0_row1\" class=\"row_heading level0 row1\" >2022-12-31 00:00:00</th>\n",
       "      <td id=\"T_ad57a_row1_col0\" class=\"data row1 col0\" >176,288,649,000.00</td>\n",
       "      <td id=\"T_ad57a_row1_col1\" class=\"data row1 col1\" >121,795,156,000.00</td>\n",
       "    </tr>\n",
       "  </tbody>\n",
       "</table>\n"
      ],
      "text/plain": [
       "<pandas.io.formats.style.Styler at 0x1208123d0>"
      ]
     },
     "execution_count": 21,
     "metadata": {},
     "output_type": "execute_result"
    }
   ],
   "source": [
    "debt_vs_equity.style.format({\n",
    "    'TotalDebt': '{:,.2f}'.format,    \n",
    "    'CommonStockEquity': '{:,.2f}'.format,\n",
    "})"
   ]
  },
  {
   "cell_type": "code",
   "execution_count": 22,
   "id": "3bfb2ca9-4523-42d7-890a-983cc40e5804",
   "metadata": {
    "tags": []
   },
   "outputs": [
    {
     "data": {
      "image/png": "[encoded data removed]",
      "text/plain": [
       "<Figure size 640x480 with 1 Axes>"
      ]
     },
     "metadata": {},
     "output_type": "display_data"
    }
   ],
   "source": [
    "debt_vs_equity.plot();"
   ]
  },
  {
   "cell_type": "markdown",
   "id": "62e0b17d-49e7-4d17-b42c-c5de15564f91",
   "metadata": {},
   "source": [
    "### Debt/Equity ratio"
   ]
  },
  {
   "cell_type": "code",
   "execution_count": 23,
   "id": "69cc7b88-ae68-4925-aead-30d7657474cc",
   "metadata": {
    "tags": []
   },
   "outputs": [],
   "source": [
    "balance_sheet['TotalDebt/CommonStockEquity']=balance_sheet['TotalDebt']/balance_sheet['CommonStockEquity']\n",
    "\n",
    "debt_equity_ratio = balance_sheet[['asOfDate', 'TotalDebt/CommonStockEquity']]\n",
    "debt_equity_ratio = debt_equity_ratio.set_index('asOfDate')"
   ]
  },
  {
   "cell_type": "code",
   "execution_count": 24,
   "id": "a2a9641e-9719-4073-9228-ed6f21919ccc",
   "metadata": {
    "tags": []
   },
   "outputs": [
    {
     "data": {
      "text/html": [
       "<style type=\"text/css\">\n",
       "</style>\n",
       "<table id=\"T_f18b5\">\n",
       "  <thead>\n",
       "    <tr>\n",
       "      <th class=\"blank level0\" >&nbsp;</th>\n",
       "      <th id=\"T_f18b5_level0_col0\" class=\"col_heading level0 col0\" >TotalDebt/CommonStockEquity</th>\n",
       "    </tr>\n",
       "    <tr>\n",
       "      <th class=\"index_name level0\" >asOfDate</th>\n",
       "      <th class=\"blank col0\" >&nbsp;</th>\n",
       "    </tr>\n",
       "  </thead>\n",
       "  <tbody>\n",
       "    <tr>\n",
       "      <th id=\"T_f18b5_level0_row0\" class=\"row_heading level0 row0\" >2022-06-30 00:00:00</th>\n",
       "      <td id=\"T_f18b5_row0_col0\" class=\"data row0 col0\" >153.55%</td>\n",
       "    </tr>\n",
       "    <tr>\n",
       "      <th id=\"T_f18b5_level0_row1\" class=\"row_heading level0 row1\" >2022-12-31 00:00:00</th>\n",
       "      <td id=\"T_f18b5_row1_col0\" class=\"data row1 col0\" >144.74%</td>\n",
       "    </tr>\n",
       "  </tbody>\n",
       "</table>\n"
      ],
      "text/plain": [
       "<pandas.io.formats.style.Styler at 0x1208dfd90>"
      ]
     },
     "execution_count": 24,
     "metadata": {},
     "output_type": "execute_result"
    }
   ],
   "source": [
    "debt_equity_ratio.style.format({\n",
    "    'TotalDebt/CommonStockEquity': '{:,.2%}'.format\n",
    "})"
   ]
  },
  {
   "cell_type": "code",
   "execution_count": 25,
   "id": "25fde516-19fc-4ff1-a289-c46bdc89568a",
   "metadata": {
    "tags": []
   },
   "outputs": [
    {
     "data": {
      "text/plain": [
       "DatetimeIndex(['2022-06-30', '2022-12-31'], dtype='datetime64[ns]', name='asOfDate', freq=None)"
      ]
     },
     "execution_count": 25,
     "metadata": {},
     "output_type": "execute_result"
    }
   ],
   "source": [
    "debt_equity_ratio.index"
   ]
  },
  {
   "cell_type": "code",
   "execution_count": 26,
   "id": "9c2985bf-13f9-4720-8fc9-a0b6193bfb4a",
   "metadata": {},
   "outputs": [
    {
     "data": {
      "image/png": "[encoded data removed]",
      "text/plain": [
       "<Figure size 640x480 with 1 Axes>"
      ]
     },
     "metadata": {},
     "output_type": "display_data"
    }
   ],
   "source": [
    "debt_equity_ratio.plot();"
   ]
  },
  {
   "cell_type": "code",
   "execution_count": null,
   "id": "02fb4ae3-bd07-49a2-af3f-e24607d7d790",
   "metadata": {},
   "outputs": [],
   "source": []
  }
 ],
 "metadata": {
  "kernelspec": {
   "display_name": "Python 3 (ipykernel)",
   "language": "python",
   "name": "python3"
  },
  "language_info": {
   "codemirror_mode": {
    "name": "ipython",
    "version": 3
   },
   "file_extension": ".py",
   "mimetype": "text/x-python",
   "name": "python",
   "nbconvert_exporter": "python",
   "pygments_lexer": "ipython3",
   "version": "3.11.2"
  }
 },
 "nbformat": 4,
 "nbformat_minor": 5
}
