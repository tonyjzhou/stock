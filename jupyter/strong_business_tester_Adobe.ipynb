{
 "cells": [
  {
   "cell_type": "markdown",
   "id": "817e3535-7124-4fcb-8d03-4a9177b08e6e",
   "metadata": {},
   "source": [
    "# Strong business tester\n",
    "\n",
    "This notebook tries to test if a business is strong based on some financial parameters:\n",
    "\n",
    "* Strong free cash flow\n",
    "* Strong balance sheet"
   ]
  },
  {
   "cell_type": "code",
   "execution_count": 1,
   "id": "5d4ca22e-5e19-451d-ad80-98f156fcdf61",
   "metadata": {},
   "outputs": [],
   "source": [
    "import matplotlib.pyplot as plt"
   ]
  },
  {
   "cell_type": "code",
   "execution_count": 2,
   "id": "9715f194-f801-4685-8ba7-7f948d5fe6e9",
   "metadata": {
    "tags": []
   },
   "outputs": [],
   "source": [
    "from yahooquery import Ticker"
   ]
  },
  {
   "cell_type": "code",
   "execution_count": 3,
   "id": "fe5fb293-1de9-4df4-a916-0d0ce9a27436",
   "metadata": {
    "tags": []
   },
   "outputs": [],
   "source": [
    "ticker = Ticker('adbe')"
   ]
  },
  {
   "cell_type": "markdown",
   "id": "6eb72e9d-0865-4045-8e84-eebc38a697e4",
   "metadata": {},
   "source": [
    "## Cash flow analysis"
   ]
  },
  {
   "cell_type": "code",
   "execution_count": 4,
   "id": "1249eb01-14ff-4f54-87f9-70f56b2176aa",
   "metadata": {
    "tags": []
   },
   "outputs": [],
   "source": [
    "cash_flow = ticker.cash_flow()"
   ]
  },
  {
   "cell_type": "code",
   "execution_count": 5,
   "id": "1c44d5c6-0e9e-4a07-b666-9472e58657b7",
   "metadata": {
    "tags": []
   },
   "outputs": [
    {
     "data": {
      "text/plain": [
       "pandas.core.frame.DataFrame"
      ]
     },
     "execution_count": 5,
     "metadata": {},
     "output_type": "execute_result"
    }
   ],
   "source": [
    "type(cash_flow)"
   ]
  },
  {
   "cell_type": "code",
   "execution_count": 6,
   "id": "7a12144f-17b6-4987-ad58-522c64524262",
   "metadata": {
    "tags": []
   },
   "outputs": [
    {
     "data": {
      "text/plain": [
       "Index(['asOfDate', 'periodType', 'currencyCode', 'BeginningCashPosition',\n",
       "       'CapitalExpenditure', 'CashFlowFromContinuingFinancingActivities',\n",
       "       'CashFlowFromContinuingInvestingActivities',\n",
       "       'CashFlowFromContinuingOperatingActivities', 'ChangeInAccountPayable',\n",
       "       'ChangeInAccruedExpense', 'ChangeInCashSupplementalAsReported',\n",
       "       'ChangeInIncomeTaxPayable', 'ChangeInOtherWorkingCapital',\n",
       "       'ChangeInPayable', 'ChangeInPayablesAndAccruedExpense',\n",
       "       'ChangeInPrepaidAssets', 'ChangeInReceivables', 'ChangeInTaxPayable',\n",
       "       'ChangeInWorkingCapital', 'ChangesInAccountReceivables',\n",
       "       'ChangesInCash', 'CommonStockIssuance', 'CommonStockPayments',\n",
       "       'DeferredIncomeTax', 'DeferredTax', 'Depreciation',\n",
       "       'DepreciationAmortizationDepletion', 'DepreciationAndAmortization',\n",
       "       'EffectOfExchangeRateChanges', 'EndCashPosition', 'FinancingCashFlow',\n",
       "       'FreeCashFlow', 'GainLossOnSaleOfPPE', 'IncomeTaxPaidSupplementalData',\n",
       "       'InterestPaidSupplementalData', 'InvestingCashFlow',\n",
       "       'IssuanceOfCapitalStock', 'IssuanceOfDebt', 'LongTermDebtIssuance',\n",
       "       'LongTermDebtPayments', 'NetBusinessPurchaseAndSale',\n",
       "       'NetCommonStockIssuance', 'NetIncome',\n",
       "       'NetIncomeFromContinuingOperations', 'NetInvestmentPurchaseAndSale',\n",
       "       'NetIssuancePaymentsOfDebt', 'NetLongTermDebtIssuance',\n",
       "       'NetOtherFinancingCharges', 'NetPPEPurchaseAndSale',\n",
       "       'OperatingCashFlow', 'OperatingGainsLosses', 'OtherNonCashItems',\n",
       "       'PurchaseOfBusiness', 'PurchaseOfInvestment', 'PurchaseOfPPE',\n",
       "       'RepaymentOfDebt', 'RepurchaseOfCapitalStock', 'SaleOfInvestment',\n",
       "       'StockBasedCompensation', 'UnrealizedGainLossOnInvestmentSecurities'],\n",
       "      dtype='object')"
      ]
     },
     "execution_count": 6,
     "metadata": {},
     "output_type": "execute_result"
    }
   ],
   "source": [
    "cash_flow.columns"
   ]
  },
  {
   "cell_type": "code",
   "execution_count": 7,
   "id": "79d5b420-025f-47b5-ad4d-370122b89cc1",
   "metadata": {
    "tags": []
   },
   "outputs": [
    {
     "data": {
      "text/html": [
       "<style type=\"text/css\">\n",
       "</style>\n",
       "<table id=\"T_aa44e\">\n",
       "  <thead>\n",
       "    <tr>\n",
       "      <th class=\"blank level0\" >&nbsp;</th>\n",
       "      <th id=\"T_aa44e_level0_col0\" class=\"col_heading level0 col0\" >asOfDate</th>\n",
       "      <th id=\"T_aa44e_level0_col1\" class=\"col_heading level0 col1\" >FreeCashFlow</th>\n",
       "    </tr>\n",
       "    <tr>\n",
       "      <th class=\"index_name level0\" >symbol</th>\n",
       "      <th class=\"blank col0\" >&nbsp;</th>\n",
       "      <th class=\"blank col1\" >&nbsp;</th>\n",
       "    </tr>\n",
       "  </thead>\n",
       "  <tbody>\n",
       "    <tr>\n",
       "      <th id=\"T_aa44e_level0_row0\" class=\"row_heading level0 row0\" >adbe</th>\n",
       "      <td id=\"T_aa44e_row0_col0\" class=\"data row0 col0\" >2019-11-30 00:00:00</td>\n",
       "      <td id=\"T_aa44e_row0_col1\" class=\"data row0 col1\" >4,087,333,000.00</td>\n",
       "    </tr>\n",
       "    <tr>\n",
       "      <th id=\"T_aa44e_level0_row1\" class=\"row_heading level0 row1\" >adbe</th>\n",
       "      <td id=\"T_aa44e_row1_col0\" class=\"data row1 col0\" >2020-11-30 00:00:00</td>\n",
       "      <td id=\"T_aa44e_row1_col1\" class=\"data row1 col1\" >5,308,000,000.00</td>\n",
       "    </tr>\n",
       "    <tr>\n",
       "      <th id=\"T_aa44e_level0_row2\" class=\"row_heading level0 row2\" >adbe</th>\n",
       "      <td id=\"T_aa44e_row2_col0\" class=\"data row2 col0\" >2021-11-30 00:00:00</td>\n",
       "      <td id=\"T_aa44e_row2_col1\" class=\"data row2 col1\" >6,893,000,000.00</td>\n",
       "    </tr>\n",
       "    <tr>\n",
       "      <th id=\"T_aa44e_level0_row3\" class=\"row_heading level0 row3\" >adbe</th>\n",
       "      <td id=\"T_aa44e_row3_col0\" class=\"data row3 col0\" >2022-11-30 00:00:00</td>\n",
       "      <td id=\"T_aa44e_row3_col1\" class=\"data row3 col1\" >7,396,000,000.00</td>\n",
       "    </tr>\n",
       "    <tr>\n",
       "      <th id=\"T_aa44e_level0_row4\" class=\"row_heading level0 row4\" >adbe</th>\n",
       "      <td id=\"T_aa44e_row4_col0\" class=\"data row4 col0\" >2022-11-30 00:00:00</td>\n",
       "      <td id=\"T_aa44e_row4_col1\" class=\"data row4 col1\" >7,396,000,000.00</td>\n",
       "    </tr>\n",
       "    <tr>\n",
       "      <th id=\"T_aa44e_level0_row5\" class=\"row_heading level0 row5\" >adbe</th>\n",
       "      <td id=\"T_aa44e_row5_col0\" class=\"data row5 col0\" >2023-02-28 00:00:00</td>\n",
       "      <td id=\"T_aa44e_row5_col1\" class=\"data row5 col1\" >7,319,000,000.00</td>\n",
       "    </tr>\n",
       "  </tbody>\n",
       "</table>\n"
      ],
      "text/plain": [
       "<pandas.io.formats.style.Styler at 0x1203c0550>"
      ]
     },
     "execution_count": 7,
     "metadata": {},
     "output_type": "execute_result"
    }
   ],
   "source": [
    "cash_flow[['asOfDate', 'FreeCashFlow']].style.format({\n",
    "    'FreeCashFlow': '{:,.2f}'.format,\n",
    "})"
   ]
  },
  {
   "cell_type": "markdown",
   "id": "737cf863-ed7d-4039-a49b-58cb202a21d2",
   "metadata": {},
   "source": [
    "### Free cash flow"
   ]
  },
  {
   "cell_type": "code",
   "execution_count": 8,
   "id": "d11eacf0-4428-4be7-ac82-50538cef875c",
   "metadata": {
    "tags": []
   },
   "outputs": [],
   "source": [
    "free_cash_flow = cash_flow[['asOfDate', 'FreeCashFlow']]\n",
    "free_cash_flow = free_cash_flow.set_index('asOfDate')"
   ]
  },
  {
   "cell_type": "code",
   "execution_count": 9,
   "id": "2f4ce0d9-de18-4f6e-b9f0-85b76289cca3",
   "metadata": {
    "tags": []
   },
   "outputs": [
    {
     "data": {
      "image/png": "[encoded data removed]",
      "text/plain": [
       "<Figure size 640x480 with 1 Axes>"
      ]
     },
     "metadata": {},
     "output_type": "display_data"
    }
   ],
   "source": [
    "free_cash_flow.plot();"
   ]
  },
  {
   "cell_type": "markdown",
   "id": "a76252ba-c168-42ba-ad35-244253d79e6b",
   "metadata": {},
   "source": [
    "## Balance sheet analysis"
   ]
  },
  {
   "cell_type": "code",
   "execution_count": 10,
   "id": "8d08f36d-5d76-40f4-ac45-e679b41a4a54",
   "metadata": {
    "tags": []
   },
   "outputs": [],
   "source": [
    "balance_sheet = ticker.balance_sheet(frequency='Quarterly')"
   ]
  },
  {
   "cell_type": "code",
   "execution_count": 11,
   "id": "6f74d02a-34fd-46cd-944c-88d828f337a4",
   "metadata": {
    "tags": []
   },
   "outputs": [
    {
     "data": {
      "text/plain": [
       "pandas.core.frame.DataFrame"
      ]
     },
     "execution_count": 11,
     "metadata": {},
     "output_type": "execute_result"
    }
   ],
   "source": [
    "type(balance_sheet)"
   ]
  },
  {
   "cell_type": "code",
   "execution_count": 12,
   "id": "1d041188-b753-4333-8de7-5c162a82adeb",
   "metadata": {
    "tags": []
   },
   "outputs": [
    {
     "data": {
      "text/plain": [
       "Index(['asOfDate', 'periodType', 'currencyCode', 'AccountsPayable',\n",
       "       'AccountsReceivable', 'AccumulatedDepreciation',\n",
       "       'AdditionalPaidInCapital', 'AllowanceForDoubtfulAccountsReceivable',\n",
       "       'BuildingsAndImprovements', 'CapitalLeaseObligations', 'CapitalStock',\n",
       "       'CashAndCashEquivalents', 'CashCashEquivalentsAndShortTermInvestments',\n",
       "       'CashEquivalents', 'CashFinancial', 'CommonStock', 'CommonStockEquity',\n",
       "       'ConstructionInProgress', 'CurrentAccruedExpenses', 'CurrentAssets',\n",
       "       'CurrentCapitalLeaseObligation', 'CurrentDebt',\n",
       "       'CurrentDebtAndCapitalLeaseObligation', 'CurrentDeferredLiabilities',\n",
       "       'CurrentDeferredRevenue', 'CurrentLiabilities',\n",
       "       'GainsLossesNotAffectingRetainedEarnings', 'Goodwill',\n",
       "       'GoodwillAndOtherIntangibleAssets', 'GrossAccountsReceivable',\n",
       "       'GrossPPE', 'IncomeTaxPayable', 'InterestPayable', 'InvestedCapital',\n",
       "       'LandAndImprovements', 'Leases', 'LongTermCapitalLeaseObligation',\n",
       "       'LongTermDebt', 'LongTermDebtAndCapitalLeaseObligation',\n",
       "       'MachineryFurnitureEquipment', 'NetDebt', 'NetPPE', 'NetTangibleAssets',\n",
       "       'NonCurrentDeferredAssets', 'NonCurrentDeferredLiabilities',\n",
       "       'NonCurrentDeferredRevenue', 'NonCurrentDeferredTaxesAssets',\n",
       "       'NonCurrentDeferredTaxesLiabilities', 'OrdinarySharesNumber',\n",
       "       'OtherCurrentAssets', 'OtherCurrentBorrowings',\n",
       "       'OtherCurrentLiabilities', 'OtherEquityAdjustments',\n",
       "       'OtherIntangibleAssets', 'OtherNonCurrentAssets',\n",
       "       'OtherNonCurrentLiabilities', 'OtherPayable', 'OtherProperties',\n",
       "       'OtherShortTermInvestments', 'Payables', 'PayablesAndAccruedExpenses',\n",
       "       'PensionandOtherPostRetirementBenefitPlansCurrent', 'PreferredStock',\n",
       "       'PrepaidAssets', 'Properties', 'Receivables', 'RetainedEarnings',\n",
       "       'ShareIssued', 'StockholdersEquity', 'TangibleBookValue', 'TotalAssets',\n",
       "       'TotalCapitalization', 'TotalDebt', 'TotalEquityGrossMinorityInterest',\n",
       "       'TotalLiabilitiesNetMinorityInterest', 'TotalNonCurrentAssets',\n",
       "       'TotalNonCurrentLiabilitiesNetMinorityInterest', 'TotalTaxPayable',\n",
       "       'TradeandOtherPayablesNonCurrent', 'TreasurySharesNumber',\n",
       "       'TreasuryStock', 'WorkingCapital'],\n",
       "      dtype='object')"
      ]
     },
     "execution_count": 12,
     "metadata": {},
     "output_type": "execute_result"
    }
   ],
   "source": [
    "balance_sheet.columns"
   ]
  },
  {
   "cell_type": "markdown",
   "id": "30f4e328-3e05-495c-a87a-b7b42785a5d1",
   "metadata": {
    "tags": []
   },
   "source": [
    "### Debt vs Equity"
   ]
  },
  {
   "cell_type": "code",
   "execution_count": 13,
   "id": "715204b8-bc68-46f8-8020-6feb56ee8507",
   "metadata": {
    "tags": []
   },
   "outputs": [],
   "source": [
    "debt_vs_equity = balance_sheet[['asOfDate', 'TotalDebt', 'CommonStockEquity']]\n",
    "debt_vs_equity = debt_vs_equity.set_index('asOfDate')"
   ]
  },
  {
   "cell_type": "code",
   "execution_count": 14,
   "id": "d045a9fe-a7ea-48a6-aedb-946bb334a934",
   "metadata": {
    "tags": []
   },
   "outputs": [
    {
     "data": {
      "text/html": [
       "<style type=\"text/css\">\n",
       "</style>\n",
       "<table id=\"T_22d95\">\n",
       "  <thead>\n",
       "    <tr>\n",
       "      <th class=\"blank level0\" >&nbsp;</th>\n",
       "      <th id=\"T_22d95_level0_col0\" class=\"col_heading level0 col0\" >TotalDebt</th>\n",
       "      <th id=\"T_22d95_level0_col1\" class=\"col_heading level0 col1\" >CommonStockEquity</th>\n",
       "    </tr>\n",
       "    <tr>\n",
       "      <th class=\"index_name level0\" >asOfDate</th>\n",
       "      <th class=\"blank col0\" >&nbsp;</th>\n",
       "      <th class=\"blank col1\" >&nbsp;</th>\n",
       "    </tr>\n",
       "  </thead>\n",
       "  <tbody>\n",
       "    <tr>\n",
       "      <th id=\"T_22d95_level0_row0\" class=\"row_heading level0 row0\" >2022-02-28 00:00:00</th>\n",
       "      <td id=\"T_22d95_row0_col0\" class=\"data row0 col0\" >4,665,000,000.00</td>\n",
       "      <td id=\"T_22d95_row0_col1\" class=\"data row0 col1\" >13,775,000,000.00</td>\n",
       "    </tr>\n",
       "    <tr>\n",
       "      <th id=\"T_22d95_level0_row1\" class=\"row_heading level0 row1\" >2022-05-31 00:00:00</th>\n",
       "      <td id=\"T_22d95_row1_col0\" class=\"data row1 col0\" >4,658,000,000.00</td>\n",
       "      <td id=\"T_22d95_row1_col1\" class=\"data row1 col1\" >13,985,000,000.00</td>\n",
       "    </tr>\n",
       "    <tr>\n",
       "      <th id=\"T_22d95_level0_row2\" class=\"row_heading level0 row2\" >2022-08-31 00:00:00</th>\n",
       "      <td id=\"T_22d95_row2_col0\" class=\"data row2 col0\" >4,641,000,000.00</td>\n",
       "      <td id=\"T_22d95_row2_col1\" class=\"data row2 col1\" >14,373,000,000.00</td>\n",
       "    </tr>\n",
       "    <tr>\n",
       "      <th id=\"T_22d95_level0_row3\" class=\"row_heading level0 row3\" >2022-11-30 00:00:00</th>\n",
       "      <td id=\"T_22d95_row3_col0\" class=\"data row3 col0\" >4,633,000,000.00</td>\n",
       "      <td id=\"T_22d95_row3_col1\" class=\"data row3 col1\" >14,051,000,000.00</td>\n",
       "    </tr>\n",
       "    <tr>\n",
       "      <th id=\"T_22d95_level0_row4\" class=\"row_heading level0 row4\" >2023-02-28 00:00:00</th>\n",
       "      <td id=\"T_22d95_row4_col0\" class=\"data row4 col0\" >4,126,000,000.00</td>\n",
       "      <td id=\"T_22d95_row4_col1\" class=\"data row4 col1\" >14,206,000,000.00</td>\n",
       "    </tr>\n",
       "  </tbody>\n",
       "</table>\n"
      ],
      "text/plain": [
       "<pandas.io.formats.style.Styler at 0x1204f9a10>"
      ]
     },
     "execution_count": 14,
     "metadata": {},
     "output_type": "execute_result"
    }
   ],
   "source": [
    "debt_vs_equity.style.format({\n",
    "    'TotalDebt': '{:,.2f}'.format,    \n",
    "    'CommonStockEquity': '{:,.2f}'.format,\n",
    "})"
   ]
  },
  {
   "cell_type": "code",
   "execution_count": 15,
   "id": "3bfb2ca9-4523-42d7-890a-983cc40e5804",
   "metadata": {
    "tags": []
   },
   "outputs": [
    {
     "data": {
      "image/png": "[encoded data removed]",
      "text/plain": [
       "<Figure size 640x480 with 1 Axes>"
      ]
     },
     "metadata": {},
     "output_type": "display_data"
    }
   ],
   "source": [
    "debt_vs_equity.plot();"
   ]
  },
  {
   "cell_type": "markdown",
   "id": "62e0b17d-49e7-4d17-b42c-c5de15564f91",
   "metadata": {},
   "source": [
    "### Debt/Equity ratio"
   ]
  },
  {
   "cell_type": "code",
   "execution_count": 16,
   "id": "69cc7b88-ae68-4925-aead-30d7657474cc",
   "metadata": {
    "tags": []
   },
   "outputs": [],
   "source": [
    "balance_sheet['TotalDebt/CommonStockEquity']=balance_sheet['TotalDebt']/balance_sheet['CommonStockEquity']\n",
    "\n",
    "debt_equity_ratio = balance_sheet[['asOfDate', 'TotalDebt/CommonStockEquity']]\n",
    "debt_equity_ratio = debt_equity_ratio.set_index('asOfDate')"
   ]
  },
  {
   "cell_type": "code",
   "execution_count": 17,
   "id": "a2a9641e-9719-4073-9228-ed6f21919ccc",
   "metadata": {
    "tags": []
   },
   "outputs": [
    {
     "data": {
      "text/html": [
       "<style type=\"text/css\">\n",
       "</style>\n",
       "<table id=\"T_36eeb\">\n",
       "  <thead>\n",
       "    <tr>\n",
       "      <th class=\"blank level0\" >&nbsp;</th>\n",
       "      <th id=\"T_36eeb_level0_col0\" class=\"col_heading level0 col0\" >TotalDebt/CommonStockEquity</th>\n",
       "    </tr>\n",
       "    <tr>\n",
       "      <th class=\"index_name level0\" >asOfDate</th>\n",
       "      <th class=\"blank col0\" >&nbsp;</th>\n",
       "    </tr>\n",
       "  </thead>\n",
       "  <tbody>\n",
       "    <tr>\n",
       "      <th id=\"T_36eeb_level0_row0\" class=\"row_heading level0 row0\" >2022-02-28 00:00:00</th>\n",
       "      <td id=\"T_36eeb_row0_col0\" class=\"data row0 col0\" >33.87%</td>\n",
       "    </tr>\n",
       "    <tr>\n",
       "      <th id=\"T_36eeb_level0_row1\" class=\"row_heading level0 row1\" >2022-05-31 00:00:00</th>\n",
       "      <td id=\"T_36eeb_row1_col0\" class=\"data row1 col0\" >33.31%</td>\n",
       "    </tr>\n",
       "    <tr>\n",
       "      <th id=\"T_36eeb_level0_row2\" class=\"row_heading level0 row2\" >2022-08-31 00:00:00</th>\n",
       "      <td id=\"T_36eeb_row2_col0\" class=\"data row2 col0\" >32.29%</td>\n",
       "    </tr>\n",
       "    <tr>\n",
       "      <th id=\"T_36eeb_level0_row3\" class=\"row_heading level0 row3\" >2022-11-30 00:00:00</th>\n",
       "      <td id=\"T_36eeb_row3_col0\" class=\"data row3 col0\" >32.97%</td>\n",
       "    </tr>\n",
       "    <tr>\n",
       "      <th id=\"T_36eeb_level0_row4\" class=\"row_heading level0 row4\" >2023-02-28 00:00:00</th>\n",
       "      <td id=\"T_36eeb_row4_col0\" class=\"data row4 col0\" >29.04%</td>\n",
       "    </tr>\n",
       "  </tbody>\n",
       "</table>\n"
      ],
      "text/plain": [
       "<pandas.io.formats.style.Styler at 0x1204a4190>"
      ]
     },
     "execution_count": 17,
     "metadata": {},
     "output_type": "execute_result"
    }
   ],
   "source": [
    "debt_equity_ratio.style.format({\n",
    "    'TotalDebt/CommonStockEquity': '{:,.2%}'.format\n",
    "})"
   ]
  },
  {
   "cell_type": "code",
   "execution_count": 18,
   "id": "25fde516-19fc-4ff1-a289-c46bdc89568a",
   "metadata": {
    "tags": []
   },
   "outputs": [
    {
     "data": {
      "text/plain": [
       "DatetimeIndex(['2022-02-28', '2022-05-31', '2022-08-31', '2022-11-30',\n",
       "               '2023-02-28'],\n",
       "              dtype='datetime64[ns]', name='asOfDate', freq=None)"
      ]
     },
     "execution_count": 18,
     "metadata": {},
     "output_type": "execute_result"
    }
   ],
   "source": [
    "debt_equity_ratio.index"
   ]
  },
  {
   "cell_type": "code",
   "execution_count": 19,
   "id": "9c2985bf-13f9-4720-8fc9-a0b6193bfb4a",
   "metadata": {},
   "outputs": [
    {
     "data": {
      "image/png": "[encoded data removed]",
      "text/plain": [
       "<Figure size 640x480 with 1 Axes>"
      ]
     },
     "metadata": {},
     "output_type": "display_data"
    }
   ],
   "source": [
    "debt_equity_ratio.plot();"
   ]
  },
  {
   "cell_type": "code",
   "execution_count": null,
   "id": "02fb4ae3-bd07-49a2-af3f-e24607d7d790",
   "metadata": {},
   "outputs": [],
   "source": []
  }
 ],
 "metadata": {
  "kernelspec": {
   "display_name": "Python 3 (ipykernel)",
   "language": "python",
   "name": "python3"
  },
  "language_info": {
   "codemirror_mode": {
    "name": "ipython",
    "version": 3
   },
   "file_extension": ".py",
   "mimetype": "text/x-python",
   "name": "python",
   "nbconvert_exporter": "python",
   "pygments_lexer": "ipython3",
   "version": "3.11.2"
  }
 },
 "nbformat": 4,
 "nbformat_minor": 5
}
